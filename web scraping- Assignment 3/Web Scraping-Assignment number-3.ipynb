{
 "cells": [
  {
   "cell_type": "code",
   "execution_count": 159,
   "id": "285cecc5",
   "metadata": {},
   "outputs": [],
   "source": [
    "from bs4 import BeautifulSoup\n",
    "import requests\n",
    "import selenium\n",
    "from selenium import webdriver\n",
    "import warnings\n",
    "warnings.filterwarnings('ignore')\n",
    "from selenium.common.exceptions import StaleElementReferenceException, NoSuchElementException\n",
    "from selenium.webdriver.common.by import By\n",
    "from selenium.webdriver.support.ui import WebDriverWait\n",
    "from selenium.webdriver.support import expected_conditions as EC\n",
    "from selenium.webdriver.remote.webelement import WebElement\n",
    "import time\n",
    "import re\n",
    "import pandas as pd"
   ]
  },
  {
   "cell_type": "markdown",
   "id": "ee1c642b",
   "metadata": {},
   "source": [
    "# 1. Write a python program which searches all the product under a particular product from www.amazon.in. The product to be searched will be taken as input from user. For e.g. If user input is ‘guitar’. Then search for guitars."
   ]
  },
  {
   "cell_type": "code",
   "execution_count": 72,
   "id": "ef152443",
   "metadata": {},
   "outputs": [
    {
     "name": "stdout",
     "output_type": "stream",
     "text": [
      "Enter the product you want to search on Amazon.in: guitar\n"
     ]
    },
    {
     "data": {
      "text/plain": [
       "[]"
      ]
     },
     "execution_count": 72,
     "metadata": {},
     "output_type": "execute_result"
    }
   ],
   "source": [
    "# Take user input for search term\n",
    "search_term = input(\"Enter the product you want to search on Amazon.in: \")\n",
    "\n",
    "# first connect to the driver\n",
    "driver=webdriver.Chrome(r\"C:\\Users\\AnuragMishra\\Downloads\\chromedriver_win32.exe\")\n",
    "\n",
    "# opening the naukari page on selenium automated chrome browser\n",
    "driver.get(f\"https://www.amazon.in/s?k={search_term}\")\n",
    "\n",
    "# Create URL for search results page\n",
    "url = f\"https://www.amazon.in/s?k={search_term}\"\n",
    "\n",
    "# Send request to the URL and get the HTML response\n",
    "response = requests.get(url)\n",
    "html = response.content\n",
    "\n",
    "# Parse the HTML using BeautifulSoup\n",
    "soup = BeautifulSoup(html, \"html.parser\")\n",
    "\n",
    "# Find all the products on the search results page\n",
    "products = soup.find_all(\"div\", {\"class\": \"s-result-item\"})\n",
    "products"
   ]
  },
  {
   "cell_type": "markdown",
   "id": "b6903974",
   "metadata": {},
   "source": [
    "# 2. In the above question, now scrape the following details of each product listed in first 3 pages of your search results and save it in a data frame and csv. In case if any product has less than 3 pages in search results then scrape all the products available under that product name. Details to be scraped are: \"Brand Name\", \"Name of the Product\", \"Price\", \"Return/Exchange\", \"Expected Delivery\", \"Availability\" and “Product URL”. In case, if any of the details are missing for any of the product then replace it by “-“."
   ]
  },
  {
   "cell_type": "code",
   "execution_count": 73,
   "id": "5d609033",
   "metadata": {},
   "outputs": [],
   "source": [
    "product_name=[]\n",
    "price=[]\n",
    "expected_delivery=[]\n",
    "product_url=[]"
   ]
  },
  {
   "cell_type": "code",
   "execution_count": 74,
   "id": "e920486f",
   "metadata": {},
   "outputs": [],
   "source": [
    "start = 0\n",
    "end = 3\n",
    "for page in range(start,end):\n",
    "    pro_tag=driver.find_elements(By.XPATH,'//span[@class=\"a-size-base-plus a-color-base a-text-normal\"]')\n",
    "    for i in pro_tag:\n",
    "        pro_tag1=i.text\n",
    "        product_name.append(pro_tag1)\n",
    "    next_button = driver.find_elements(By.XPATH, 'a[@class=\"s-pagination-item s-pagination-next s-pagination-button s-pagination-separator\"]') #to scrap data from next pages\n",
    "    for button in next_button:\n",
    "        button.click()\n",
    "        time.sleep(3)"
   ]
  },
  {
   "cell_type": "code",
   "execution_count": 75,
   "id": "ef469400",
   "metadata": {},
   "outputs": [],
   "source": [
    "start = 0\n",
    "end = 3\n",
    "for page in range(start,end):\n",
    "    pri=driver.find_elements(By.XPATH,'//span[@class=\"a-price-whole\"]')\n",
    "    for i in pri:\n",
    "        pri1=i.text\n",
    "        price.append(pri1)\n",
    "    next_button = driver.find_elements(By.XPATH, 'a[@class=\"s-pagination-item s-pagination-next s-pagination-button s-pagination-separator\"]') #to scrap data from next pages\n",
    "    for button in next_button:\n",
    "        button.click()\n",
    "        time.sleep(3)"
   ]
  },
  {
   "cell_type": "code",
   "execution_count": 76,
   "id": "971e5b14",
   "metadata": {},
   "outputs": [],
   "source": [
    "start = 0\n",
    "end = 3\n",
    "for page in range(start,end):\n",
    "    deli=driver.find_elements(By.XPATH,'//span[@class=\"a-color-base a-text-bold\"]')\n",
    "    for i in deli:\n",
    "        deli1=i.text\n",
    "        expected_delivery.append(deli1)\n",
    "    next_button = driver.find_elements(By.XPATH, 'a[@class=\"s-pagination-item s-pagination-next s-pagination-button s-pagination-separator\"]') #to scrap data from next pages\n",
    "    for button in next_button:\n",
    "        button.click()\n",
    "        time.sleep(3)"
   ]
  },
  {
   "cell_type": "code",
   "execution_count": 77,
   "id": "0a1f3bf9",
   "metadata": {},
   "outputs": [],
   "source": [
    "start = 0\n",
    "end = 3\n",
    "for page in range(start,end):\n",
    "    p_u=driver.find_elements(By.XPATH,'//a[@class = \"a-link-normal s-underline-text s-underline-link-text s-link-style a-text-normal\"]')\n",
    "    for i in p_u:\n",
    "        p_u1=i.get_attribute('href')\n",
    "        product_url.append(p_u1)\n",
    "    next_button = driver.find_elements(By.XPATH, 'a[@class=\"s-pagination-item s-pagination-next s-pagination-button s-pagination-separator\"]') #to scrap data from next pages\n",
    "    for button in next_button:\n",
    "        button.click()\n",
    "        time.sleep(3)"
   ]
  },
  {
   "cell_type": "code",
   "execution_count": 78,
   "id": "d8d498b9",
   "metadata": {},
   "outputs": [
    {
     "name": "stdout",
     "output_type": "stream",
     "text": [
      "174 177 171 177\n"
     ]
    }
   ],
   "source": [
    "print(len(product_name),len(price),len(expected_delivery),len(product_url))"
   ]
  },
  {
   "cell_type": "code",
   "execution_count": null,
   "id": "4cb2e832",
   "metadata": {},
   "outputs": [],
   "source": [
    "Brand=[]\n",
    "for p_u in product_url:\n",
    "    driver.get(p_u)\n",
    "    time.sleep(2)\n",
    "    \n",
    "    try:\n",
    "        brand=driver.find_element(By.XPATH,'//*[@id=\"productOverview_feature_div\"]/div/table/tbody/tr[1]/td[2]/span')\n",
    "        Brand.append(brand.text)\n",
    "    except NoSuchElementException:\n",
    "        Brand.append('-')"
   ]
  },
  {
   "cell_type": "code",
   "execution_count": null,
   "id": "a2dc855f",
   "metadata": {},
   "outputs": [],
   "source": [
    "df = pd.DataFrame({'Product Name':product_name, 'Price':price, 'Expected Delivery':expected_delivery, 'URL':product_url})\n",
    "df"
   ]
  },
  {
   "cell_type": "markdown",
   "id": "12dda658",
   "metadata": {},
   "source": [
    "# 3. Write a python program to access the search bar and search button on images.google.com and scrape 10 images each for keywords ‘fruits’, ‘cars’ and ‘Machine Learning’, ‘Guitar’, ‘Cakes’."
   ]
  },
  {
   "cell_type": "code",
   "execution_count": 82,
   "id": "f8791a66",
   "metadata": {},
   "outputs": [],
   "source": [
    "# first connect to the driver\n",
    "driver=webdriver.Chrome(r\"C:\\Users\\AnuragMishra\\Downloads\\chromedriver_win32.exe\")"
   ]
  },
  {
   "cell_type": "code",
   "execution_count": 83,
   "id": "fb94f12a",
   "metadata": {},
   "outputs": [],
   "source": [
    "# opening the images.google.com page on selenium automated chrome browser\n",
    "driver.get(\"https://images.google.com/\")"
   ]
  },
  {
   "cell_type": "code",
   "execution_count": 84,
   "id": "8c28acc2",
   "metadata": {},
   "outputs": [],
   "source": [
    "item=driver.find_element(By.CLASS_NAME,\"gLFyf\")\n",
    "item.send_keys('fruits')"
   ]
  },
  {
   "cell_type": "code",
   "execution_count": 88,
   "id": "39c9d0c3",
   "metadata": {},
   "outputs": [],
   "source": [
    "search=driver.find_element(By.XPATH,'//span[@class=\"z1asCe MZy1Rb\"]')\n",
    "search.click()"
   ]
  },
  {
   "cell_type": "code",
   "execution_count": 92,
   "id": "4176e8be",
   "metadata": {},
   "outputs": [
    {
     "name": "stdout",
     "output_type": "stream",
     "text": [
      "Download 0 of 10 images\n",
      "Download 1 of 10 images\n",
      "Download 2 of 10 images\n",
      "Download 3 of 10 images\n",
      "Download 4 of 10 images\n",
      "Download 5 of 10 images\n",
      "Download 6 of 10 images\n",
      "Download 7 of 10 images\n",
      "Download 8 of 10 images\n",
      "Download 9 of 10 images\n",
      "Download 10 of 10 images\n"
     ]
    }
   ],
   "source": [
    "for _ in range(20):\n",
    "    driver.execute_script(\"window.scrollBy(0,1000)\")\n",
    "    \n",
    "images=driver.find_elements(By.XPATH,'//img[@class=\"rg_i Q4LuWd\"]')\n",
    "\n",
    "img_urls = []\n",
    "img_data = []\n",
    "\n",
    "for image in images:\n",
    "    source = image.get_attribute('src')\n",
    "    if source is not None:\n",
    "        if(source[0:4] == 'http'):\n",
    "            img_urls.append(source)\n",
    "            \n",
    "for i in range(len(img_urls)):\n",
    "    if i>10:\n",
    "        break\n",
    "    print(\"Download {0} of {1} images\".format(i,10))\n",
    "    response = requests.get(img_urls[i])\n",
    "    file = open(r\"C:\\Users\\AnuragMishra\\Desktop\\IMG\"+str(i)+\".jpg\", \"wb\")\n",
    "    file.write(response.content)"
   ]
  },
  {
   "cell_type": "markdown",
   "id": "b79df67d",
   "metadata": {},
   "source": [
    "# cars"
   ]
  },
  {
   "cell_type": "code",
   "execution_count": 94,
   "id": "30f323ea",
   "metadata": {},
   "outputs": [],
   "source": [
    "# first connect to the driver\n",
    "driver=webdriver.Chrome(r\"C:\\Users\\AnuragMishra\\Downloads\\chromedriver_win32.exe\")\n",
    "\n",
    "# opening the naukari page on selenium automated chrome browser\n",
    "driver.get(\"https://images.google.com/\")\n",
    "\n",
    "item=driver.find_element(By.CLASS_NAME,\"gLFyf\")\n",
    "item.send_keys('cars')\n",
    "\n",
    "search=driver.find_element(By.XPATH,'//span[@class=\"z1asCe MZy1Rb\"]')\n",
    "search.click()"
   ]
  },
  {
   "cell_type": "code",
   "execution_count": 96,
   "id": "a443613c",
   "metadata": {},
   "outputs": [
    {
     "name": "stdout",
     "output_type": "stream",
     "text": [
      "Download 0 of 10 images\n",
      "Download 1 of 10 images\n",
      "Download 2 of 10 images\n",
      "Download 3 of 10 images\n",
      "Download 4 of 10 images\n",
      "Download 5 of 10 images\n",
      "Download 6 of 10 images\n",
      "Download 7 of 10 images\n",
      "Download 8 of 10 images\n",
      "Download 9 of 10 images\n",
      "Download 10 of 10 images\n"
     ]
    }
   ],
   "source": [
    "for _ in range(20):\n",
    "    driver.execute_script(\"window.scrollBy(0,1000)\")\n",
    "    \n",
    "images=driver.find_elements(By.XPATH,'//img[@class=\"rg_i Q4LuWd\"]')\n",
    "\n",
    "img_urls = []\n",
    "img_data = []\n",
    "\n",
    "for image in images:\n",
    "    source = image.get_attribute('src')\n",
    "    if source is not None:\n",
    "        if(source[0:4] == 'http'):\n",
    "            img_urls.append(source)\n",
    "            \n",
    "for i in range(len(img_urls)):\n",
    "    if i>10:\n",
    "        break\n",
    "    print(\"Download {0} of {1} images\".format(i,10))\n",
    "    response = requests.get(img_urls[i])\n",
    "    file = open(r\"C:\\Users\\AnuragMishra\\Desktop\\CARS\"+str(i)+\".jpg\", \"wb\")\n",
    "    file.write(response.content)"
   ]
  },
  {
   "cell_type": "markdown",
   "id": "f81dada1",
   "metadata": {},
   "source": [
    "# Machine learning"
   ]
  },
  {
   "cell_type": "code",
   "execution_count": 100,
   "id": "3b99c66f",
   "metadata": {},
   "outputs": [],
   "source": [
    "# first connect to the driver\n",
    "driver=webdriver.Chrome(r\"C:\\Users\\AnuragMishra\\Downloads\\chromedriver_win32.exe\")\n",
    "\n",
    "# opening the naukari page on selenium automated chrome browser\n",
    "driver.get(\"https://images.google.com/\")\n",
    "\n",
    "item=driver.find_element(By.CLASS_NAME,\"gLFyf\")\n",
    "item.send_keys('Machine Learning')\n",
    "\n",
    "search=driver.find_element(By.XPATH,'//span[@class=\"z1asCe MZy1Rb\"]')\n",
    "search.click()"
   ]
  },
  {
   "cell_type": "code",
   "execution_count": 103,
   "id": "4a1640c1",
   "metadata": {},
   "outputs": [
    {
     "name": "stdout",
     "output_type": "stream",
     "text": [
      "Download 0 of 10 images\n",
      "Download 1 of 10 images\n",
      "Download 2 of 10 images\n",
      "Download 3 of 10 images\n",
      "Download 4 of 10 images\n",
      "Download 5 of 10 images\n",
      "Download 6 of 10 images\n",
      "Download 7 of 10 images\n",
      "Download 8 of 10 images\n",
      "Download 9 of 10 images\n",
      "Download 10 of 10 images\n"
     ]
    }
   ],
   "source": [
    "for _ in range(20):\n",
    "    driver.execute_script(\"window.scrollBy(0,1000)\")\n",
    "    \n",
    "images=driver.find_elements(By.XPATH,'//img[@class=\"rg_i Q4LuWd\"]')\n",
    "\n",
    "img_urls = []\n",
    "img_data = []\n",
    "\n",
    "for image in images:\n",
    "    source = image.get_attribute('src')\n",
    "    if source is not None:\n",
    "        if(source[0:4] == 'http'):\n",
    "            img_urls.append(source)\n",
    "            \n",
    "for i in range(len(img_urls)):\n",
    "    if i>10:\n",
    "        break\n",
    "    print(\"Download {0} of {1} images\".format(i,10))\n",
    "    response = requests.get(img_urls[i])\n",
    "    file = open(r\"C:\\Users\\AnuragMishra\\Desktop\\ML\"+str(i)+\".jpg\", \"wb\")\n",
    "    file.write(response.content)"
   ]
  },
  {
   "cell_type": "markdown",
   "id": "abe71940",
   "metadata": {},
   "source": [
    "# Guitar"
   ]
  },
  {
   "cell_type": "code",
   "execution_count": 104,
   "id": "18a3e348",
   "metadata": {},
   "outputs": [],
   "source": [
    "# first connect to the driver\n",
    "driver=webdriver.Chrome(r\"C:\\Users\\AnuragMishra\\Downloads\\chromedriver_win32.exe\")\n",
    "\n",
    "# opening the naukari page on selenium automated chrome browser\n",
    "driver.get(\"https://images.google.com/\")\n",
    "\n",
    "item=driver.find_element(By.CLASS_NAME,\"gLFyf\")\n",
    "item.send_keys('Guitars')\n",
    "\n",
    "search=driver.find_element(By.XPATH,'//span[@class=\"z1asCe MZy1Rb\"]')\n",
    "search.click()"
   ]
  },
  {
   "cell_type": "code",
   "execution_count": 106,
   "id": "aee3d222",
   "metadata": {},
   "outputs": [
    {
     "name": "stdout",
     "output_type": "stream",
     "text": [
      "Download 0 of 10 images\n",
      "Download 1 of 10 images\n",
      "Download 2 of 10 images\n",
      "Download 3 of 10 images\n",
      "Download 4 of 10 images\n",
      "Download 5 of 10 images\n",
      "Download 6 of 10 images\n"
     ]
    }
   ],
   "source": [
    "for _ in range(20):\n",
    "    driver.execute_script(\"window.scrollBy(0,1000)\")\n",
    "    \n",
    "images=driver.find_elements(By.XPATH,'//img[@class=\"rg_i Q4LuWd\"]')\n",
    "\n",
    "img_urls = []\n",
    "img_data = []\n",
    "\n",
    "for image in images:\n",
    "    source = image.get_attribute('src')\n",
    "    if source is not None:\n",
    "        if(source[0:4] == 'http'):\n",
    "            img_urls.append(source)\n",
    "            \n",
    "for i in range(len(img_urls)):\n",
    "    if i>10:\n",
    "        break\n",
    "    print(\"Download {0} of {1} images\".format(i,10))\n",
    "    response = requests.get(img_urls[i])\n",
    "    file = open(r\"C:\\Users\\AnuragMishra\\Desktop\\Guitar\"+str(i)+\".jpg\", \"wb\")\n",
    "    file.write(response.content)"
   ]
  },
  {
   "cell_type": "markdown",
   "id": "e8af4f8b",
   "metadata": {},
   "source": [
    "# cakes"
   ]
  },
  {
   "cell_type": "code",
   "execution_count": 107,
   "id": "1ca72a1e",
   "metadata": {},
   "outputs": [],
   "source": [
    "# first connect to the driver\n",
    "driver=webdriver.Chrome(r\"C:\\Users\\AnuragMishra\\Downloads\\chromedriver_win32.exe\")\n",
    "\n",
    "# opening the naukari page on selenium automated chrome browser\n",
    "driver.get(\"https://images.google.com/\")\n",
    "\n",
    "item=driver.find_element(By.CLASS_NAME,\"gLFyf\")\n",
    "item.send_keys('Cakes')\n",
    "\n",
    "search=driver.find_element(By.XPATH,'//span[@class=\"z1asCe MZy1Rb\"]')\n",
    "search.click()"
   ]
  },
  {
   "cell_type": "code",
   "execution_count": 108,
   "id": "62506fac",
   "metadata": {},
   "outputs": [
    {
     "name": "stdout",
     "output_type": "stream",
     "text": [
      "Download 0 of 10 images\n",
      "Download 1 of 10 images\n",
      "Download 2 of 10 images\n",
      "Download 3 of 10 images\n",
      "Download 4 of 10 images\n",
      "Download 5 of 10 images\n",
      "Download 6 of 10 images\n",
      "Download 7 of 10 images\n",
      "Download 8 of 10 images\n",
      "Download 9 of 10 images\n",
      "Download 10 of 10 images\n"
     ]
    }
   ],
   "source": [
    "for _ in range(20):\n",
    "    driver.execute_script(\"window.scrollBy(0,1000)\")\n",
    "    \n",
    "images=driver.find_elements(By.XPATH,'//img[@class=\"rg_i Q4LuWd\"]')\n",
    "\n",
    "img_urls = []\n",
    "img_data = []\n",
    "\n",
    "for image in images:\n",
    "    source = image.get_attribute('src')\n",
    "    if source is not None:\n",
    "        if(source[0:4] == 'http'):\n",
    "            img_urls.append(source)\n",
    "            \n",
    "for i in range(len(img_urls)):\n",
    "    if i>10:\n",
    "        break\n",
    "    print(\"Download {0} of {1} images\".format(i,10))\n",
    "    response = requests.get(img_urls[i])\n",
    "    file = open(r\"C:\\Users\\AnuragMishra\\Desktop\\cake\"+str(i)+\".jpg\", \"wb\")\n",
    "    file.write(response.content)"
   ]
  },
  {
   "cell_type": "markdown",
   "id": "338ba74c",
   "metadata": {},
   "source": [
    "# 4.Write a python program to search for a smartphone(e.g.: Oneplus Nord, pixel 4A, etc.) on www.flipkart.com and scrape following details for all the search results displayed on 1st page. Details to be scraped: “Brand Name”, “Smartphone name”, “Colour”, “RAM”, “Storage(ROM)”, “Primary Camera”, “Secondary Camera”, “Display Size”, “Battery Capacity”, “Price”, “Product URL”. Incase if any of the details is missing then replace it by “- “. Save your results in a dataframe and CSV."
   ]
  },
  {
   "cell_type": "code",
   "execution_count": 180,
   "id": "1e590053",
   "metadata": {},
   "outputs": [],
   "source": [
    "# first connect to the driver\n",
    "driver=webdriver.Chrome(r\"C:\\Users\\AnuragMishra\\Downloads\\chromedriver_win32.exe\")\n",
    "\n",
    "# opening the flipkart page on selenium automated chrome browser\n",
    "driver.get(\"https://www.flipkart.com/\")\n",
    "\n",
    "# entering the Job position & Location as required\n",
    "products=driver.find_element(By.CLASS_NAME,\"_3704LK\")\n",
    "products.send_keys('Oneplus Nord')"
   ]
  },
  {
   "cell_type": "code",
   "execution_count": 181,
   "id": "104fec54",
   "metadata": {},
   "outputs": [],
   "source": [
    "cut=driver.find_element(By.XPATH,'//button[@class=\"_2KpZ6l _2doB4z\"]')\n",
    "cut.click()\n",
    "\n",
    "search=driver.find_element(By.XPATH,'//button[@class=\"L0Z3Pu\"]')\n",
    "search.click()"
   ]
  },
  {
   "cell_type": "code",
   "execution_count": 201,
   "id": "1f402202",
   "metadata": {},
   "outputs": [],
   "source": [
    "product_name = []\n",
    "colour = []\n",
    "ram_rom = []\n",
    "camera=[]\n",
    "display=[]\n",
    "batt_capacity=[]\n",
    "price1=[]\n",
    "product_url1=[]"
   ]
  },
  {
   "cell_type": "code",
   "execution_count": 202,
   "id": "259dc6a6",
   "metadata": {},
   "outputs": [
    {
     "data": {
      "text/plain": [
       "['OnePlus Nord CE 2 Lite 5G (Blue Tide, 128 GB)',\n",
       " 'OnePlus Nord CE 2 Lite 5G (Black Dusk, 128 GB)',\n",
       " 'OnePlus Nord 2T 5G (Jade Fog, 128 GB)',\n",
       " 'OnePlus Nord 2T 5G (Jade Fog, 128 GB)',\n",
       " 'OnePlus Nord 2T 5G (Gray Shadow, 128 GB)',\n",
       " 'OnePlus Nord 2T 5G (Gray Shadow, 256 GB)',\n",
       " 'OnePlus Nord 2T 5G (Gray Shadow, 128 GB)',\n",
       " 'OnePlus Nord CE 2 Lite 5G (Blue Tide, 128 GB)',\n",
       " 'OnePlus Nord CE 2 5G (Gray Mirror, 128 GB)',\n",
       " 'OnePlus Nord CE 2 5G (Bahama Blue, 128 GB)',\n",
       " 'OnePlus Nord 2T 5G (Jade Fog, 256 GB)',\n",
       " 'OnePlus Nord CE 2 5G (Bahama Blue, 128 GB)',\n",
       " 'OnePlus Nord CE 2 5G (Bahama Blue, 128 GB)',\n",
       " 'OnePlus Nord CE 2 5G (Bahama Blue, 128 GB)',\n",
       " 'OnePlus Nord 2 5G (Green Wood, 256 GB)',\n",
       " 'OnePlus Nord CE 2 Lite 5G (Black Dusk, 128 GB)',\n",
       " 'OnePlus Nord CE 2 5G (Gray Mirror, 128 GB)',\n",
       " 'OnePlus Nord 2 5G (PAC-MAN, 256 GB)',\n",
       " 'OnePlus Nord CE 3 Lite 5G (Pastel Lime, 128 GB)',\n",
       " 'OnePlus Nord CE 5G (Charcoal Ink, 128 GB)',\n",
       " 'OnePlus Nord CE 5G (Silver Ray, 256 GB)',\n",
       " 'OnePlus Nord CE 5G (Blue Void, 256 GB)',\n",
       " 'OnePlus Nord CE 5G (Silver Ray, 128 GB)',\n",
       " 'OnePlus Nord CE 5G (Silver Gray, 128 GB)']"
      ]
     },
     "execution_count": 202,
     "metadata": {},
     "output_type": "execute_result"
    }
   ],
   "source": [
    "pn=driver.find_elements(By.XPATH,'//div[@class=\"_4rR01T\"]')\n",
    "for i in pn:\n",
    "    pn1=i.text\n",
    "    product_name.append(pn1)\n",
    "product_name"
   ]
  },
  {
   "cell_type": "code",
   "execution_count": 203,
   "id": "40a62021",
   "metadata": {},
   "outputs": [
    {
     "data": {
      "text/plain": [
       "['OnePlus Nord CE 2 Lite 5G',\n",
       " 'OnePlus Nord CE 2 Lite 5G',\n",
       " 'OnePlus Nord 2T 5G',\n",
       " 'OnePlus Nord 2T 5G',\n",
       " 'OnePlus Nord 2T 5G',\n",
       " 'OnePlus Nord 2T 5G',\n",
       " 'OnePlus Nord 2T 5G',\n",
       " 'OnePlus Nord CE 2 Lite 5G',\n",
       " 'OnePlus Nord CE 2 5G',\n",
       " 'OnePlus Nord CE 2 5G',\n",
       " 'OnePlus Nord 2T 5G',\n",
       " 'OnePlus Nord CE 2 5G',\n",
       " 'OnePlus Nord CE 2 5G',\n",
       " 'OnePlus Nord CE 2 5G',\n",
       " 'OnePlus Nord 2 5G',\n",
       " 'OnePlus Nord CE 2 Lite 5G',\n",
       " 'OnePlus Nord CE 2 5G',\n",
       " 'OnePlus Nord 2 5G',\n",
       " 'OnePlus Nord CE 3 Lite 5G',\n",
       " 'OnePlus Nord CE 5G',\n",
       " 'OnePlus Nord CE 5G',\n",
       " 'OnePlus Nord CE 5G',\n",
       " 'OnePlus Nord CE 5G',\n",
       " 'OnePlus Nord CE 5G']"
      ]
     },
     "execution_count": 203,
     "metadata": {},
     "output_type": "execute_result"
    }
   ],
   "source": [
    "product_name1 = [item.split('(')[0].strip() for item in product_name]\n",
    "product_name1"
   ]
  },
  {
   "cell_type": "code",
   "execution_count": 204,
   "id": "7eda5f0c",
   "metadata": {},
   "outputs": [
    {
     "name": "stdout",
     "output_type": "stream",
     "text": [
      "['Blue Tide', 'Black Dusk', 'Jade Fog', 'Jade Fog', 'Gray Shadow', 'Gray Shadow', 'Gray Shadow', 'Blue Tide', 'Gray Mirror', 'Bahama Blue', 'Jade Fog', 'Bahama Blue', 'Bahama Blue', 'Bahama Blue', 'Green Wood', 'Black Dusk', 'Gray Mirror', 'PAC-MAN', 'Pastel Lime', 'Charcoal Ink', 'Silver Ray', 'Blue Void', 'Silver Ray', 'Silver Gray']\n"
     ]
    }
   ],
   "source": [
    "colors_list = []\n",
    "\n",
    "for product in product_name:\n",
    "    # Split the string into brand, name, and details\n",
    "    split_data = product.split('(')\n",
    "    details = split_data[1].strip(')')\n",
    "\n",
    "    # Split the details into color and other attributes\n",
    "    color, _ = details.split(',', maxsplit=1)\n",
    "    \n",
    "    colors_list.append(color.strip())\n",
    "\n",
    "print(colors_list)"
   ]
  },
  {
   "cell_type": "code",
   "execution_count": 205,
   "id": "2bcf6d25",
   "metadata": {},
   "outputs": [
    {
     "data": {
      "text/plain": [
       "['6 GB RAM | 128 GB ROM',\n",
       " '6 GB RAM | 128 GB ROM',\n",
       " '8 GB RAM | 128 GB ROM',\n",
       " '8 GB RAM | 128 GB ROM',\n",
       " '8 GB RAM | 128 GB ROM',\n",
       " '12 GB RAM | 256 GB ROM',\n",
       " '8 GB RAM | 128 GB ROM',\n",
       " '8 GB RAM | 128 GB ROM',\n",
       " '6 GB RAM | 128 GB ROM',\n",
       " '8 GB RAM | 128 GB ROM',\n",
       " '12 GB RAM | 256 GB ROM',\n",
       " '6 GB RAM | 128 GB ROM',\n",
       " '8 GB RAM | 128 GB ROM',\n",
       " '8 GB RAM | 128 GB ROM',\n",
       " '12 GB RAM | 256 GB ROM',\n",
       " '8 GB RAM | 128 GB ROM',\n",
       " '8 GB RAM | 128 GB ROM',\n",
       " '12 GB RAM | 256 GB ROM',\n",
       " '8 GB RAM | 128 GB ROM',\n",
       " '8 GB RAM | 128 GB ROM',\n",
       " '12 GB RAM | 256 GB ROM',\n",
       " '12 GB RAM | 256 GB ROM',\n",
       " '6 GB RAM | 128 GB ROM',\n",
       " '8 GB RAM | 128 GB ROM']"
      ]
     },
     "execution_count": 205,
     "metadata": {},
     "output_type": "execute_result"
    }
   ],
   "source": [
    "ra=driver.find_elements(By.XPATH,'//li[@class=\"rgWa7D\"][1]')\n",
    "for i in ra:\n",
    "    ra1=i.text\n",
    "    ram_rom.append(ra1)\n",
    "ram_rom"
   ]
  },
  {
   "cell_type": "code",
   "execution_count": 206,
   "id": "397e6f1d",
   "metadata": {},
   "outputs": [],
   "source": [
    "ram_list = []\n",
    "rom_list = []\n",
    "\n",
    "for item in ram_rom:\n",
    "    ram, rom = item.split('|')\n",
    "    ram_list.append(ram.strip())\n",
    "    rom_list.append(rom.strip())"
   ]
  },
  {
   "cell_type": "code",
   "execution_count": 207,
   "id": "99fc2239",
   "metadata": {},
   "outputs": [
    {
     "data": {
      "text/plain": [
       "['16.74 cm (6.59 inch) Display',\n",
       " '16.74 cm (6.59 inch) Display',\n",
       " '17.02 cm (6.7 inch) Display',\n",
       " '17.02 cm (6.7 inch) Display',\n",
       " '17.02 cm (6.7 inch) Display',\n",
       " '17.02 cm (6.7 inch) Display',\n",
       " '17.02 cm (6.7 inch) Display',\n",
       " '16.74 cm (6.59 inch) Display',\n",
       " '16.33 cm (6.43 inch) Display',\n",
       " '16.33 cm (6.43 inch) Display',\n",
       " '17.02 cm (6.7 inch) Display',\n",
       " '16.33 cm (6.43 inch) Display',\n",
       " '16.33 cm (6.43 inch) Display',\n",
       " '16.33 cm (6.43 inch) Display',\n",
       " '16.33 cm (6.43 inch) Display',\n",
       " '16.74 cm (6.59 inch) Display',\n",
       " '16.33 cm (6.43 inch) Display',\n",
       " '16.33 cm (6.43 inch) Display',\n",
       " '17.07 cm (6.72 inch) Display',\n",
       " '16.33 cm (6.43 inch) Display',\n",
       " '16.33 cm (6.43 inch) Display',\n",
       " '16.33 cm (6.43 inch) Display',\n",
       " '16.33 cm (6.43 inch) Display',\n",
       " '16.33 cm (6.43 inch) Display']"
      ]
     },
     "execution_count": 207,
     "metadata": {},
     "output_type": "execute_result"
    }
   ],
   "source": [
    "disp=driver.find_elements(By.XPATH,'//li[@class=\"rgWa7D\"][2]')\n",
    "for i in disp:\n",
    "    disp1=i.text\n",
    "    display.append(disp1)\n",
    "\n",
    "display"
   ]
  },
  {
   "cell_type": "code",
   "execution_count": 208,
   "id": "59d82a33",
   "metadata": {},
   "outputs": [
    {
     "data": {
      "text/plain": [
       "['64MP Rear Camera',\n",
       " '64MP Rear Camera',\n",
       " '50MP Rear Camera',\n",
       " '50MP Rear Camera',\n",
       " '50MP Rear Camera',\n",
       " '50MP Rear Camera',\n",
       " '50MP Rear Camera',\n",
       " '64MP Rear Camera',\n",
       " '64MP Rear Camera',\n",
       " '64MP Rear Camera',\n",
       " '50MP Rear Camera',\n",
       " '64MP Rear Camera',\n",
       " '64MP Rear Camera',\n",
       " '64MP Rear Camera',\n",
       " '50MP Rear Camera',\n",
       " '64MP Rear Camera',\n",
       " '64MP Rear Camera',\n",
       " '50MP Rear Camera',\n",
       " '108MP Rear Camera',\n",
       " '64MP Rear Camera',\n",
       " '64MP Rear Camera',\n",
       " '64MP Rear Camera',\n",
       " '64MP Rear Camera',\n",
       " '64MP Rear Camera']"
      ]
     },
     "execution_count": 208,
     "metadata": {},
     "output_type": "execute_result"
    }
   ],
   "source": [
    "cam=driver.find_elements(By.XPATH,'//li[@class=\"rgWa7D\"][3]')\n",
    "for i in cam:\n",
    "    cam1=i.text\n",
    "    camera.append(cam1)\n",
    "\n",
    "camera"
   ]
  },
  {
   "cell_type": "code",
   "execution_count": 209,
   "id": "5986e719",
   "metadata": {},
   "outputs": [
    {
     "data": {
      "text/plain": [
       "['5000 mAh Battery',\n",
       " '5000 mAh Battery',\n",
       " '4500 mAh Battery',\n",
       " '4500 mAh Battery',\n",
       " '4500 mAh Battery',\n",
       " '4500 mAh Battery',\n",
       " '4500 mAh Battery',\n",
       " '5000 mAh Battery',\n",
       " '4500 mAh Battery',\n",
       " '4500 mAh Battery',\n",
       " '4500 mAh Battery',\n",
       " '4500 mAh Battery',\n",
       " '4500 mAh Battery',\n",
       " '4500 mAh Battery',\n",
       " '4500 mAh Battery',\n",
       " '5000 mAh Battery',\n",
       " '4500 mAh Battery',\n",
       " '4500 mAh Battery',\n",
       " '5000 mAh Battery',\n",
       " '4500 mAh Battery',\n",
       " '4500 mAh Battery',\n",
       " '4500 mAh Battery',\n",
       " '4500 mAh Battery',\n",
       " '4500 mAh Battery']"
      ]
     },
     "execution_count": 209,
     "metadata": {},
     "output_type": "execute_result"
    }
   ],
   "source": [
    "capacity=driver.find_elements(By.XPATH,'//li[@class=\"rgWa7D\"][4]')\n",
    "for i in capacity:\n",
    "    batt=i.text\n",
    "    batt_capacity.append(batt)\n",
    "\n",
    "batt_capacity"
   ]
  },
  {
   "cell_type": "code",
   "execution_count": null,
   "id": "58bed2e3",
   "metadata": {},
   "outputs": [],
   "source": [
    "# p1=driver.find_elements(By.XPATH,'//div[@class=\"_30jeq3 _1_WHN1\"]')\n",
    "# for i in p1:\n",
    "#     p2=i.text\n",
    "#     price1.append(p2)\n",
    "# price1"
   ]
  },
  {
   "cell_type": "code",
   "execution_count": 210,
   "id": "e24c54b0",
   "metadata": {},
   "outputs": [
    {
     "data": {
      "text/plain": [
       "['₹19,088',\n",
       " '₹18,853',\n",
       " '₹28,354',\n",
       " '₹28,399',\n",
       " '₹33,999',\n",
       " '₹27,999',\n",
       " '₹19,300',\n",
       " '₹23,999',\n",
       " '₹24,797',\n",
       " '₹29,198',\n",
       " '₹23,999',\n",
       " '₹24,990',\n",
       " '₹24,990',\n",
       " '₹29,992',\n",
       " '₹18,777',\n",
       " '₹29,992',\n",
       " '₹19,989',\n",
       " '₹24,990',\n",
       " '₹27,999',\n",
       " '₹27,999',\n",
       " '₹24,499',\n",
       " '₹25,999']"
      ]
     },
     "execution_count": 210,
     "metadata": {},
     "output_type": "execute_result"
    }
   ],
   "source": [
    "try:\n",
    "    p1=driver.find_elements(By.XPATH,'//div[@class=\"_30jeq3 _1_WHN1\"]')\n",
    "    for i in p1:\n",
    "        p2=i.text\n",
    "        price1.append(p2)\n",
    "except NoSuchElementException:\n",
    "    price1.append('-')\n",
    "    \n",
    "price1"
   ]
  },
  {
   "cell_type": "code",
   "execution_count": 211,
   "id": "995a92d9",
   "metadata": {},
   "outputs": [
    {
     "data": {
      "text/plain": [
       "['https://www.flipkart.com/oneplus-nord-ce-2-lite-5g-blue-tide-128-gb/p/itm7acae55b999e6?pid=MOBGMFREBAHZQGY9&lid=LSTMOBGMFREBAHZQGY9HACYLB&marketplace=FLIPKART&q=Oneplus+Nord&store=tyy%2F4io&spotlightTagId=BestsellerId_tyy%2F4io&srno=s_1_1&otracker=search&otracker1=search&fm=Search&iid=6b4e2473-eadd-426c-b5af-57a2cc8a8fbc.MOBGMFREBAHZQGY9.SEARCH&ppt=sp&ppn=sp&ssid=3q91gm5zk00000001684393336329&qH=53863d4d978d5074',\n",
       " 'https://www.flipkart.com/oneplus-nord-ce-2-lite-5g-black-dusk-128-gb/p/itm537fc2aa73747?pid=MOBGHBZHB7YJT5HF&lid=LSTMOBGHBZHB7YJT5HF5YA2XU&marketplace=FLIPKART&q=Oneplus+Nord&store=tyy%2F4io&srno=s_1_2&otracker=search&otracker1=search&fm=organic&iid=6b4e2473-eadd-426c-b5af-57a2cc8a8fbc.MOBGHBZHB7YJT5HF.SEARCH&ppt=hp&ppn=homepage&ssid=3q91gm5zk00000001684393336329&qH=53863d4d978d5074',\n",
       " 'https://www.flipkart.com/oneplus-nord-2t-5g-jade-fog-128-gb/p/itm31ac32e308282?pid=MOBGHBZHFAUYKH3U&lid=LSTMOBGHBZHFAUYKH3U3U3AX9&marketplace=FLIPKART&q=Oneplus+Nord&store=tyy%2F4io&srno=s_1_3&otracker=search&otracker1=search&fm=organic&iid=6b4e2473-eadd-426c-b5af-57a2cc8a8fbc.MOBGHBZHFAUYKH3U.SEARCH&ppt=hp&ppn=homepage&ssid=3q91gm5zk00000001684393336329&qH=53863d4d978d5074',\n",
       " 'https://www.flipkart.com/oneplus-nord-2t-5g-jade-fog-128-gb/p/itm38fc98b1d0cbc?pid=MOBGNQHZ7V2GPFKG&lid=LSTMOBGNQHZ7V2GPFKGMJH7ZK&marketplace=FLIPKART&q=Oneplus+Nord&store=tyy%2F4io&srno=s_1_4&otracker=search&otracker1=search&fm=organic&iid=6b4e2473-eadd-426c-b5af-57a2cc8a8fbc.MOBGNQHZ7V2GPFKG.SEARCH&ppt=hp&ppn=homepage&ssid=3q91gm5zk00000001684393336329&qH=53863d4d978d5074',\n",
       " 'https://www.flipkart.com/oneplus-nord-2t-5g-gray-shadow-128-gb/p/itmeadf76c1e8943?pid=MOBGHBZH2S8MWQGQ&q=Oneplus+Nord&store=tyy%2F4io&srno=s_1_5&otracker=search&otracker1=search&fm=organic&iid=6b4e2473-eadd-426c-b5af-57a2cc8a8fbc.MOBGHBZH2S8MWQGQ.SEARCH&ppt=hp&ppn=homepage&ssid=3q91gm5zk00000001684393336329&qH=53863d4d978d5074',\n",
       " 'https://www.flipkart.com/oneplus-nord-2t-5g-gray-shadow-256-gb/p/itm97eda8b1a1566?pid=MOBGHBZHNPGQGXJY&lid=LSTMOBGHBZHNPGQGXJYJF2ZRV&marketplace=FLIPKART&q=Oneplus+Nord&store=tyy%2F4io&srno=s_1_6&otracker=search&otracker1=search&fm=organic&iid=6b4e2473-eadd-426c-b5af-57a2cc8a8fbc.MOBGHBZHNPGQGXJY.SEARCH&ppt=hp&ppn=homepage&ssid=3q91gm5zk00000001684393336329&qH=53863d4d978d5074',\n",
       " 'https://www.flipkart.com/oneplus-nord-2t-5g-gray-shadow-128-gb/p/itmd6fae876845b9?pid=MOBGZKM5XBXSJYZT&lid=LSTMOBGZKM5XBXSJYZTFD9DMO&marketplace=FLIPKART&q=Oneplus+Nord&store=tyy%2F4io&srno=s_1_7&otracker=search&otracker1=search&fm=organic&iid=6b4e2473-eadd-426c-b5af-57a2cc8a8fbc.MOBGZKM5XBXSJYZT.SEARCH&ppt=hp&ppn=homepage&ssid=3q91gm5zk00000001684393336329&qH=53863d4d978d5074',\n",
       " 'https://www.flipkart.com/oneplus-nord-ce-2-lite-5g-blue-tide-128-gb/p/itm7acae55b999e6?pid=MOBGHBNGY5NDH3GV&lid=LSTMOBGHBNGY5NDH3GVUBMFLF&marketplace=FLIPKART&q=Oneplus+Nord&store=tyy%2F4io&srno=s_1_8&otracker=search&otracker1=search&fm=organic&iid=6b4e2473-eadd-426c-b5af-57a2cc8a8fbc.MOBGHBNGY5NDH3GV.SEARCH&ppt=hp&ppn=homepage&ssid=3q91gm5zk00000001684393336329&qH=53863d4d978d5074',\n",
       " 'https://www.flipkart.com/oneplus-nord-ce-2-5g-gray-mirror-128-gb/p/itm2a9883679c57c?pid=MOBGDBYUNZZ2ZKFM&lid=LSTMOBGDBYUNZZ2ZKFMHFGKS4&marketplace=FLIPKART&q=Oneplus+Nord&store=tyy%2F4io&srno=s_1_9&otracker=search&otracker1=search&fm=organic&iid=6b4e2473-eadd-426c-b5af-57a2cc8a8fbc.MOBGDBYUNZZ2ZKFM.SEARCH&ppt=hp&ppn=homepage&ssid=3q91gm5zk00000001684393336329&qH=53863d4d978d5074',\n",
       " 'https://www.flipkart.com/oneplus-nord-ce-2-5g-bahama-blue-128-gb/p/itm2a9883679c57c?pid=MOBGHHZ2CKB5D4WU&lid=LSTMOBGHHZ2CKB5D4WUNWQ8W2&marketplace=FLIPKART&q=Oneplus+Nord&store=tyy%2F4io&srno=s_1_10&otracker=search&otracker1=search&fm=organic&iid=6b4e2473-eadd-426c-b5af-57a2cc8a8fbc.MOBGHHZ2CKB5D4WU.SEARCH&ppt=hp&ppn=homepage&ssid=3q91gm5zk00000001684393336329&qH=53863d4d978d5074',\n",
       " 'https://www.flipkart.com/oneplus-nord-2t-5g-jade-fog-256-gb/p/itm97eda8b1a1566?pid=MOBGHBZHF4YCMGZY&lid=LSTMOBGHBZHF4YCMGZYCC7MAF&marketplace=FLIPKART&q=Oneplus+Nord&store=tyy%2F4io&srno=s_1_11&otracker=search&otracker1=search&fm=organic&iid=6b4e2473-eadd-426c-b5af-57a2cc8a8fbc.MOBGHBZHF4YCMGZY.SEARCH&ppt=hp&ppn=homepage&ssid=3q91gm5zk00000001684393336329&qH=53863d4d978d5074',\n",
       " 'https://www.flipkart.com/oneplus-nord-ce-2-5g-bahama-blue-128-gb/p/itm2a9883679c57c?pid=MOBGDBYZ2HVZAHZD&lid=LSTMOBGDBYZ2HVZAHZDGR3CZ0&marketplace=FLIPKART&q=Oneplus+Nord&store=tyy%2F4io&srno=s_1_12&otracker=search&otracker1=search&fm=organic&iid=6b4e2473-eadd-426c-b5af-57a2cc8a8fbc.MOBGDBYZ2HVZAHZD.SEARCH&ppt=hp&ppn=homepage&ssid=3q91gm5zk00000001684393336329&qH=53863d4d978d5074',\n",
       " 'https://www.flipkart.com/oneplus-nord-ce-2-5g-bahama-blue-128-gb/p/itm2a9883679c57c?pid=MOBGJMUH64MTF6PK&lid=LSTMOBGJMUH64MTF6PKN9ZM2Z&marketplace=FLIPKART&q=Oneplus+Nord&store=tyy%2F4io&srno=s_1_13&otracker=search&otracker1=search&fm=organic&iid=6b4e2473-eadd-426c-b5af-57a2cc8a8fbc.MOBGJMUH64MTF6PK.SEARCH&ppt=hp&ppn=homepage&ssid=3q91gm5zk00000001684393336329&qH=53863d4d978d5074',\n",
       " 'https://www.flipkart.com/oneplus-nord-ce-2-5g-bahama-blue-128-gb/p/itm2a9883679c57c?pid=MOBGDBYGG6PPNFD9&lid=LSTMOBGDBYGG6PPNFD9RG9OQU&marketplace=FLIPKART&q=Oneplus+Nord&store=tyy%2F4io&srno=s_1_14&otracker=search&otracker1=search&fm=organic&iid=6b4e2473-eadd-426c-b5af-57a2cc8a8fbc.MOBGDBYGG6PPNFD9.SEARCH&ppt=hp&ppn=homepage&ssid=3q91gm5zk00000001684393336329&qH=53863d4d978d5074',\n",
       " 'https://www.flipkart.com/oneplus-nord-2-5g-green-wood-256-gb/p/itmd16c63dadf5c5?pid=MOBGE7D9U2RVQPH7&lid=LSTMOBGE7D9U2RVQPH7FBPASZ&marketplace=FLIPKART&q=Oneplus+Nord&store=tyy%2F4io&srno=s_1_15&otracker=search&otracker1=search&fm=organic&iid=6b4e2473-eadd-426c-b5af-57a2cc8a8fbc.MOBGE7D9U2RVQPH7.SEARCH&ppt=hp&ppn=homepage&ssid=3q91gm5zk00000001684393336329&qH=53863d4d978d5074',\n",
       " 'https://www.flipkart.com/oneplus-nord-ce-2-lite-5g-black-dusk-128-gb/p/itmc56272cceee9d?pid=MOBGHBZHQMNV4KKS&lid=LSTMOBGHBZHQMNV4KKSHAWS63&marketplace=FLIPKART&q=Oneplus+Nord&store=tyy%2F4io&srno=s_1_16&otracker=search&otracker1=search&fm=organic&iid=6b4e2473-eadd-426c-b5af-57a2cc8a8fbc.MOBGHBZHQMNV4KKS.SEARCH&ppt=hp&ppn=homepage&ssid=3q91gm5zk00000001684393336329&qH=53863d4d978d5074',\n",
       " 'https://www.flipkart.com/oneplus-nord-ce-2-5g-gray-mirror-128-gb/p/itm2a9883679c57c?pid=MOBGDHWMFQBKFV5F&q=Oneplus+Nord&store=tyy%2F4io&srno=s_1_17&otracker=search&otracker1=search&fm=organic&iid=6b4e2473-eadd-426c-b5af-57a2cc8a8fbc.MOBGDHWMFQBKFV5F.SEARCH&ppt=hp&ppn=homepage&ssid=3q91gm5zk00000001684393336329&qH=53863d4d978d5074',\n",
       " 'https://www.flipkart.com/oneplus-nord-2-5g-pac-man-256-gb/p/itmd16c63dadf5c5?pid=MOBGEYH6EJGAWMFT&lid=LSTMOBGEYH6EJGAWMFT2SBWWV&marketplace=FLIPKART&q=Oneplus+Nord&store=tyy%2F4io&srno=s_1_18&otracker=search&otracker1=search&fm=organic&iid=6b4e2473-eadd-426c-b5af-57a2cc8a8fbc.MOBGEYH6EJGAWMFT.SEARCH&ppt=hp&ppn=homepage&ssid=3q91gm5zk00000001684393336329&qH=53863d4d978d5074',\n",
       " 'https://www.flipkart.com/oneplus-nord-ce-3-lite-5g-pastel-lime-128-gb/p/itm2cd5a4e659035?pid=MOBGZJ3WM5SGTGVZ&lid=LSTMOBGZJ3WM5SGTGVZF4K9WH&marketplace=FLIPKART&q=Oneplus+Nord&store=tyy%2F4io&srno=s_1_19&otracker=search&otracker1=search&fm=organic&iid=6b4e2473-eadd-426c-b5af-57a2cc8a8fbc.MOBGZJ3WM5SGTGVZ.SEARCH&ppt=hp&ppn=homepage&ssid=3q91gm5zk00000001684393336329&qH=53863d4d978d5074',\n",
       " 'https://www.flipkart.com/oneplus-nord-ce-5g-charcoal-ink-128-gb/p/itmc4c02029d9c90?pid=MOBGDM4D6RNZR2SA&lid=LSTMOBGDM4D6RNZR2SAKRYTR6&marketplace=FLIPKART&q=Oneplus+Nord&store=tyy%2F4io&srno=s_1_20&otracker=search&otracker1=search&fm=organic&iid=6b4e2473-eadd-426c-b5af-57a2cc8a8fbc.MOBGDM4D6RNZR2SA.SEARCH&ppt=hp&ppn=homepage&ssid=3q91gm5zk00000001684393336329&qH=53863d4d978d5074',\n",
       " 'https://www.flipkart.com/oneplus-nord-ce-5g-silver-ray-256-gb/p/itmc4c02029d9c90?pid=MOBGDM5SUVH9VMZD&lid=LSTMOBGDM5SUVH9VMZDZEWPOH&marketplace=FLIPKART&q=Oneplus+Nord&store=tyy%2F4io&spotlightTagId=TrendingId_tyy%2F4io&srno=s_1_21&otracker=search&otracker1=search&fm=organic&iid=6b4e2473-eadd-426c-b5af-57a2cc8a8fbc.MOBGDM5SUVH9VMZD.SEARCH&ppt=hp&ppn=homepage&ssid=3q91gm5zk00000001684393336329&qH=53863d4d978d5074',\n",
       " 'https://www.flipkart.com/oneplus-nord-ce-5g-blue-void-256-gb/p/itmc4c02029d9c90?pid=MOBGDTZ8HJVDQZSN&lid=LSTMOBGDTZ8HJVDQZSNE7TRY2&marketplace=FLIPKART&q=Oneplus+Nord&store=tyy%2F4io&srno=s_1_22&otracker=search&otracker1=search&fm=organic&iid=6b4e2473-eadd-426c-b5af-57a2cc8a8fbc.MOBGDTZ8HJVDQZSN.SEARCH&ppt=hp&ppn=homepage&ssid=3q91gm5zk00000001684393336329&qH=53863d4d978d5074',\n",
       " 'https://www.flipkart.com/oneplus-nord-ce-5g-silver-ray-128-gb/p/itmc4c02029d9c90?pid=MOBGDM57QA9WVYBK&lid=LSTMOBGDM57QA9WVYBK9RKH07&marketplace=FLIPKART&q=Oneplus+Nord&store=tyy%2F4io&srno=s_1_23&otracker=search&otracker1=search&fm=organic&iid=6b4e2473-eadd-426c-b5af-57a2cc8a8fbc.MOBGDM57QA9WVYBK.SEARCH&ppt=hp&ppn=homepage&ssid=3q91gm5zk00000001684393336329&qH=53863d4d978d5074',\n",
       " 'https://www.flipkart.com/oneplus-nord-ce-5g-silver-gray-128-gb/p/itmc4c02029d9c90?pid=MOBGDM5FDYUKKJQG&lid=LSTMOBGDM5FDYUKKJQGBNI7XK&marketplace=FLIPKART&q=Oneplus+Nord&store=tyy%2F4io&srno=s_1_24&otracker=search&otracker1=search&fm=organic&iid=6b4e2473-eadd-426c-b5af-57a2cc8a8fbc.MOBGDM5FDYUKKJQG.SEARCH&ppt=hp&ppn=homepage&ssid=3q91gm5zk00000001684393336329&qH=53863d4d978d5074']"
      ]
     },
     "execution_count": 211,
     "metadata": {},
     "output_type": "execute_result"
    }
   ],
   "source": [
    "p_u=driver.find_elements(By.XPATH,'//a[@class = \"_1fQZEK\"]')\n",
    "for i in p_u:\n",
    "    p_u1=i.get_attribute('href')\n",
    "    product_url1.append(p_u1)\n",
    "product_url1"
   ]
  },
  {
   "cell_type": "code",
   "execution_count": 214,
   "id": "78e83c40",
   "metadata": {},
   "outputs": [
    {
     "data": {
      "text/html": [
       "<div>\n",
       "<style scoped>\n",
       "    .dataframe tbody tr th:only-of-type {\n",
       "        vertical-align: middle;\n",
       "    }\n",
       "\n",
       "    .dataframe tbody tr th {\n",
       "        vertical-align: top;\n",
       "    }\n",
       "\n",
       "    .dataframe thead th {\n",
       "        text-align: right;\n",
       "    }\n",
       "</style>\n",
       "<table border=\"1\" class=\"dataframe\">\n",
       "  <thead>\n",
       "    <tr style=\"text-align: right;\">\n",
       "      <th></th>\n",
       "      <th>Product Name</th>\n",
       "      <th>Colour</th>\n",
       "      <th>RAM</th>\n",
       "      <th>ROM</th>\n",
       "      <th>Camera</th>\n",
       "      <th>Display</th>\n",
       "      <th>Battery Capacity</th>\n",
       "      <th>URL</th>\n",
       "    </tr>\n",
       "  </thead>\n",
       "  <tbody>\n",
       "    <tr>\n",
       "      <th>0</th>\n",
       "      <td>OnePlus Nord CE 2 Lite 5G</td>\n",
       "      <td>Blue Tide</td>\n",
       "      <td>6 GB RAM</td>\n",
       "      <td>128 GB ROM</td>\n",
       "      <td>64MP Rear Camera</td>\n",
       "      <td>16.74 cm (6.59 inch) Display</td>\n",
       "      <td>5000 mAh Battery</td>\n",
       "      <td>https://www.flipkart.com/oneplus-nord-ce-2-lit...</td>\n",
       "    </tr>\n",
       "    <tr>\n",
       "      <th>1</th>\n",
       "      <td>OnePlus Nord CE 2 Lite 5G</td>\n",
       "      <td>Black Dusk</td>\n",
       "      <td>6 GB RAM</td>\n",
       "      <td>128 GB ROM</td>\n",
       "      <td>64MP Rear Camera</td>\n",
       "      <td>16.74 cm (6.59 inch) Display</td>\n",
       "      <td>5000 mAh Battery</td>\n",
       "      <td>https://www.flipkart.com/oneplus-nord-ce-2-lit...</td>\n",
       "    </tr>\n",
       "    <tr>\n",
       "      <th>2</th>\n",
       "      <td>OnePlus Nord 2T 5G</td>\n",
       "      <td>Jade Fog</td>\n",
       "      <td>8 GB RAM</td>\n",
       "      <td>128 GB ROM</td>\n",
       "      <td>50MP Rear Camera</td>\n",
       "      <td>17.02 cm (6.7 inch) Display</td>\n",
       "      <td>4500 mAh Battery</td>\n",
       "      <td>https://www.flipkart.com/oneplus-nord-2t-5g-ja...</td>\n",
       "    </tr>\n",
       "    <tr>\n",
       "      <th>3</th>\n",
       "      <td>OnePlus Nord 2T 5G</td>\n",
       "      <td>Jade Fog</td>\n",
       "      <td>8 GB RAM</td>\n",
       "      <td>128 GB ROM</td>\n",
       "      <td>50MP Rear Camera</td>\n",
       "      <td>17.02 cm (6.7 inch) Display</td>\n",
       "      <td>4500 mAh Battery</td>\n",
       "      <td>https://www.flipkart.com/oneplus-nord-2t-5g-ja...</td>\n",
       "    </tr>\n",
       "    <tr>\n",
       "      <th>4</th>\n",
       "      <td>OnePlus Nord 2T 5G</td>\n",
       "      <td>Gray Shadow</td>\n",
       "      <td>8 GB RAM</td>\n",
       "      <td>128 GB ROM</td>\n",
       "      <td>50MP Rear Camera</td>\n",
       "      <td>17.02 cm (6.7 inch) Display</td>\n",
       "      <td>4500 mAh Battery</td>\n",
       "      <td>https://www.flipkart.com/oneplus-nord-2t-5g-gr...</td>\n",
       "    </tr>\n",
       "    <tr>\n",
       "      <th>5</th>\n",
       "      <td>OnePlus Nord 2T 5G</td>\n",
       "      <td>Gray Shadow</td>\n",
       "      <td>12 GB RAM</td>\n",
       "      <td>256 GB ROM</td>\n",
       "      <td>50MP Rear Camera</td>\n",
       "      <td>17.02 cm (6.7 inch) Display</td>\n",
       "      <td>4500 mAh Battery</td>\n",
       "      <td>https://www.flipkart.com/oneplus-nord-2t-5g-gr...</td>\n",
       "    </tr>\n",
       "    <tr>\n",
       "      <th>6</th>\n",
       "      <td>OnePlus Nord 2T 5G</td>\n",
       "      <td>Gray Shadow</td>\n",
       "      <td>8 GB RAM</td>\n",
       "      <td>128 GB ROM</td>\n",
       "      <td>50MP Rear Camera</td>\n",
       "      <td>17.02 cm (6.7 inch) Display</td>\n",
       "      <td>4500 mAh Battery</td>\n",
       "      <td>https://www.flipkart.com/oneplus-nord-2t-5g-gr...</td>\n",
       "    </tr>\n",
       "    <tr>\n",
       "      <th>7</th>\n",
       "      <td>OnePlus Nord CE 2 Lite 5G</td>\n",
       "      <td>Blue Tide</td>\n",
       "      <td>8 GB RAM</td>\n",
       "      <td>128 GB ROM</td>\n",
       "      <td>64MP Rear Camera</td>\n",
       "      <td>16.74 cm (6.59 inch) Display</td>\n",
       "      <td>5000 mAh Battery</td>\n",
       "      <td>https://www.flipkart.com/oneplus-nord-ce-2-lit...</td>\n",
       "    </tr>\n",
       "    <tr>\n",
       "      <th>8</th>\n",
       "      <td>OnePlus Nord CE 2 5G</td>\n",
       "      <td>Gray Mirror</td>\n",
       "      <td>6 GB RAM</td>\n",
       "      <td>128 GB ROM</td>\n",
       "      <td>64MP Rear Camera</td>\n",
       "      <td>16.33 cm (6.43 inch) Display</td>\n",
       "      <td>4500 mAh Battery</td>\n",
       "      <td>https://www.flipkart.com/oneplus-nord-ce-2-5g-...</td>\n",
       "    </tr>\n",
       "    <tr>\n",
       "      <th>9</th>\n",
       "      <td>OnePlus Nord CE 2 5G</td>\n",
       "      <td>Bahama Blue</td>\n",
       "      <td>8 GB RAM</td>\n",
       "      <td>128 GB ROM</td>\n",
       "      <td>64MP Rear Camera</td>\n",
       "      <td>16.33 cm (6.43 inch) Display</td>\n",
       "      <td>4500 mAh Battery</td>\n",
       "      <td>https://www.flipkart.com/oneplus-nord-ce-2-5g-...</td>\n",
       "    </tr>\n",
       "    <tr>\n",
       "      <th>10</th>\n",
       "      <td>OnePlus Nord 2T 5G</td>\n",
       "      <td>Jade Fog</td>\n",
       "      <td>12 GB RAM</td>\n",
       "      <td>256 GB ROM</td>\n",
       "      <td>50MP Rear Camera</td>\n",
       "      <td>17.02 cm (6.7 inch) Display</td>\n",
       "      <td>4500 mAh Battery</td>\n",
       "      <td>https://www.flipkart.com/oneplus-nord-2t-5g-ja...</td>\n",
       "    </tr>\n",
       "    <tr>\n",
       "      <th>11</th>\n",
       "      <td>OnePlus Nord CE 2 5G</td>\n",
       "      <td>Bahama Blue</td>\n",
       "      <td>6 GB RAM</td>\n",
       "      <td>128 GB ROM</td>\n",
       "      <td>64MP Rear Camera</td>\n",
       "      <td>16.33 cm (6.43 inch) Display</td>\n",
       "      <td>4500 mAh Battery</td>\n",
       "      <td>https://www.flipkart.com/oneplus-nord-ce-2-5g-...</td>\n",
       "    </tr>\n",
       "    <tr>\n",
       "      <th>12</th>\n",
       "      <td>OnePlus Nord CE 2 5G</td>\n",
       "      <td>Bahama Blue</td>\n",
       "      <td>8 GB RAM</td>\n",
       "      <td>128 GB ROM</td>\n",
       "      <td>64MP Rear Camera</td>\n",
       "      <td>16.33 cm (6.43 inch) Display</td>\n",
       "      <td>4500 mAh Battery</td>\n",
       "      <td>https://www.flipkart.com/oneplus-nord-ce-2-5g-...</td>\n",
       "    </tr>\n",
       "    <tr>\n",
       "      <th>13</th>\n",
       "      <td>OnePlus Nord CE 2 5G</td>\n",
       "      <td>Bahama Blue</td>\n",
       "      <td>8 GB RAM</td>\n",
       "      <td>128 GB ROM</td>\n",
       "      <td>64MP Rear Camera</td>\n",
       "      <td>16.33 cm (6.43 inch) Display</td>\n",
       "      <td>4500 mAh Battery</td>\n",
       "      <td>https://www.flipkart.com/oneplus-nord-ce-2-5g-...</td>\n",
       "    </tr>\n",
       "    <tr>\n",
       "      <th>14</th>\n",
       "      <td>OnePlus Nord 2 5G</td>\n",
       "      <td>Green Wood</td>\n",
       "      <td>12 GB RAM</td>\n",
       "      <td>256 GB ROM</td>\n",
       "      <td>50MP Rear Camera</td>\n",
       "      <td>16.33 cm (6.43 inch) Display</td>\n",
       "      <td>4500 mAh Battery</td>\n",
       "      <td>https://www.flipkart.com/oneplus-nord-2-5g-gre...</td>\n",
       "    </tr>\n",
       "    <tr>\n",
       "      <th>15</th>\n",
       "      <td>OnePlus Nord CE 2 Lite 5G</td>\n",
       "      <td>Black Dusk</td>\n",
       "      <td>8 GB RAM</td>\n",
       "      <td>128 GB ROM</td>\n",
       "      <td>64MP Rear Camera</td>\n",
       "      <td>16.74 cm (6.59 inch) Display</td>\n",
       "      <td>5000 mAh Battery</td>\n",
       "      <td>https://www.flipkart.com/oneplus-nord-ce-2-lit...</td>\n",
       "    </tr>\n",
       "    <tr>\n",
       "      <th>16</th>\n",
       "      <td>OnePlus Nord CE 2 5G</td>\n",
       "      <td>Gray Mirror</td>\n",
       "      <td>8 GB RAM</td>\n",
       "      <td>128 GB ROM</td>\n",
       "      <td>64MP Rear Camera</td>\n",
       "      <td>16.33 cm (6.43 inch) Display</td>\n",
       "      <td>4500 mAh Battery</td>\n",
       "      <td>https://www.flipkart.com/oneplus-nord-ce-2-5g-...</td>\n",
       "    </tr>\n",
       "    <tr>\n",
       "      <th>17</th>\n",
       "      <td>OnePlus Nord 2 5G</td>\n",
       "      <td>PAC-MAN</td>\n",
       "      <td>12 GB RAM</td>\n",
       "      <td>256 GB ROM</td>\n",
       "      <td>50MP Rear Camera</td>\n",
       "      <td>16.33 cm (6.43 inch) Display</td>\n",
       "      <td>4500 mAh Battery</td>\n",
       "      <td>https://www.flipkart.com/oneplus-nord-2-5g-pac...</td>\n",
       "    </tr>\n",
       "    <tr>\n",
       "      <th>18</th>\n",
       "      <td>OnePlus Nord CE 3 Lite 5G</td>\n",
       "      <td>Pastel Lime</td>\n",
       "      <td>8 GB RAM</td>\n",
       "      <td>128 GB ROM</td>\n",
       "      <td>108MP Rear Camera</td>\n",
       "      <td>17.07 cm (6.72 inch) Display</td>\n",
       "      <td>5000 mAh Battery</td>\n",
       "      <td>https://www.flipkart.com/oneplus-nord-ce-3-lit...</td>\n",
       "    </tr>\n",
       "    <tr>\n",
       "      <th>19</th>\n",
       "      <td>OnePlus Nord CE 5G</td>\n",
       "      <td>Charcoal Ink</td>\n",
       "      <td>8 GB RAM</td>\n",
       "      <td>128 GB ROM</td>\n",
       "      <td>64MP Rear Camera</td>\n",
       "      <td>16.33 cm (6.43 inch) Display</td>\n",
       "      <td>4500 mAh Battery</td>\n",
       "      <td>https://www.flipkart.com/oneplus-nord-ce-5g-ch...</td>\n",
       "    </tr>\n",
       "    <tr>\n",
       "      <th>20</th>\n",
       "      <td>OnePlus Nord CE 5G</td>\n",
       "      <td>Silver Ray</td>\n",
       "      <td>12 GB RAM</td>\n",
       "      <td>256 GB ROM</td>\n",
       "      <td>64MP Rear Camera</td>\n",
       "      <td>16.33 cm (6.43 inch) Display</td>\n",
       "      <td>4500 mAh Battery</td>\n",
       "      <td>https://www.flipkart.com/oneplus-nord-ce-5g-si...</td>\n",
       "    </tr>\n",
       "    <tr>\n",
       "      <th>21</th>\n",
       "      <td>OnePlus Nord CE 5G</td>\n",
       "      <td>Blue Void</td>\n",
       "      <td>12 GB RAM</td>\n",
       "      <td>256 GB ROM</td>\n",
       "      <td>64MP Rear Camera</td>\n",
       "      <td>16.33 cm (6.43 inch) Display</td>\n",
       "      <td>4500 mAh Battery</td>\n",
       "      <td>https://www.flipkart.com/oneplus-nord-ce-5g-bl...</td>\n",
       "    </tr>\n",
       "    <tr>\n",
       "      <th>22</th>\n",
       "      <td>OnePlus Nord CE 5G</td>\n",
       "      <td>Silver Ray</td>\n",
       "      <td>6 GB RAM</td>\n",
       "      <td>128 GB ROM</td>\n",
       "      <td>64MP Rear Camera</td>\n",
       "      <td>16.33 cm (6.43 inch) Display</td>\n",
       "      <td>4500 mAh Battery</td>\n",
       "      <td>https://www.flipkart.com/oneplus-nord-ce-5g-si...</td>\n",
       "    </tr>\n",
       "    <tr>\n",
       "      <th>23</th>\n",
       "      <td>OnePlus Nord CE 5G</td>\n",
       "      <td>Silver Gray</td>\n",
       "      <td>8 GB RAM</td>\n",
       "      <td>128 GB ROM</td>\n",
       "      <td>64MP Rear Camera</td>\n",
       "      <td>16.33 cm (6.43 inch) Display</td>\n",
       "      <td>4500 mAh Battery</td>\n",
       "      <td>https://www.flipkart.com/oneplus-nord-ce-5g-si...</td>\n",
       "    </tr>\n",
       "  </tbody>\n",
       "</table>\n",
       "</div>"
      ],
      "text/plain": [
       "                 Product Name        Colour        RAM         ROM  \\\n",
       "0   OnePlus Nord CE 2 Lite 5G     Blue Tide   6 GB RAM  128 GB ROM   \n",
       "1   OnePlus Nord CE 2 Lite 5G    Black Dusk   6 GB RAM  128 GB ROM   \n",
       "2          OnePlus Nord 2T 5G      Jade Fog   8 GB RAM  128 GB ROM   \n",
       "3          OnePlus Nord 2T 5G      Jade Fog   8 GB RAM  128 GB ROM   \n",
       "4          OnePlus Nord 2T 5G   Gray Shadow   8 GB RAM  128 GB ROM   \n",
       "5          OnePlus Nord 2T 5G   Gray Shadow  12 GB RAM  256 GB ROM   \n",
       "6          OnePlus Nord 2T 5G   Gray Shadow   8 GB RAM  128 GB ROM   \n",
       "7   OnePlus Nord CE 2 Lite 5G     Blue Tide   8 GB RAM  128 GB ROM   \n",
       "8        OnePlus Nord CE 2 5G   Gray Mirror   6 GB RAM  128 GB ROM   \n",
       "9        OnePlus Nord CE 2 5G   Bahama Blue   8 GB RAM  128 GB ROM   \n",
       "10         OnePlus Nord 2T 5G      Jade Fog  12 GB RAM  256 GB ROM   \n",
       "11       OnePlus Nord CE 2 5G   Bahama Blue   6 GB RAM  128 GB ROM   \n",
       "12       OnePlus Nord CE 2 5G   Bahama Blue   8 GB RAM  128 GB ROM   \n",
       "13       OnePlus Nord CE 2 5G   Bahama Blue   8 GB RAM  128 GB ROM   \n",
       "14          OnePlus Nord 2 5G    Green Wood  12 GB RAM  256 GB ROM   \n",
       "15  OnePlus Nord CE 2 Lite 5G    Black Dusk   8 GB RAM  128 GB ROM   \n",
       "16       OnePlus Nord CE 2 5G   Gray Mirror   8 GB RAM  128 GB ROM   \n",
       "17          OnePlus Nord 2 5G       PAC-MAN  12 GB RAM  256 GB ROM   \n",
       "18  OnePlus Nord CE 3 Lite 5G   Pastel Lime   8 GB RAM  128 GB ROM   \n",
       "19         OnePlus Nord CE 5G  Charcoal Ink   8 GB RAM  128 GB ROM   \n",
       "20         OnePlus Nord CE 5G    Silver Ray  12 GB RAM  256 GB ROM   \n",
       "21         OnePlus Nord CE 5G     Blue Void  12 GB RAM  256 GB ROM   \n",
       "22         OnePlus Nord CE 5G    Silver Ray   6 GB RAM  128 GB ROM   \n",
       "23         OnePlus Nord CE 5G   Silver Gray   8 GB RAM  128 GB ROM   \n",
       "\n",
       "               Camera                       Display  Battery Capacity  \\\n",
       "0    64MP Rear Camera  16.74 cm (6.59 inch) Display  5000 mAh Battery   \n",
       "1    64MP Rear Camera  16.74 cm (6.59 inch) Display  5000 mAh Battery   \n",
       "2    50MP Rear Camera   17.02 cm (6.7 inch) Display  4500 mAh Battery   \n",
       "3    50MP Rear Camera   17.02 cm (6.7 inch) Display  4500 mAh Battery   \n",
       "4    50MP Rear Camera   17.02 cm (6.7 inch) Display  4500 mAh Battery   \n",
       "5    50MP Rear Camera   17.02 cm (6.7 inch) Display  4500 mAh Battery   \n",
       "6    50MP Rear Camera   17.02 cm (6.7 inch) Display  4500 mAh Battery   \n",
       "7    64MP Rear Camera  16.74 cm (6.59 inch) Display  5000 mAh Battery   \n",
       "8    64MP Rear Camera  16.33 cm (6.43 inch) Display  4500 mAh Battery   \n",
       "9    64MP Rear Camera  16.33 cm (6.43 inch) Display  4500 mAh Battery   \n",
       "10   50MP Rear Camera   17.02 cm (6.7 inch) Display  4500 mAh Battery   \n",
       "11   64MP Rear Camera  16.33 cm (6.43 inch) Display  4500 mAh Battery   \n",
       "12   64MP Rear Camera  16.33 cm (6.43 inch) Display  4500 mAh Battery   \n",
       "13   64MP Rear Camera  16.33 cm (6.43 inch) Display  4500 mAh Battery   \n",
       "14   50MP Rear Camera  16.33 cm (6.43 inch) Display  4500 mAh Battery   \n",
       "15   64MP Rear Camera  16.74 cm (6.59 inch) Display  5000 mAh Battery   \n",
       "16   64MP Rear Camera  16.33 cm (6.43 inch) Display  4500 mAh Battery   \n",
       "17   50MP Rear Camera  16.33 cm (6.43 inch) Display  4500 mAh Battery   \n",
       "18  108MP Rear Camera  17.07 cm (6.72 inch) Display  5000 mAh Battery   \n",
       "19   64MP Rear Camera  16.33 cm (6.43 inch) Display  4500 mAh Battery   \n",
       "20   64MP Rear Camera  16.33 cm (6.43 inch) Display  4500 mAh Battery   \n",
       "21   64MP Rear Camera  16.33 cm (6.43 inch) Display  4500 mAh Battery   \n",
       "22   64MP Rear Camera  16.33 cm (6.43 inch) Display  4500 mAh Battery   \n",
       "23   64MP Rear Camera  16.33 cm (6.43 inch) Display  4500 mAh Battery   \n",
       "\n",
       "                                                  URL  \n",
       "0   https://www.flipkart.com/oneplus-nord-ce-2-lit...  \n",
       "1   https://www.flipkart.com/oneplus-nord-ce-2-lit...  \n",
       "2   https://www.flipkart.com/oneplus-nord-2t-5g-ja...  \n",
       "3   https://www.flipkart.com/oneplus-nord-2t-5g-ja...  \n",
       "4   https://www.flipkart.com/oneplus-nord-2t-5g-gr...  \n",
       "5   https://www.flipkart.com/oneplus-nord-2t-5g-gr...  \n",
       "6   https://www.flipkart.com/oneplus-nord-2t-5g-gr...  \n",
       "7   https://www.flipkart.com/oneplus-nord-ce-2-lit...  \n",
       "8   https://www.flipkart.com/oneplus-nord-ce-2-5g-...  \n",
       "9   https://www.flipkart.com/oneplus-nord-ce-2-5g-...  \n",
       "10  https://www.flipkart.com/oneplus-nord-2t-5g-ja...  \n",
       "11  https://www.flipkart.com/oneplus-nord-ce-2-5g-...  \n",
       "12  https://www.flipkart.com/oneplus-nord-ce-2-5g-...  \n",
       "13  https://www.flipkart.com/oneplus-nord-ce-2-5g-...  \n",
       "14  https://www.flipkart.com/oneplus-nord-2-5g-gre...  \n",
       "15  https://www.flipkart.com/oneplus-nord-ce-2-lit...  \n",
       "16  https://www.flipkart.com/oneplus-nord-ce-2-5g-...  \n",
       "17  https://www.flipkart.com/oneplus-nord-2-5g-pac...  \n",
       "18  https://www.flipkart.com/oneplus-nord-ce-3-lit...  \n",
       "19  https://www.flipkart.com/oneplus-nord-ce-5g-ch...  \n",
       "20  https://www.flipkart.com/oneplus-nord-ce-5g-si...  \n",
       "21  https://www.flipkart.com/oneplus-nord-ce-5g-bl...  \n",
       "22  https://www.flipkart.com/oneplus-nord-ce-5g-si...  \n",
       "23  https://www.flipkart.com/oneplus-nord-ce-5g-si...  "
      ]
     },
     "execution_count": 214,
     "metadata": {},
     "output_type": "execute_result"
    }
   ],
   "source": [
    "df3 = pd.DataFrame({'Product Name':product_name1, 'Colour':colors_list, 'RAM':ram_list, 'ROM':rom_list, 'Camera':camera, 'Display':display, 'Battery Capacity':batt_capacity,'URL':product_url1})\n",
    "df3"
   ]
  },
  {
   "cell_type": "markdown",
   "id": "b450ba81",
   "metadata": {},
   "source": [
    "# 5. Write a program to scrap geospatial coordinates (latitude, longitude) of a city searched on google maps."
   ]
  },
  {
   "cell_type": "code",
   "execution_count": 215,
   "id": "b80fa3fe",
   "metadata": {},
   "outputs": [],
   "source": [
    "# first connect to the driver\n",
    "driver=webdriver.Chrome(r\"C:\\Users\\AnuragMishra\\Downloads\\chromedriver_win32.exe\")"
   ]
  },
  {
   "cell_type": "code",
   "execution_count": 216,
   "id": "7d3c6ffb",
   "metadata": {},
   "outputs": [],
   "source": [
    "# opening the google maps page on selenium automated chrome browser\n",
    "driver.get(\"https://www.google.com/maps\")"
   ]
  },
  {
   "cell_type": "code",
   "execution_count": 217,
   "id": "f1de1813",
   "metadata": {},
   "outputs": [],
   "source": [
    "city=driver.find_element(By.XPATH,\"/html/body/div[3]/div[9]/div[3]/div[1]/div[1]/div[1]/div[2]/form/div[2]/div[3]/div/input[1]\")\n",
    "city.send_keys('Delhi')"
   ]
  },
  {
   "cell_type": "code",
   "execution_count": 225,
   "id": "3842e540",
   "metadata": {},
   "outputs": [],
   "source": [
    "search=driver.find_element(By.XPATH,'//button[@class=\"mL3xi\"]')\n",
    "search.click()"
   ]
  },
  {
   "cell_type": "code",
   "execution_count": 235,
   "id": "2d88f05d",
   "metadata": {},
   "outputs": [
    {
     "name": "stdout",
     "output_type": "stream",
     "text": [
      "URL Extracted: https://www.google.com/maps/place/Delhi/@28.6436846,76.7635713,10z/data=!3m1!4b1!4m6!3m5!1s0x390cfd5b347eb62d:0x37205b715389640!8m2!3d28.7040592!4d77.1024902!16zL20vMDlmMDc\n",
      "Coordinates: ['28.6436846,76.7635713,10z/']\n"
     ]
    }
   ],
   "source": [
    "try:\n",
    "    url_string = driver.current_url\n",
    "    print(\"URL Extracted:\", url_string)\n",
    "    coordinates = re.findall(r'@(.*)data', url_string)\n",
    "    print(\"Coordinates:\", coordinates)\n",
    "except Exception as e:\n",
    "    print(\"Error occurred:\", str(e))"
   ]
  },
  {
   "cell_type": "code",
   "execution_count": 237,
   "id": "34a8e9d2",
   "metadata": {},
   "outputs": [],
   "source": [
    "coordinate = coordinates[0].split(',')\n",
    "latitude = coordinate[0]\n",
    "longitude = coordinate[1]"
   ]
  },
  {
   "cell_type": "code",
   "execution_count": 238,
   "id": "d83eacb8",
   "metadata": {},
   "outputs": [
    {
     "data": {
      "text/plain": [
       "'28.6436846'"
      ]
     },
     "execution_count": 238,
     "metadata": {},
     "output_type": "execute_result"
    }
   ],
   "source": [
    "latitude"
   ]
  },
  {
   "cell_type": "code",
   "execution_count": 239,
   "id": "ac3ba27b",
   "metadata": {},
   "outputs": [
    {
     "data": {
      "text/plain": [
       "'76.7635713'"
      ]
     },
     "execution_count": 239,
     "metadata": {},
     "output_type": "execute_result"
    }
   ],
   "source": [
    "longitude"
   ]
  },
  {
   "cell_type": "markdown",
   "id": "69dd90ba",
   "metadata": {},
   "source": []
  },
  {
   "cell_type": "markdown",
   "id": "a49ea4ea",
   "metadata": {},
   "source": []
  },
  {
   "cell_type": "markdown",
   "id": "f25ed604",
   "metadata": {},
   "source": [
    "# 6. Write a program to scrap all the available details of best gaming laptops from digit.in."
   ]
  },
  {
   "cell_type": "code",
   "execution_count": 292,
   "id": "65202029",
   "metadata": {},
   "outputs": [],
   "source": [
    "# first connect to the driver\n",
    "driver=webdriver.Chrome(r\"C:\\Users\\AnuragMishra\\Downloads\\chromedriver_win32.exe\")"
   ]
  },
  {
   "cell_type": "code",
   "execution_count": 293,
   "id": "e396e8b9",
   "metadata": {},
   "outputs": [],
   "source": [
    "# opening the digit.in page on selenium automated chrome browser\n",
    "driver.get(\"https://www.digit.in/\")"
   ]
  },
  {
   "cell_type": "code",
   "execution_count": 295,
   "id": "d5ea31b8",
   "metadata": {},
   "outputs": [],
   "source": [
    "search_l=driver.find_element(By.XPATH,'/html/body/div[2]/div/ul/li[7]/div/div/div[2]/div/ul[1]/li[2]/a')\n",
    "search_l.click()"
   ]
  },
  {
   "cell_type": "code",
   "execution_count": 296,
   "id": "a5ac2e7e",
   "metadata": {},
   "outputs": [],
   "source": [
    "search_bgl=driver.find_element(By.XPATH,'/html/body/div[7]/div/div/div[2]/div[1]/ul/li[9]/a')\n",
    "search_bgl.click()"
   ]
  },
  {
   "cell_type": "code",
   "execution_count": 307,
   "id": "4e2764dd",
   "metadata": {},
   "outputs": [],
   "source": [
    "name = []\n",
    "os = []\n",
    "disp = []\n",
    "mem = []\n",
    "price = []\n",
    "Processor = []\n",
    "wt = []\n",
    "desc = []"
   ]
  },
  {
   "cell_type": "code",
   "execution_count": 308,
   "id": "82e47c52",
   "metadata": {},
   "outputs": [],
   "source": [
    "# Scrape all name tag\n",
    "name_tag  = driver.find_elements(By.XPATH, \"//*[@id='summtable']/tbody/tr/td[1]\")\n",
    "for n in name_tag:\n",
    "    name.append(n.text)\n",
    "    \n",
    "# Scrape all price tag\n",
    "price_tag  = driver.find_elements(By.XPATH, \"//*[@id='summtable']/tbody/tr/td[3]\")\n",
    "for p in price_tag:\n",
    "    price.append(p.text)\n",
    "    \n",
    "# Scrape all OS tag\n",
    "os_tag = driver.find_elements(By.XPATH, \"//div[@class='Spcs-details']/table/tbody/tr[4]/td[3]\")\n",
    "for o in os_tag:\n",
    "    os.append(o.text)\n",
    "    \n",
    "# Scrape all display tag\n",
    "disp_tag = driver.find_elements(By.XPATH, \"//div[@class='Spcs-details']/table/tbody/tr[3]/td[3]\")\n",
    "for d in disp_tag:\n",
    "    disp.append(d.text)\n",
    "    \n",
    "# Scrape all Processor tag\n",
    "Processor_tag = driver.find_elements(By.XPATH, \"//div[@class='Spcs-details']/table/tbody/tr[5]/td[3]\")\n",
    "for k in Processor_tag:\n",
    "    Processor.append(k.text)\n",
    "    \n",
    "# # Scrape all Graphic tag\n",
    "# GraphProc_tag = driver.find_elements(By.XPATH, \"//div[@class='value']\")\n",
    "# for g in GraphProc_tag:\n",
    "#     GraphProc.append(g.text)\n",
    "    \n",
    "# Scrape all memory tag\n",
    "mem_tag = driver.find_elements(By.XPATH, \"//div[@class='Spcs-details']/table/tbody/tr[6]/td[3]\")\n",
    "for m in mem_tag:\n",
    "    mem.append(m.text)\n",
    "        \n",
    "# Scrape all weight tag\n",
    "wt_tag = driver.find_elements(By.XPATH, \"//div[@class='Spcs-details']/table/tbody/tr[7]/td[3]\")\n",
    "for w in wt_tag:\n",
    "    wt.append(w.text)\n",
    "    \n",
    "# Scrape all description tag\n",
    "desc_tag = driver.find_elements(By.XPATH, \"//div[@class='Section-center']//p\")\n",
    "for des in desc_tag:\n",
    "    desc.append(des.text)"
   ]
  },
  {
   "cell_type": "code",
   "execution_count": 310,
   "id": "3eea4e9f",
   "metadata": {},
   "outputs": [
    {
     "name": "stdout",
     "output_type": "stream",
     "text": [
      "7 7 7 7 7 7 7\n"
     ]
    },
    {
     "data": {
      "text/html": [
       "<div>\n",
       "<style scoped>\n",
       "    .dataframe tbody tr th:only-of-type {\n",
       "        vertical-align: middle;\n",
       "    }\n",
       "\n",
       "    .dataframe tbody tr th {\n",
       "        vertical-align: top;\n",
       "    }\n",
       "\n",
       "    .dataframe thead th {\n",
       "        text-align: right;\n",
       "    }\n",
       "</style>\n",
       "<table border=\"1\" class=\"dataframe\">\n",
       "  <thead>\n",
       "    <tr style=\"text-align: right;\">\n",
       "      <th></th>\n",
       "      <th>Laptop Name</th>\n",
       "      <th>Operating System</th>\n",
       "      <th>Display</th>\n",
       "      <th>Processor</th>\n",
       "      <th>Memory</th>\n",
       "      <th>Dimension &amp; Weight(kg)</th>\n",
       "      <th>Price(₹)</th>\n",
       "    </tr>\n",
       "  </thead>\n",
       "  <tbody>\n",
       "    <tr>\n",
       "      <th>0</th>\n",
       "      <td>HP OMEN 17 (2023)</td>\n",
       "      <td>Windows 11 Home</td>\n",
       "      <td>17.3″ (2560 x 1440) screen, 165 Hz refresh rate</td>\n",
       "      <td>16 GB DDR5GB RAM &amp; 1 TB SSD</td>\n",
       "      <td>12 GB DDR6 NVIDIA GeForce RTX 4080 Graphics card</td>\n",
       "      <td>397.1 x 262 x 27 mm dimension &amp; 2.78 kg weight</td>\n",
       "      <td>₹ 269,777</td>\n",
       "    </tr>\n",
       "    <tr>\n",
       "      <th>1</th>\n",
       "      <td>MSI Titan GT77 12UHS</td>\n",
       "      <td>Windows 11 Home</td>\n",
       "      <td>17.3″ (3840 x 2160) screen, 120 Hz refresh rate</td>\n",
       "      <td>64 GB DDR5GB RAM &amp; 2 TB SSD</td>\n",
       "      <td>16 GB DDR6 NVIDIA GeForce RTX 3080Ti Graphics ...</td>\n",
       "      <td>397 x 330 x 23 mm dimension &amp; 3.3 kg weight</td>\n",
       "      <td>₹ 499,990</td>\n",
       "    </tr>\n",
       "    <tr>\n",
       "      <th>2</th>\n",
       "      <td>Lenovo Legion 5i Pro</td>\n",
       "      <td>Windows 11 Home</td>\n",
       "      <td>16″ (2560 x 1600) screen</td>\n",
       "      <td>32 GB DDR5GB RAM &amp; 1 TB SSD</td>\n",
       "      <td>NVIDIA GeForce RTX 3070 Ti Graphics card</td>\n",
       "      <td>359.9 x 264.4 x 19.9 mm dimension &amp; 3.6 kg weight</td>\n",
       "      <td>₹ 218,000</td>\n",
       "    </tr>\n",
       "    <tr>\n",
       "      <th>3</th>\n",
       "      <td>ASUS ROG Strix Scar 18 2023</td>\n",
       "      <td>Windows 11 Home</td>\n",
       "      <td>18″ (1920 x 1200) screen, 165 Hz refresh rate</td>\n",
       "      <td>32 GB DDR5GB RAM &amp; 1 TB SSD</td>\n",
       "      <td>12 GB DDR6 NVIDIA GeForce RTX 4080 Graphics card</td>\n",
       "      <td>294 x 399 x 23 mm dimension &amp; 3.1 kg weight</td>\n",
       "      <td>₹ 279,990</td>\n",
       "    </tr>\n",
       "    <tr>\n",
       "      <th>4</th>\n",
       "      <td>Acer Predator Helios Neo 16</td>\n",
       "      <td>Windows 11 Home</td>\n",
       "      <td>16″ (2560 x 1600) screen, 165 Hz refresh rate</td>\n",
       "      <td>16 GB DDR5GB RAM &amp; 1 TB SSD</td>\n",
       "      <td>8 GB DDR6 NVIDIA GeForce RTX 4060 Graphics card</td>\n",
       "      <td>360 x 279 x 28 mm dimension &amp; 2.6 kg weight</td>\n",
       "      <td>₹ 149,990</td>\n",
       "    </tr>\n",
       "    <tr>\n",
       "      <th>5</th>\n",
       "      <td>ASUS ROG Zephyrus G14</td>\n",
       "      <td>Windows 11 Home</td>\n",
       "      <td>14″ (1920 x 1200) screen, 144 Hz refresh rate</td>\n",
       "      <td>16 GB DDR5GB RAM &amp; 1 TB SSD</td>\n",
       "      <td>8 GB DDR6 AMD Radeon RX 6700S Graphics card</td>\n",
       "      <td>312 x 227 x 19 mm dimension &amp; 1.65 kg weight</td>\n",
       "      <td>₹ 156,990</td>\n",
       "    </tr>\n",
       "    <tr>\n",
       "      <th>6</th>\n",
       "      <td>MSI Cyborg 15</td>\n",
       "      <td>Windows 11 Home</td>\n",
       "      <td>15.6″ (1920 x 1080) screen, 144 Hz refresh rate</td>\n",
       "      <td>16 GB DDR5GB RAM &amp; 1 TB SSD</td>\n",
       "      <td>8 GB DDR6 NVIDIA GeForce RTX 4060 Graphics card</td>\n",
       "      <td>&amp; 1.98 kg weight</td>\n",
       "      <td>₹ 130,990</td>\n",
       "    </tr>\n",
       "  </tbody>\n",
       "</table>\n",
       "</div>"
      ],
      "text/plain": [
       "                   Laptop Name Operating System  \\\n",
       "0            HP OMEN 17 (2023)  Windows 11 Home   \n",
       "1         MSI Titan GT77 12UHS  Windows 11 Home   \n",
       "2         Lenovo Legion 5i Pro  Windows 11 Home   \n",
       "3  ASUS ROG Strix Scar 18 2023  Windows 11 Home   \n",
       "4  Acer Predator Helios Neo 16  Windows 11 Home   \n",
       "5        ASUS ROG Zephyrus G14  Windows 11 Home   \n",
       "6                MSI Cyborg 15  Windows 11 Home   \n",
       "\n",
       "                                           Display  \\\n",
       "0  17.3″ (2560 x 1440) screen, 165 Hz refresh rate   \n",
       "1  17.3″ (3840 x 2160) screen, 120 Hz refresh rate   \n",
       "2                         16″ (2560 x 1600) screen   \n",
       "3    18″ (1920 x 1200) screen, 165 Hz refresh rate   \n",
       "4    16″ (2560 x 1600) screen, 165 Hz refresh rate   \n",
       "5    14″ (1920 x 1200) screen, 144 Hz refresh rate   \n",
       "6  15.6″ (1920 x 1080) screen, 144 Hz refresh rate   \n",
       "\n",
       "                     Processor  \\\n",
       "0  16 GB DDR5GB RAM & 1 TB SSD   \n",
       "1  64 GB DDR5GB RAM & 2 TB SSD   \n",
       "2  32 GB DDR5GB RAM & 1 TB SSD   \n",
       "3  32 GB DDR5GB RAM & 1 TB SSD   \n",
       "4  16 GB DDR5GB RAM & 1 TB SSD   \n",
       "5  16 GB DDR5GB RAM & 1 TB SSD   \n",
       "6  16 GB DDR5GB RAM & 1 TB SSD   \n",
       "\n",
       "                                              Memory  \\\n",
       "0   12 GB DDR6 NVIDIA GeForce RTX 4080 Graphics card   \n",
       "1  16 GB DDR6 NVIDIA GeForce RTX 3080Ti Graphics ...   \n",
       "2           NVIDIA GeForce RTX 3070 Ti Graphics card   \n",
       "3   12 GB DDR6 NVIDIA GeForce RTX 4080 Graphics card   \n",
       "4    8 GB DDR6 NVIDIA GeForce RTX 4060 Graphics card   \n",
       "5        8 GB DDR6 AMD Radeon RX 6700S Graphics card   \n",
       "6    8 GB DDR6 NVIDIA GeForce RTX 4060 Graphics card   \n",
       "\n",
       "                              Dimension & Weight(kg)   Price(₹)  \n",
       "0     397.1 x 262 x 27 mm dimension & 2.78 kg weight  ₹ 269,777  \n",
       "1        397 x 330 x 23 mm dimension & 3.3 kg weight  ₹ 499,990  \n",
       "2  359.9 x 264.4 x 19.9 mm dimension & 3.6 kg weight  ₹ 218,000  \n",
       "3        294 x 399 x 23 mm dimension & 3.1 kg weight  ₹ 279,990  \n",
       "4        360 x 279 x 28 mm dimension & 2.6 kg weight  ₹ 149,990  \n",
       "5       312 x 227 x 19 mm dimension & 1.65 kg weight  ₹ 156,990  \n",
       "6                                   & 1.98 kg weight  ₹ 130,990  "
      ]
     },
     "execution_count": 310,
     "metadata": {},
     "output_type": "execute_result"
    }
   ],
   "source": [
    "Laptops = {'Laptop Name':name,'Operating System':os,'Display': disp,'Processor':Processor,'Memory':mem,'Dimension & Weight(kg)':wt,'Price(₹)':price}\n",
    "print(len(name),len(os),len(disp),len(Processor),len(mem),len(wt),len(price))\n",
    "bgl  = pd.DataFrame(Laptops)\n",
    "bgl"
   ]
  },
  {
   "cell_type": "markdown",
   "id": "bbfa4c39",
   "metadata": {},
   "source": [
    "# 7. Write a python program to scrape the details for all billionaires from www.forbes.com. Details to be scrapped: “Rank”, “Name”, “Net worth”, “Age”, “Citizenship”, “Source”, “Industry”."
   ]
  },
  {
   "cell_type": "code",
   "execution_count": 351,
   "id": "dbabe3b4",
   "metadata": {},
   "outputs": [],
   "source": [
    "# first connect to the driver\n",
    "driver=webdriver.Chrome(r\"C:\\Users\\AnuragMishra\\Downloads\\chromedriver_win32.exe\")\n",
    "\n",
    "driver.get(\"https://www.forbes.com/\")"
   ]
  },
  {
   "cell_type": "code",
   "execution_count": 352,
   "id": "74216eca",
   "metadata": {},
   "outputs": [],
   "source": [
    "bill=driver.find_element(By.XPATH,'/html/body/div[1]/header/nav/div[1]/div[1]/div/div[2]/ul/li[2]/div[2]/div[3]/ul/li[1]/a')\n",
    "bill.click()"
   ]
  },
  {
   "cell_type": "code",
   "execution_count": 367,
   "id": "13e66edb",
   "metadata": {},
   "outputs": [],
   "source": [
    "rank = []\n",
    "name = []\n",
    "networth = []\n",
    "age = []\n",
    "city = []\n",
    "source = []\n",
    "industry = []"
   ]
  },
  {
   "cell_type": "code",
   "execution_count": 368,
   "id": "fb091fb9",
   "metadata": {},
   "outputs": [],
   "source": [
    "rank_tag = driver.find_elements(By.XPATH, \"//div[@class='Table_rank___YBhk Table_dataCell__2QCve']\")\n",
    "for r in rank_tag:\n",
    "    rank.append(r.text)\n",
    "name_tag = driver.find_elements(By.XPATH, \"//div[2][@class='TableRow_cell__db-hv Table_cell__houv9']\")\n",
    "for n in name_tag:\n",
    "    name.append(n.text)\n",
    "netwrth_tag = driver.find_elements(By.XPATH, \"//div[@class='Table_netWorth___L4R5 Table_dataCell__2QCve']\")\n",
    "for nt in netwrth_tag:\n",
    "    networth.append(nt.text)\n",
    "age_tag = driver.find_elements(By.XPATH, \"//div[4][@class='TableRow_cell__db-hv Table_cell__houv9']\")\n",
    "for a in age_tag:\n",
    "    age.append(a.text)\n",
    "cit_tag = driver.find_elements(By.XPATH, \"//div[5][@class='TableRow_cell__db-hv Table_cell__houv9']\")\n",
    "for c in cit_tag:\n",
    "    city.append(c.text)\n",
    "src_tag = driver.find_elements(By.XPATH, \"//div[6][@class='TableRow_cell__db-hv Table_cell__houv9']\")\n",
    "for s in src_tag:\n",
    "    source.append(s.text)\n",
    "ind_tag = driver.find_elements(By.XPATH, \"//div[7][@class='TableRow_cell__db-hv Table_cell__houv9']\")\n",
    "for i in ind_tag:\n",
    "    industry.append(i.text)"
   ]
  },
  {
   "cell_type": "code",
   "execution_count": 369,
   "id": "f6215c88",
   "metadata": {},
   "outputs": [
    {
     "name": "stdout",
     "output_type": "stream",
     "text": [
      "200 200 200 200 200 200 200\n"
     ]
    }
   ],
   "source": [
    "print(len(rank),len(name),len(networth),len(age),len(city),len(source),len(industry))"
   ]
  },
  {
   "cell_type": "code",
   "execution_count": 370,
   "id": "979d1923",
   "metadata": {},
   "outputs": [
    {
     "data": {
      "text/html": [
       "<div>\n",
       "<style scoped>\n",
       "    .dataframe tbody tr th:only-of-type {\n",
       "        vertical-align: middle;\n",
       "    }\n",
       "\n",
       "    .dataframe tbody tr th {\n",
       "        vertical-align: top;\n",
       "    }\n",
       "\n",
       "    .dataframe thead th {\n",
       "        text-align: right;\n",
       "    }\n",
       "</style>\n",
       "<table border=\"1\" class=\"dataframe\">\n",
       "  <thead>\n",
       "    <tr style=\"text-align: right;\">\n",
       "      <th></th>\n",
       "      <th>Rank</th>\n",
       "      <th>Name</th>\n",
       "      <th>Net Worth</th>\n",
       "      <th>Age</th>\n",
       "      <th>Citizenship</th>\n",
       "      <th>Source</th>\n",
       "      <th>Industry</th>\n",
       "    </tr>\n",
       "  </thead>\n",
       "  <tbody>\n",
       "    <tr>\n",
       "      <th>0</th>\n",
       "      <td>1</td>\n",
       "      <td>Bernard Arnault &amp; family</td>\n",
       "      <td>$211 B</td>\n",
       "      <td>74</td>\n",
       "      <td>France</td>\n",
       "      <td>LVMH</td>\n",
       "      <td>Fashion &amp; Retail</td>\n",
       "    </tr>\n",
       "    <tr>\n",
       "      <th>1</th>\n",
       "      <td>2</td>\n",
       "      <td>Elon Musk</td>\n",
       "      <td>$180 B</td>\n",
       "      <td>51</td>\n",
       "      <td>United States</td>\n",
       "      <td>Tesla, SpaceX</td>\n",
       "      <td>Automotive</td>\n",
       "    </tr>\n",
       "    <tr>\n",
       "      <th>2</th>\n",
       "      <td>3</td>\n",
       "      <td>Jeff Bezos</td>\n",
       "      <td>$114 B</td>\n",
       "      <td>59</td>\n",
       "      <td>United States</td>\n",
       "      <td>Amazon</td>\n",
       "      <td>Technology</td>\n",
       "    </tr>\n",
       "    <tr>\n",
       "      <th>3</th>\n",
       "      <td>4</td>\n",
       "      <td>Larry Ellison</td>\n",
       "      <td>$107 B</td>\n",
       "      <td>78</td>\n",
       "      <td>United States</td>\n",
       "      <td>Oracle</td>\n",
       "      <td>Technology</td>\n",
       "    </tr>\n",
       "    <tr>\n",
       "      <th>4</th>\n",
       "      <td>5</td>\n",
       "      <td>Warren Buffett</td>\n",
       "      <td>$106 B</td>\n",
       "      <td>92</td>\n",
       "      <td>United States</td>\n",
       "      <td>Berkshire Hathaway</td>\n",
       "      <td>Finance &amp; Investments</td>\n",
       "    </tr>\n",
       "    <tr>\n",
       "      <th>...</th>\n",
       "      <td>...</td>\n",
       "      <td>...</td>\n",
       "      <td>...</td>\n",
       "      <td>...</td>\n",
       "      <td>...</td>\n",
       "      <td>...</td>\n",
       "      <td>...</td>\n",
       "    </tr>\n",
       "    <tr>\n",
       "      <th>195</th>\n",
       "      <td>195</td>\n",
       "      <td>Jin Baofang</td>\n",
       "      <td>$9.6 B</td>\n",
       "      <td>70</td>\n",
       "      <td>China</td>\n",
       "      <td>Solar panels</td>\n",
       "      <td>Energy</td>\n",
       "    </tr>\n",
       "    <tr>\n",
       "      <th>196</th>\n",
       "      <td>195</td>\n",
       "      <td>Luo Liguo &amp; family</td>\n",
       "      <td>$9.6 B</td>\n",
       "      <td>67</td>\n",
       "      <td>China</td>\n",
       "      <td>Chemicals</td>\n",
       "      <td>Manufacturing</td>\n",
       "    </tr>\n",
       "    <tr>\n",
       "      <th>197</th>\n",
       "      <td>195</td>\n",
       "      <td>Marijke Mars</td>\n",
       "      <td>$9.6 B</td>\n",
       "      <td>58</td>\n",
       "      <td>United States</td>\n",
       "      <td>Candy, pet food</td>\n",
       "      <td>Food &amp; Beverage</td>\n",
       "    </tr>\n",
       "    <tr>\n",
       "      <th>198</th>\n",
       "      <td>195</td>\n",
       "      <td>Pamela Mars</td>\n",
       "      <td>$9.6 B</td>\n",
       "      <td>62</td>\n",
       "      <td>United States</td>\n",
       "      <td>Candy, pet food</td>\n",
       "      <td>Food &amp; Beverage</td>\n",
       "    </tr>\n",
       "    <tr>\n",
       "      <th>199</th>\n",
       "      <td>195</td>\n",
       "      <td>Valerie Mars</td>\n",
       "      <td>$9.6 B</td>\n",
       "      <td>64</td>\n",
       "      <td>United States</td>\n",
       "      <td>Candy, pet food</td>\n",
       "      <td>Food &amp; Beverage</td>\n",
       "    </tr>\n",
       "  </tbody>\n",
       "</table>\n",
       "<p>200 rows × 7 columns</p>\n",
       "</div>"
      ],
      "text/plain": [
       "    Rank                      Name Net Worth Age    Citizenship  \\\n",
       "0      1  Bernard Arnault & family    $211 B  74         France   \n",
       "1      2                 Elon Musk    $180 B  51  United States   \n",
       "2      3                Jeff Bezos    $114 B  59  United States   \n",
       "3      4             Larry Ellison    $107 B  78  United States   \n",
       "4      5            Warren Buffett    $106 B  92  United States   \n",
       "..   ...                       ...       ...  ..            ...   \n",
       "195  195               Jin Baofang    $9.6 B  70          China   \n",
       "196  195        Luo Liguo & family    $9.6 B  67          China   \n",
       "197  195              Marijke Mars    $9.6 B  58  United States   \n",
       "198  195               Pamela Mars    $9.6 B  62  United States   \n",
       "199  195              Valerie Mars    $9.6 B  64  United States   \n",
       "\n",
       "                 Source               Industry  \n",
       "0                  LVMH       Fashion & Retail  \n",
       "1         Tesla, SpaceX             Automotive  \n",
       "2                Amazon             Technology  \n",
       "3                Oracle             Technology  \n",
       "4    Berkshire Hathaway  Finance & Investments  \n",
       "..                  ...                    ...  \n",
       "195        Solar panels                 Energy  \n",
       "196           Chemicals          Manufacturing  \n",
       "197     Candy, pet food        Food & Beverage  \n",
       "198     Candy, pet food        Food & Beverage  \n",
       "199     Candy, pet food        Food & Beverage  \n",
       "\n",
       "[200 rows x 7 columns]"
      ]
     },
     "execution_count": 370,
     "metadata": {},
     "output_type": "execute_result"
    }
   ],
   "source": [
    "df4 = pd.DataFrame({'Rank':rank,'Name':name,'Net Worth':networth, 'Age':age,'Citizenship':city,'Source':source,'Industry':industry})\n",
    "df4"
   ]
  },
  {
   "cell_type": "markdown",
   "id": "f03c551d",
   "metadata": {},
   "source": [
    "# 8. Write a program to extract at least 500 Comments, Comment upvote and time when comment was posted from any YouTube Video."
   ]
  },
  {
   "cell_type": "code",
   "execution_count": 396,
   "id": "8449c58f",
   "metadata": {},
   "outputs": [],
   "source": [
    "# first connect to the driver\n",
    "driver=webdriver.Chrome(r\"C:\\Users\\AnuragMishra\\Downloads\\chromedriver_win32.exe\")\n",
    "\n",
    "driver.get(\"https://www.youtube.com/\")"
   ]
  },
  {
   "cell_type": "code",
   "execution_count": 397,
   "id": "9b95abb0",
   "metadata": {},
   "outputs": [],
   "source": [
    "play=driver.find_element(By.XPATH,'/html/body/ytd-app/div[1]/ytd-page-manager/ytd-browse/ytd-two-column-browse-results-renderer/div[1]/ytd-rich-grid-renderer/div[6]/ytd-rich-grid-row[1]/div/ytd-rich-item-renderer[2]/div/ytd-rich-grid-media/div[1]/div[2]/div[1]/h3/a/yt-formatted-string')\n",
    "play.click()"
   ]
  },
  {
   "cell_type": "code",
   "execution_count": 398,
   "id": "50fb4e17",
   "metadata": {},
   "outputs": [],
   "source": [
    "for _ in range(100):\n",
    "    driver.execute_script(\"window.scrollBy(0,1000)\")\n",
    "\n",
    "comments=driver.find_elements(By.XPATH,'//yt-formatted-string[@class=\"style-scope ytd-comment-renderer\"]')\n",
    "upvotes=driver.find_elements(By.XPATH,'//span[@class=\"style-scope ytd-comment-action-buttons-renderer\"]')\n",
    "times=driver.find_elements(By.XPATH,'//yt-formatted-string[@class=\"published-time-text style-scope ytd-comment-renderer\"]')\n",
    "\n",
    "comment = []\n",
    "upvote = []\n",
    "time =[]\n",
    "\n",
    "for i in comments:\n",
    "    comments1=i.text\n",
    "    comment.append(comments1)\n",
    "\n",
    "for i in upvotes:\n",
    "    upvotes1=i.text\n",
    "    upvote.append(upvotes1)\n",
    "    \n",
    "for i in times:\n",
    "    times1=i.text\n",
    "    time.append(times1)"
   ]
  },
  {
   "cell_type": "code",
   "execution_count": 411,
   "id": "7e431e00",
   "metadata": {},
   "outputs": [
    {
     "data": {
      "text/plain": [
       "['WE HOPE YOU LIKED THE FIRST SONG OF THE ALBUM\\nLIKE | COMMENT | SHARE\\n      ',\n",
       " 'Akshay sir is the best , kya act Kiya he sir ne \\n      ',\n",
       " \"No one can Beat Akshay Kumar's Acting  And B Praak Voice️ \\n      \",\n",
       " 'Many peoples giving Appreciation to Akshay But No One noticing How Deep Its Lyrics Are Every Word Is Very Meaningful For Heart Broken Lovers\\n      ',\n",
       " '2:33 to 3:33 ..... Brilliantly written...Respect to Jaani sir...️️️\\n      ',\n",
       " \"Akshay sir's acting and B praak's voice this combo is back to break records \\n      \",\n",
       " 'Jaani + B praak = Masterpiece\\n      ',\n",
       " \"No one can dislike JAANI'S song in Bpraak voice \\n      \",\n",
       " 'Akshay sir is not a name he is a brand \\n      ',\n",
       " 'No explanation Just fire  Akshay and B Praak️️\\n      ',\n",
       " \"No one can beat b praak's voice \\n      \",\n",
       " \"Trust me, this is an anthem of every responsible person who knows that dark Truth of sweetheart but can't forgot his emotions .......\\n      \",\n",
       " \"The biggest combination of bollywood song with b praak  voice and akshay kumar's acting ️️\\n      \",\n",
       " \"B praak's voice + Jaani's lyrics + Akshay 's acting (emotions)= (Heart touching )\\n      \",\n",
       " 'It deserves 1B \\nNice Combination Akshay kumar  + b praak + Jaani \\n\\n      ',\n",
       " 'What a song and what a performance #akshaypaji. Composition, lyrics, and music awesome \\n      ',\n",
       " '200%Desi Melodies Matlab Gaama Aala ️\\n      ',\n",
       " 'Amazing Song...Lyrics of its kind...The Rhythm Pattern with Exemplary Cuts and Pick Ups. Predeterminent Akshay Throwing away the back seat of Scooter and getting back the Ring is the best part of this song!\\n      ',\n",
       " \"No one can beat Akshay Kumar's acting and B Praak voice ️️️\\n      \",\n",
       " 'None Other Than Only One Man The Khiladi Of Bollywood Akshay Kumar...\\n      ',\n",
       " 'Jaani lyrics +Bpraak voice+Akki Performance = Infinite️\\n      ',\n",
       " 'Nice song\\n      ',\n",
       " 'Always impress by their combination, Jaani + bpraak \\n      ',\n",
       " 'lyrics+singing+act=blasttttttt\\n      ',\n",
       " 'what a masterpiece \\n      ',\n",
       " \"Akki Sir has nailed it once again with his powerful performance. Brilliant! B Praak's vocal is amazing and can feel the painn in his voice. Amyra, good job. Congratulation steam. Waiting for the next song of the album. Good luck.  \\n      \",\n",
       " 'Wow Akshay never disappoint us️\\n      ',\n",
       " 'I totally addicted for this song \\n      ',\n",
       " \"Such A beautiful Song You Can't Believe I Listen this song 500 time only in 2 day's \\n      \",\n",
       " 'All Time Voice Outstanding And Akshay Sir Preformens Always Best\\n      ',\n",
       " 'Thanks to all team of desi melodies giving this masterpiece \\n      ',\n",
       " 'The lyrics are just .... Goosebumps...\\n      ',\n",
       " 'Really obsessed with this song \\n      ',\n",
       " 'No one can beat writers \\n      ',\n",
       " '1:21 goosebumps moment what energy Akshay sir\\n      ',\n",
       " 'Awesome song \\n      ',\n",
       " 'FOR AKSHAY KUMAR : This man is literally born to make history ️\\n      ',\n",
       " 'Masterpieces song ️  Akki acting \\n      ',\n",
       " 'Akshay sir acting+b.prak sir voice+Jani sir lyrics = blockbuster song \\n      ']"
      ]
     },
     "execution_count": 411,
     "metadata": {},
     "output_type": "execute_result"
    }
   ],
   "source": [
    "comment"
   ]
  },
  {
   "cell_type": "code",
   "execution_count": 409,
   "id": "88e9c3e2",
   "metadata": {},
   "outputs": [
    {
     "name": "stdout",
     "output_type": "stream",
     "text": [
      "['7.4K', '3.2K', '137', '128', '44', '6', '2.1K', '27', '30', '3', '62', '1', '3.6K', '70', '68', '3', '56', '406', '29', '23', '1', '42', '129', '5', '7', '8', '1', '248', '9', '5', '4', '1', '407', '11']\n"
     ]
    }
   ],
   "source": [
    "c_upvote = [item for item in upvote if item != '']\n",
    "\n",
    "print(c_upvote)"
   ]
  },
  {
   "cell_type": "code",
   "execution_count": 412,
   "id": "0675c336",
   "metadata": {},
   "outputs": [
    {
     "data": {
      "text/plain": [
       "['3 days ago',\n",
       " '1 day ago',\n",
       " '5 hours ago',\n",
       " '8 hours ago',\n",
       " '4 hours ago',\n",
       " '12 minutes ago',\n",
       " '3 days ago',\n",
       " '3 hours ago',\n",
       " '5 hours ago',\n",
       " '1 hour ago (edited)',\n",
       " '6 hours ago',\n",
       " '1 hour ago',\n",
       " '2 days ago',\n",
       " '9 hours ago',\n",
       " '6 hours ago (edited)',\n",
       " '2 hours ago',\n",
       " '10 hours ago',\n",
       " '1 hour ago',\n",
       " '12 hours ago',\n",
       " '5 hours ago',\n",
       " '6 hours ago',\n",
       " '28 minutes ago',\n",
       " '9 hours ago',\n",
       " '6 minutes ago',\n",
       " '2 days ago',\n",
       " '10 hours ago',\n",
       " '9 hours ago',\n",
       " '42 minutes ago',\n",
       " '4 hours ago',\n",
       " '1 hour ago',\n",
       " '3 days ago',\n",
       " '7 hours ago',\n",
       " '8 hours ago',\n",
       " '1 hour ago',\n",
       " '9 hours ago',\n",
       " '1 hour ago',\n",
       " '1 day ago',\n",
       " '8 hours ago',\n",
       " '2 hours ago',\n",
       " '8 hours ago',\n",
       " '10 minutes ago',\n",
       " '23 hours ago',\n",
       " '5 hours ago',\n",
       " '9 hours ago',\n",
       " '2 hours ago',\n",
       " '3 hours ago']"
      ]
     },
     "execution_count": 412,
     "metadata": {},
     "output_type": "execute_result"
    }
   ],
   "source": [
    "time"
   ]
  },
  {
   "cell_type": "markdown",
   "id": "691d7ca3",
   "metadata": {},
   "source": [
    "# 9. Write a python program to scrape a data for all available Hostels from https://www.hostelworld.com/ in “London” location. You have to scrape hostel name, distance from city centre, ratings, total reviews, overall reviews, privates from price, dorms from price, facilities and property description."
   ]
  },
  {
   "cell_type": "code",
   "execution_count": 433,
   "id": "1807c233",
   "metadata": {},
   "outputs": [],
   "source": [
    "# first connect to the driver\n",
    "driver=webdriver.Chrome(r\"C:\\Users\\AnuragMishra\\Downloads\\chromedriver_win32.exe\")\n",
    "\n",
    "driver.get(\"https://www.hostelworld.com/\")"
   ]
  },
  {
   "cell_type": "code",
   "execution_count": 435,
   "id": "ced89d00",
   "metadata": {},
   "outputs": [],
   "source": [
    "location=driver.find_element(By.CLASS_NAME,\"search-input\")\n",
    "location.send_keys('London')"
   ]
  },
  {
   "cell_type": "code",
   "execution_count": 436,
   "id": "e5f5aa9f",
   "metadata": {},
   "outputs": [],
   "source": [
    "search=driver.find_element(By.XPATH,'//div[@class=\"label\"]')\n",
    "search.click()"
   ]
  },
  {
   "cell_type": "code",
   "execution_count": 437,
   "id": "a591327b",
   "metadata": {},
   "outputs": [],
   "source": [
    "lets_go=driver.find_element(By.XPATH,'//button[@class=\"button primary large\"]')\n",
    "lets_go.click()"
   ]
  },
  {
   "cell_type": "code",
   "execution_count": 463,
   "id": "aab06056",
   "metadata": {},
   "outputs": [],
   "source": [
    "h_name=driver.find_elements(By.XPATH,'//div[@class=\"property-name\"]')\n",
    "distance=driver.find_elements(By.XPATH,'//span[2][@class=\"distance-description\"]')\n",
    "rating=driver.find_elements(By.XPATH,'//div[@class=\"score-row\"]')\n",
    "review=driver.find_elements(By.XPATH,'//span[@class=\"left-margin\"]')\n",
    "o_review=driver.find_elements(By.XPATH,'//div[@class=\"keyword\"]')\n",
    "private_price=driver.find_elements(By.XPATH,'//strong[@class=\"current\"]')\n",
    "dorm_price=driver.find_elements(By.XPATH,'//strong[@class=\"current\"]')\n",
    "facility=driver.find_elements(By.XPATH,'//div[@class=\"icon-container badge-icon\"]')\n",
    "\n",
    "h_names = []\n",
    "distances = []\n",
    "ratings =[]\n",
    "reviews=[]\n",
    "o_reviews=[]\n",
    "privates_price=[]\n",
    "dorms_price=[]\n",
    "facilities=[]\n",
    "\n",
    "for i in h_name:\n",
    "    h_name1=i.text\n",
    "    h_names.append(h_name1)\n",
    "\n",
    "for i in distance:\n",
    "    distance1=i.text\n",
    "    distances.append(distance1)\n",
    "    \n",
    "for i in rating:\n",
    "    rating1=i.text\n",
    "    ratings.append(rating1)\n",
    "\n",
    "for i in review:\n",
    "    review1=i.text\n",
    "    reviews.append(review1)\n",
    "\n",
    "for i in o_review:\n",
    "    o_review1=i.text\n",
    "    o_reviews.append(o_review1)\n",
    "\n",
    "for i in private_price:\n",
    "    private_price1=i.text\n",
    "    privates_price.append(private_price1)\n",
    "\n",
    "for i in dorm_price:\n",
    "    dorm_price1=i.text\n",
    "    dorms_price.append(dorm_price1)\n",
    "\n",
    "for i in facility:\n",
    "    facility1=i.text\n",
    "    facilities.append(facility1)"
   ]
  },
  {
   "cell_type": "code",
   "execution_count": 431,
   "id": "a9d9b0bb",
   "metadata": {},
   "outputs": [],
   "source": [
    "view=driver.find_element(By.XPATH,'//button[@class=\"button primary small full-width\"]')\n",
    "view.click()"
   ]
  },
  {
   "cell_type": "code",
   "execution_count": 432,
   "id": "ee0be427",
   "metadata": {},
   "outputs": [
    {
     "data": {
      "text/plain": [
       "[\"A safe haven in the middle of the metropolis: We took a traditional brick building with roots dating back to the 1800s and set a new standard for hostel life in the UK.\\nWhat was once sailors' accommodation is now a hostel that caters for all the needs of the modern traveller. With great attention to detail, we have created a hostel in London that celebrates the heritage of our historic building.\\nThe old oak that once formed part of sturdy ships and churches is now immortalised in our furnishings throughout the house. The beers you drink here will be served on a bar made from 500 year old wood!\\n\\nOur Wombat's City Hostel is located in the London Borough of Tower Hamlets, right next to the famous Tower Bridge and Tower of London, charming markets, authentic pubs and many other places of historical interest.\\nA short walk will take you to trendy Shoreditch with its vibrant street art, the lively nightlife of Hoxton Square and Old Street and finally Brick Lane, which has become one of the most popular spots.\\nAll other London attractions are easily accessible by public transport: Aldgate East and Tower Bridge underground and DLR stations are just a stone's throw away. \\n\\nAfter a long and exciting day in London, our hostel awaits you with a cosy courtyard, a spacious lobby with our own Wombat's Cafe (exclusive Wombat's Roast included) and womBAR. Here you can relax and enjoy our always unexpected offers.\\nAll rooms are equipped with en-suite bathroom and private lockers. \\n\\nIncludes:\\n- Bed linen.\\n- WiFi.\\n- Our own Wombat's city maps.\\n- Wombat's Café.\\n- The womBAR for endless parties.\\n- A guest kitchen open to all who want to satisfy their own culinary needs.\\n- 24/7 reception.\\n- Secure luggage storage.\\n- Rental items (umbrellas, hairdryers, adaptors: everything a traveller could need).\\n- Coin-operated laundry facilities (washing and drying), so you can revitalise your clothes!\\n\\nOur famous Tasty Brekkie buffet guarantees you enough energy for your exciting day in London. You can buy breakfast for an economical price at reception.\\n\\n(Minimum age 18 years).\\n\\nNON-REFUNDABLE RESERVATIONS:\\n* Full payment is required at the time of booking and is non-refundable.\\n* If you leave early, cancel or do not honour this booking, you will not be refunded.\\n* Any extension of this stay requires a new booking for the additional dates, subject to availability and current rates.\\n\\nIn the event of invalid credit card details, you will be contacted by our team. You will have 48 hours to provide valid credit card details, otherwise we reserve the right to cancel the booking.\",\n",
       " 'Honestly the hostel dorms were more comfortable than some hotels I’ve visited. Smooth keycard system for room and locker access. Very comfortable beds. Great staff, very helpful answering any questions and really care about customers and cleanliness. Great vibes with the downstairs bar. Ensuite and general bathrooms meant waiting was limited. Location isn’t central, but good access to tubes and good neighbourhood. Look forward to staying here again.']"
      ]
     },
     "execution_count": 432,
     "metadata": {},
     "output_type": "execute_result"
    }
   ],
   "source": [
    "descr=driver.find_elements(By.XPATH,'//div[@class=\"content collapse-content\"]')\n",
    "\n",
    "description=[]\n",
    "\n",
    "for i in descr:\n",
    "    descr1=i.text\n",
    "    description.append(descr1)\n",
    "description"
   ]
  },
  {
   "cell_type": "code",
   "execution_count": null,
   "id": "f6043d27",
   "metadata": {},
   "outputs": [],
   "source": []
  }
 ],
 "metadata": {
  "kernelspec": {
   "display_name": "Python 3 (ipykernel)",
   "language": "python",
   "name": "python3"
  },
  "language_info": {
   "codemirror_mode": {
    "name": "ipython",
    "version": 3
   },
   "file_extension": ".py",
   "mimetype": "text/x-python",
   "name": "python",
   "nbconvert_exporter": "python",
   "pygments_lexer": "ipython3",
   "version": "3.9.13"
  }
 },
 "nbformat": 4,
 "nbformat_minor": 5
}
