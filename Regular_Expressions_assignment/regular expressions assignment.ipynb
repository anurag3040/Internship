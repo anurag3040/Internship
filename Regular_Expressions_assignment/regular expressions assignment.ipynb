{
 "cells": [
  {
   "cell_type": "markdown",
   "id": "0eb15909",
   "metadata": {},
   "source": [
    "# 1- Write a Python program to check that a string contains only a certain set of characters (in this case a-z, A-Z and 0-9)."
   ]
  },
  {
   "cell_type": "code",
   "execution_count": 5,
   "id": "a7929df9",
   "metadata": {},
   "outputs": [
    {
     "name": "stdout",
     "output_type": "stream",
     "text": [
      "Enter a string: MyNameisRahul123\n",
      "The string contains only a-z, A-Z, and 0-9.\n"
     ]
    }
   ],
   "source": [
    "import re\n",
    "\n",
    "def check_string(input_string):\n",
    "    pattern = r'^[a-zA-Z0-9]+$'\n",
    "    if re.match(pattern, input_string):\n",
    "        print(\"The string contains only a-z, A-Z, and 0-9.\")\n",
    "    else:\n",
    "        print(\"The string contains characters other than a-z, A-Z, and 0-9.\")\n",
    "\n",
    "# Example\n",
    "input_str = input(\"Enter a string: \")\n",
    "check_string(input_str)\n"
   ]
  },
  {
   "cell_type": "markdown",
   "id": "f5842636",
   "metadata": {},
   "source": [
    "# 2- Create a function in python that matches a string that has an a followed by zero or more b's"
   ]
  },
  {
   "cell_type": "code",
   "execution_count": 13,
   "id": "d2d8e716",
   "metadata": {},
   "outputs": [
    {
     "name": "stdout",
     "output_type": "stream",
     "text": [
      "True\n",
      "False\n"
     ]
    }
   ],
   "source": [
    "import re\n",
    "\n",
    "def match_pattern(input_string):\n",
    "    pattern = r'^ab*$'\n",
    "    return re.match(pattern, input_string) is not None\n",
    "\n",
    "# Example \n",
    "string1 = \"ab\"\n",
    "string2 = \"ac\"\n",
    "\n",
    "print(match_pattern(string1))  \n",
    "print(match_pattern(string2))  \n"
   ]
  },
  {
   "cell_type": "markdown",
   "id": "3e44f4f9",
   "metadata": {},
   "source": [
    "# 3-  Create a function in python that matches a string that has an a followed by one or more b's"
   ]
  },
  {
   "cell_type": "code",
   "execution_count": 14,
   "id": "bc477cb4",
   "metadata": {},
   "outputs": [
    {
     "name": "stdout",
     "output_type": "stream",
     "text": [
      "True\n",
      "True\n",
      "False\n"
     ]
    }
   ],
   "source": [
    "import re\n",
    "\n",
    "def match_a_followed_by_one_or_more_b(input_string):\n",
    "    pattern = r'^ab+$'\n",
    "    return re.match(pattern, input_string) is not None\n",
    "\n",
    "# Example\n",
    "string1 = \"ab\"\n",
    "string2 = \"abb\"\n",
    "string3 = \"ac\"\n",
    "\n",
    "print(match_a_followed_by_one_or_more_b(string1))  \n",
    "print(match_a_followed_by_one_or_more_b(string2))  \n",
    "print(match_a_followed_by_one_or_more_b(string3))  \n"
   ]
  },
  {
   "cell_type": "markdown",
   "id": "c4e92c41",
   "metadata": {},
   "source": [
    "# 4- Create a function in Python and use RegEx that matches a string that has an a followed by zero or one 'b"
   ]
  },
  {
   "cell_type": "code",
   "execution_count": 16,
   "id": "1ac954fb",
   "metadata": {},
   "outputs": [
    {
     "name": "stdout",
     "output_type": "stream",
     "text": [
      "True\n",
      "True\n",
      "False\n"
     ]
    }
   ],
   "source": [
    "import re\n",
    "\n",
    "def match_a_followed_by_zero_or_one_b(input_string):\n",
    "    pattern = r'^ab?$'\n",
    "    return re.match(pattern, input_string) is not None\n",
    "\n",
    "# Example\n",
    "string1 = \"ab\"\n",
    "string2 = \"a\"\n",
    "string3 = \"ac\"\n",
    "\n",
    "print(match_a_followed_by_zero_or_one_b(string1))  \n",
    "print(match_a_followed_by_zero_or_one_b(string2))  \n",
    "print(match_a_followed_by_zero_or_one_b(string3))  \n"
   ]
  },
  {
   "cell_type": "markdown",
   "id": "aeecdbc2",
   "metadata": {},
   "source": [
    "# 5-  Write a Python program that matches a string that has an a followed by three 'b'."
   ]
  },
  {
   "cell_type": "code",
   "execution_count": 17,
   "id": "e15fc579",
   "metadata": {},
   "outputs": [
    {
     "name": "stdout",
     "output_type": "stream",
     "text": [
      "True\n",
      "False\n",
      "False\n"
     ]
    }
   ],
   "source": [
    "import re\n",
    "\n",
    "def match_a_followed_by_three_b(input_string):\n",
    "    pattern = r'^abbb$'\n",
    "    return re.match(pattern, input_string) is not None\n",
    "\n",
    "# Example\n",
    "string1 = \"abbb\"\n",
    "string2 = \"abbbb\"\n",
    "string3 = \"abb\"\n",
    "\n",
    "print(match_a_followed_by_three_b(string1)) \n",
    "print(match_a_followed_by_three_b(string2)) \n",
    "print(match_a_followed_by_three_b(string3))  \n"
   ]
  },
  {
   "cell_type": "markdown",
   "id": "de39b5f2",
   "metadata": {},
   "source": [
    "# 6- Write a regular expression in Python to split a string into uppercase letters."
   ]
  },
  {
   "cell_type": "code",
   "execution_count": 20,
   "id": "891b8a8d",
   "metadata": {},
   "outputs": [
    {
     "name": "stdout",
     "output_type": "stream",
     "text": [
      "['', 'Importance', 'Of', 'Regular', 'Expressions', 'In', 'Python']\n"
     ]
    }
   ],
   "source": [
    "import re\n",
    "\n",
    "def split_string_into_uppercase(input_string):\n",
    "    pattern = r'(?=[A-Z])'\n",
    "    return re.split(pattern, input_string)\n",
    "\n",
    "# Example \n",
    "string = \"ImportanceOfRegularExpressionsInPython\"\n",
    "\n",
    "result = split_string_into_uppercase(string)\n",
    "print(result) "
   ]
  },
  {
   "cell_type": "markdown",
   "id": "260cb658",
   "metadata": {},
   "source": [
    "# 7- Write a Python program that matches a string that has an a followed by two to three 'b'"
   ]
  },
  {
   "cell_type": "code",
   "execution_count": 21,
   "id": "027778ae",
   "metadata": {},
   "outputs": [
    {
     "name": "stdout",
     "output_type": "stream",
     "text": [
      "True\n",
      "True\n",
      "False\n",
      "False\n"
     ]
    }
   ],
   "source": [
    "import re\n",
    "\n",
    "def match_a_followed_by_two_to_three_b(input_string):\n",
    "    pattern = r'^ab{2,3}$'\n",
    "    return re.match(pattern, input_string) is not None\n",
    "\n",
    "# Example \n",
    "string1 = \"abb\"\n",
    "string2 = \"abbb\"\n",
    "string3 = \"abbbb\"\n",
    "string4 = \"ab\"\n",
    "\n",
    "print(match_a_followed_by_two_to_three_b(string1))  \n",
    "print(match_a_followed_by_two_to_three_b(string2))  \n",
    "print(match_a_followed_by_two_to_three_b(string3))  \n",
    "print(match_a_followed_by_two_to_three_b(string4))  \n"
   ]
  },
  {
   "cell_type": "markdown",
   "id": "7857cd8f",
   "metadata": {},
   "source": [
    "# 8- Write a Python program to find sequences of lowercase letters joined with a underscore."
   ]
  },
  {
   "cell_type": "code",
   "execution_count": 24,
   "id": "9599a9ef",
   "metadata": {},
   "outputs": [
    {
     "name": "stdout",
     "output_type": "stream",
     "text": [
      "['anurag_mishra', 'is_a', 'of_lowercase']\n"
     ]
    }
   ],
   "source": [
    "import re\n",
    "\n",
    "def find_lowercase_sequences_with_underscore(input_string):\n",
    "    pattern = r'[a-z]+_[a-z]+'\n",
    "    return re.findall(pattern, input_string)\n",
    "\n",
    "# Example \n",
    "string = \"anurag_mishra is_a_sequence of_lowercase_letters\"\n",
    "\n",
    "result = find_lowercase_sequences_with_underscore(string)\n",
    "print(result)  \n"
   ]
  },
  {
   "cell_type": "markdown",
   "id": "508667fc",
   "metadata": {},
   "source": [
    "# 9- Write a Python program that matches a string that has an 'a' followed by anything, ending in 'b'."
   ]
  },
  {
   "cell_type": "code",
   "execution_count": 25,
   "id": "0c53cb9a",
   "metadata": {},
   "outputs": [
    {
     "name": "stdout",
     "output_type": "stream",
     "text": [
      "True\n",
      "True\n",
      "False\n",
      "False\n"
     ]
    }
   ],
   "source": [
    "import re\n",
    "\n",
    "def match_a_followed_by_anything_ending_in_b(input_string):\n",
    "    pattern = r'^a.*b$'\n",
    "    return re.match(pattern, input_string) is not None\n",
    "\n",
    "# Example \n",
    "string1 = \"axb\"\n",
    "string2 = \"ab\"\n",
    "string3 = \"acbd\"\n",
    "string4 = \"abcdefg\"\n",
    "\n",
    "print(match_a_followed_by_anything_ending_in_b(string1))  \n",
    "print(match_a_followed_by_anything_ending_in_b(string2))  \n",
    "print(match_a_followed_by_anything_ending_in_b(string3))  \n",
    "print(match_a_followed_by_anything_ending_in_b(string4))  \n"
   ]
  },
  {
   "cell_type": "markdown",
   "id": "a32d80bd",
   "metadata": {},
   "source": [
    "#  10- Write a Python program that matches a word at the beginning of a string."
   ]
  },
  {
   "cell_type": "code",
   "execution_count": 26,
   "id": "9a7588e8",
   "metadata": {},
   "outputs": [
    {
     "name": "stdout",
     "output_type": "stream",
     "text": [
      "True\n",
      "False\n",
      "True\n"
     ]
    }
   ],
   "source": [
    "import re\n",
    "\n",
    "def match_word_at_beginning(word, input_string):\n",
    "    pattern = r'^{}'.format(word)\n",
    "    return re.match(pattern, input_string) is not None\n",
    "\n",
    "# Example \n",
    "word = \"Anurag\"\n",
    "string1 = \"Anurag Mishra\"\n",
    "string2 = \"Mishra Anurag\"\n",
    "string3 = \"Anurag, how are you?\"\n",
    "\n",
    "print(match_word_at_beginning(word, string1))  \n",
    "print(match_word_at_beginning(word, string2))  \n",
    "print(match_word_at_beginning(word, string3))  \n"
   ]
  },
  {
   "cell_type": "markdown",
   "id": "41d0ea77",
   "metadata": {},
   "source": [
    "# 11- Write a Python program to match a string that contains only upper and lowercase letters, numbers, and underscores."
   ]
  },
  {
   "cell_type": "code",
   "execution_count": 27,
   "id": "631e83a3",
   "metadata": {},
   "outputs": [
    {
     "name": "stdout",
     "output_type": "stream",
     "text": [
      "True\n",
      "True\n",
      "False\n"
     ]
    }
   ],
   "source": [
    "import re\n",
    "\n",
    "def match_allowed_characters(input_string):\n",
    "    pattern = r'^[a-zA-Z0-9_]+$'\n",
    "    return re.match(pattern, input_string) is not None\n",
    "\n",
    "# Example \n",
    "string1 = \"AnuragMishra123\"\n",
    "string2 = \"Anurag_Mishra\"\n",
    "string3 = \"Anurag@Mishra\"\n",
    "\n",
    "print(match_allowed_characters(string1))  \n",
    "print(match_allowed_characters(string2))  \n",
    "print(match_allowed_characters(string3)) \n"
   ]
  },
  {
   "cell_type": "markdown",
   "id": "9448d9bc",
   "metadata": {},
   "source": [
    "# 12- Write a Python program where a string will start with a specific number."
   ]
  },
  {
   "cell_type": "code",
   "execution_count": 28,
   "id": "91ee3e68",
   "metadata": {},
   "outputs": [
    {
     "name": "stdout",
     "output_type": "stream",
     "text": [
      "True\n",
      "True\n"
     ]
    }
   ],
   "source": [
    "import re\n",
    "\n",
    "def starts_with_number(input_string, number):\n",
    "    pattern = r'^' + str(number)\n",
    "    return re.match(pattern, input_string) is not None\n",
    "\n",
    "# Example\n",
    "string1 = \"12345Anurag\"\n",
    "string2 = \"56789Mishra\"\n",
    "number1 = 12345\n",
    "number2 = 56789\n",
    "\n",
    "print(starts_with_number(string1, number1))  \n",
    "print(starts_with_number(string2, number2))  \n"
   ]
  },
  {
   "cell_type": "markdown",
   "id": "0db4bafd",
   "metadata": {},
   "source": [
    "# 13- Write a Python program to remove leading zeros from an IP address"
   ]
  },
  {
   "cell_type": "code",
   "execution_count": 29,
   "id": "cf0c5097",
   "metadata": {},
   "outputs": [
    {
     "name": "stdout",
     "output_type": "stream",
     "text": [
      "192.168.1.1\n"
     ]
    }
   ],
   "source": [
    "import re\n",
    "\n",
    "def remove_leading_zeros(ip_address):\n",
    "    pattern = r'\\b0+(\\d)'\n",
    "    cleaned_address = re.sub(pattern, r'\\1', ip_address)\n",
    "    return cleaned_address\n",
    "\n",
    "# Example\n",
    "ip_address = \"192.168.001.001\"\n",
    "\n",
    "cleaned_address = remove_leading_zeros(ip_address)\n",
    "print(cleaned_address) \n"
   ]
  },
  {
   "cell_type": "markdown",
   "id": "5e89664b",
   "metadata": {},
   "source": [
    "# 15- Write a Python program to search some literals strings in a string. Go to the editor\n"
   ]
  },
  {
   "cell_type": "code",
   "execution_count": 38,
   "id": "0080f960",
   "metadata": {},
   "outputs": [
    {
     "name": "stdout",
     "output_type": "stream",
     "text": [
      "'fox' found in the text.\n",
      "'dog' found in the text.\n",
      "'horse' not found in the text.\n"
     ]
    }
   ],
   "source": [
    "import re\n",
    "\n",
    "def search_literals_in_string(text, searched_words):\n",
    "    for word in searched_words:\n",
    "        pattern = re.escape(word)\n",
    "        if re.search(pattern, text):\n",
    "            print(f\"'{word}' found in the text.\")\n",
    "        else:\n",
    "            print(f\"'{word}' not found in the text.\")\n",
    "\n",
    "# Example\n",
    "sample_text = 'The quick brown fox jumps over the lazy dog.'\n",
    "searched_words = ['fox', 'dog', 'horse']\n",
    "\n",
    "search_literals_in_string(sample_text, searched_words)\n"
   ]
  },
  {
   "cell_type": "markdown",
   "id": "a29b6c11",
   "metadata": {},
   "source": [
    "# 16- Write a Python program to search a literals string in a string and also find the location within the original string where the pattern occurs\n"
   ]
  },
  {
   "cell_type": "code",
   "execution_count": 39,
   "id": "051b582a",
   "metadata": {},
   "outputs": [
    {
     "name": "stdout",
     "output_type": "stream",
     "text": [
      "'fox' found at index 16-19 in the text.\n"
     ]
    }
   ],
   "source": [
    "import re\n",
    "\n",
    "def search_literal_with_location(text, searched_word):\n",
    "    pattern = re.escape(searched_word)\n",
    "    matches = re.finditer(pattern, text)\n",
    "    \n",
    "    for match in matches:\n",
    "        start_index = match.start()\n",
    "        end_index = match.end()\n",
    "        print(f\"'{searched_word}' found at index {start_index}-{end_index} in the text.\")\n",
    "\n",
    "# Example\n",
    "sample_text = 'The quick brown fox jumps over the lazy dog.'\n",
    "searched_word = 'fox'\n",
    "\n",
    "search_literal_with_location(sample_text, searched_word)\n"
   ]
  },
  {
   "cell_type": "markdown",
   "id": "d2c7ca37",
   "metadata": {},
   "source": [
    "# 17- Write a Python program to find the substrings within a string.\n",
    "Sample text : 'Python exercises, PHP exercises, C# exercises'\n",
    "Pattern : 'exercises'.\n"
   ]
  },
  {
   "cell_type": "code",
   "execution_count": 40,
   "id": "8318bb74",
   "metadata": {},
   "outputs": [
    {
     "name": "stdout",
     "output_type": "stream",
     "text": [
      "['exercises', 'exercises', 'exercises']\n"
     ]
    }
   ],
   "source": [
    "import re\n",
    "\n",
    "def find_substrings(text, pattern):\n",
    "    matches = re.findall(pattern, text)\n",
    "    return matches\n",
    "\n",
    "# Example\n",
    "sample_text = 'Python exercises, PHP exercises, C# exercises'\n",
    "pattern = 'exercises'\n",
    "\n",
    "substrings = find_substrings(sample_text, pattern)\n",
    "print(substrings)  # Output: ['exercises', 'exercises', 'exercises']\n"
   ]
  },
  {
   "cell_type": "markdown",
   "id": "a4b83c17",
   "metadata": {},
   "source": [
    "# 18- Write a Python program to find the occurrence and position of the substrings within a string."
   ]
  },
  {
   "cell_type": "code",
   "execution_count": 41,
   "id": "9b2f2f2c",
   "metadata": {},
   "outputs": [
    {
     "name": "stdout",
     "output_type": "stream",
     "text": [
      "Substring: 'exercises' - Start: 7, End: 16\n",
      "Substring: 'exercises' - Start: 22, End: 31\n",
      "Substring: 'exercises' - Start: 36, End: 45\n"
     ]
    }
   ],
   "source": [
    "import re\n",
    "\n",
    "def find_substrings_with_position(text, pattern):\n",
    "    matches = re.finditer(pattern, text)\n",
    "    substrings = []\n",
    "    \n",
    "    for match in matches:\n",
    "        substring = match.group()\n",
    "        start_index = match.start()\n",
    "        end_index = match.end()\n",
    "        substrings.append((substring, start_index, end_index))\n",
    "    \n",
    "    return substrings\n",
    "\n",
    "# Example\n",
    "sample_text = 'Python exercises, PHP exercises, C# exercises'\n",
    "pattern = 'exercises'\n",
    "\n",
    "substrings = find_substrings_with_position(sample_text, pattern)\n",
    "for substring in substrings:\n",
    "    print(f\"Substring: '{substring[0]}' - Start: {substring[1]}, End: {substring[2]}\")\n"
   ]
  },
  {
   "cell_type": "markdown",
   "id": "f381f7d6",
   "metadata": {},
   "source": [
    "# 19- Write a Python program to convert a date of yyyy-mm-dd format to dd-mm-yyyy format."
   ]
  },
  {
   "cell_type": "code",
   "execution_count": 43,
   "id": "a248d94d",
   "metadata": {},
   "outputs": [
    {
     "name": "stdout",
     "output_type": "stream",
     "text": [
      "15-04-2023\n"
     ]
    }
   ],
   "source": [
    "import re\n",
    "\n",
    "def convert_date_format(date):\n",
    "    pattern = r'(\\d{4})-(\\d{2})-(\\d{2})'\n",
    "    converted_date = re.sub(pattern, r'\\3-\\2-\\1', date)\n",
    "    return converted_date\n",
    "\n",
    "# Example\n",
    "date = '2023-04-15'\n",
    "\n",
    "converted_date = convert_date_format(date)\n",
    "print(converted_date)  \n"
   ]
  },
  {
   "cell_type": "markdown",
   "id": "d7e39ee6",
   "metadata": {},
   "source": [
    "# 20- Write a Python program to find all words starting with 'a' or 'e' in a given string."
   ]
  },
  {
   "cell_type": "code",
   "execution_count": 44,
   "id": "d18f4e0e",
   "metadata": {},
   "outputs": [
    {
     "name": "stdout",
     "output_type": "stream",
     "text": [
      "['Anurag', 'an', 'awesome', 'Eats', 'an', 'apple', 'every']\n"
     ]
    }
   ],
   "source": [
    "import re\n",
    "\n",
    "def find_words_starting_with_a_or_e(text):\n",
    "    pattern = r'\\b[aAeE]\\w+'\n",
    "    matches = re.findall(pattern, text)\n",
    "    return matches\n",
    "\n",
    "# Example\n",
    "sample_text = \"Anurag is an awesome guy. He Eats an apple every morning.\"\n",
    "\n",
    "words = find_words_starting_with_a_or_e(sample_text)\n",
    "print(words)  \n"
   ]
  },
  {
   "cell_type": "markdown",
   "id": "6ac983a4",
   "metadata": {},
   "source": [
    "#  21- Write a Python program to separate and print the numbers and their position of a given string."
   ]
  },
  {
   "cell_type": "code",
   "execution_count": 45,
   "id": "db5b0956",
   "metadata": {},
   "outputs": [
    {
     "name": "stdout",
     "output_type": "stream",
     "text": [
      "Number: '99' - Start: 19, End: 21\n",
      "Number: '100' - Start: 35, End: 38\n"
     ]
    }
   ],
   "source": [
    "import re\n",
    "\n",
    "def separate_numbers_with_position(text):\n",
    "    pattern = r'\\b\\d+\\b'\n",
    "    matches = re.finditer(pattern, text)\n",
    "    \n",
    "    for match in matches:\n",
    "        number = match.group()\n",
    "        start_index = match.start()\n",
    "        end_index = match.end()\n",
    "        print(f\"Number: '{number}' - Start: {start_index}, End: {end_index}\")\n",
    "\n",
    "# Example\n",
    "sample_text = \"Anurag has secured 99 marks out of 100.\"\n",
    "\n",
    "separate_numbers_with_position(sample_text)\n"
   ]
  },
  {
   "cell_type": "markdown",
   "id": "9d127ba2",
   "metadata": {},
   "source": [
    "# 22- Write a regular expression in python program to extract maximum numeric value from a string"
   ]
  },
  {
   "cell_type": "code",
   "execution_count": 46,
   "id": "44286fc5",
   "metadata": {},
   "outputs": [
    {
     "name": "stdout",
     "output_type": "stream",
     "text": [
      "98\n"
     ]
    }
   ],
   "source": [
    "import re\n",
    "\n",
    "def extract_maximum_numeric_value(text):\n",
    "    pattern = r'\\b\\d+\\b'\n",
    "    numbers = re.findall(pattern, text)\n",
    "    if numbers:\n",
    "        maximum_number = max(map(int, numbers))\n",
    "        return maximum_number\n",
    "    else:\n",
    "        return None\n",
    "\n",
    "# Example\n",
    "sample_text = \"Anurag hs secured 98 marks, but there are also students who have secured like 94 and 79.\"\n",
    "\n",
    "maximum_value = extract_maximum_numeric_value(sample_text)\n",
    "print(maximum_value)  \n"
   ]
  },
  {
   "cell_type": "markdown",
   "id": "dc84fe4f",
   "metadata": {},
   "source": [
    "# 23- Write a Regex in Python to put spaces between words starting with capital letters"
   ]
  },
  {
   "cell_type": "code",
   "execution_count": 47,
   "id": "968c5bc1",
   "metadata": {},
   "outputs": [
    {
     "name": "stdout",
     "output_type": "stream",
     "text": [
      "Anurag Mishra Is An Awesome Guy\n"
     ]
    }
   ],
   "source": [
    "import re\n",
    "\n",
    "def add_spaces_between_words(text):\n",
    "    pattern = r'(?<!^)(?=[A-Z])'\n",
    "    updated_text = re.sub(pattern, ' ', text)\n",
    "    return updated_text\n",
    "\n",
    "# Example\n",
    "sample_text = \"AnuragMishraIsAnAwesomeGuy\"\n",
    "\n",
    "updated_text = add_spaces_between_words(sample_text)\n",
    "print(updated_text)  \n"
   ]
  },
  {
   "cell_type": "markdown",
   "id": "36f0d473",
   "metadata": {},
   "source": [
    "# 24- Python regex to find sequences of one upper case letter followed by lower case letters"
   ]
  },
  {
   "cell_type": "code",
   "execution_count": 48,
   "id": "4b433cb0",
   "metadata": {},
   "outputs": [
    {
     "name": "stdout",
     "output_type": "stream",
     "text": [
      "['Hello', 'Anurag']\n"
     ]
    }
   ],
   "source": [
    "import re\n",
    "\n",
    "def find_uppercase_lowercase_sequences(text):\n",
    "    pattern = r'[A-Z][a-z]+'\n",
    "    matches = re.findall(pattern, text)\n",
    "    return matches\n",
    "\n",
    "# Example\n",
    "sample_text = \"Hello world, Anurag is amazing!\"\n",
    "\n",
    "sequences = find_uppercase_lowercase_sequences(sample_text)\n",
    "print(sequences)  \n"
   ]
  },
  {
   "cell_type": "markdown",
   "id": "1b9b3de0",
   "metadata": {},
   "source": [
    "# 25- Write a Python program to remove duplicate words from Sentence using Regular Expression"
   ]
  },
  {
   "cell_type": "code",
   "execution_count": 49,
   "id": "3d79fa24",
   "metadata": {},
   "outputs": [
    {
     "name": "stdout",
     "output_type": "stream",
     "text": [
      "Anurag is very nice guy.\n"
     ]
    }
   ],
   "source": [
    "import re\n",
    "\n",
    "def remove_duplicate_words(sentence):\n",
    "    pattern = r'\\b(\\w+)\\b\\s+(?=.*\\b\\1\\b)'\n",
    "    updated_sentence = re.sub(pattern, '', sentence)\n",
    "    return updated_sentence\n",
    "\n",
    "# Example\n",
    "sample_sentence = \"Anurag is very very nice guy guy.\"\n",
    "\n",
    "updated_sentence = remove_duplicate_words(sample_sentence)\n",
    "print(updated_sentence)  \n"
   ]
  },
  {
   "cell_type": "markdown",
   "id": "cdf82c1b",
   "metadata": {},
   "source": [
    "# 26-  Write a python program using RegEx to accept string ending with alphanumeric character."
   ]
  },
  {
   "cell_type": "code",
   "execution_count": 50,
   "id": "bfde56ee",
   "metadata": {},
   "outputs": [
    {
     "name": "stdout",
     "output_type": "stream",
     "text": [
      "True\n"
     ]
    }
   ],
   "source": [
    "import re\n",
    "\n",
    "def accept_ending_alphanumeric(string):\n",
    "    pattern = r'^.*[a-zA-Z0-9]$'\n",
    "    match = re.match(pattern, string)\n",
    "    return bool(match)\n",
    "\n",
    "# Example \n",
    "sample_string = \"Anurag123\"\n",
    "\n",
    "is_accepted = accept_ending_alphanumeric(sample_string)\n",
    "print(is_accepted)  \n"
   ]
  },
  {
   "cell_type": "markdown",
   "id": "28207c3c",
   "metadata": {},
   "source": [
    "# 27-Write a python program using RegEx to extract the hashtags.\n",
    "Sample Text: text = \"\"\"RT @kapil_kausik: #Doltiwal I mean #xyzabc is \"hurt\" by #Demonetization as the same has rendered USELESS <ed><U+00A0><U+00BD><ed><U+00B1><U+0089> \"acquired funds\" No wo\"\"\"\n",
    "Output: ['#Doltiwal', '#xyzabc', '#Demonetization']"
   ]
  },
  {
   "cell_type": "code",
   "execution_count": 51,
   "id": "e74b0246",
   "metadata": {},
   "outputs": [
    {
     "name": "stdout",
     "output_type": "stream",
     "text": [
      "['#Doltiwal', '#xyzabc', '#Demonetization']\n"
     ]
    }
   ],
   "source": [
    "import re\n",
    "\n",
    "def extract_hashtags(text):\n",
    "    pattern = r'#\\w+'\n",
    "    hashtags = re.findall(pattern, text)\n",
    "    return hashtags\n",
    "\n",
    "# Example\n",
    "sample_text = \"\"\"RT @kapil_kausik: #Doltiwal I mean #xyzabc is \"hurt\" by #Demonetization as the same has rendered USELESS <ed><U+00A0><U+00BD><ed><U+00B1><U+0089> \"acquired funds\" No wo\"\"\"\n",
    "\n",
    "hashtags = extract_hashtags(sample_text)\n",
    "print(hashtags)  # Output: ['#Doltiwal', '#xyzabc', '#Demonetization']\n"
   ]
  },
  {
   "cell_type": "markdown",
   "id": "6d99b02c",
   "metadata": {},
   "source": [
    "# 28- Write a python program using RegEx to remove <U+..> like symbols\n",
    "Check the below sample text, there are strange symbols something of the sort <U+..> all over the place. You need to come up with a general Regex expression that will cover all such symbols.\n",
    "Sample Text: \"@Jags123456 Bharat band on 28??<ed><U+00A0><U+00BD><ed><U+00B8><U+0082>Those who  are protesting #demonetization  are all different party leaders\""
   ]
  },
  {
   "cell_type": "code",
   "execution_count": 52,
   "id": "b177847b",
   "metadata": {},
   "outputs": [
    {
     "name": "stdout",
     "output_type": "stream",
     "text": [
      "@Jags123456 Bharat band on 28??<ed><ed>Those who are protesting #demonetization are all different party leaders\n"
     ]
    }
   ],
   "source": [
    "import re\n",
    "\n",
    "def remove_special_symbols(text):\n",
    "    pattern = r'<U\\+[\\w]+>'\n",
    "    updated_text = re.sub(pattern, '', text)\n",
    "    return updated_text\n",
    "\n",
    "# Example\n",
    "sample_text = \"@Jags123456 Bharat band on 28??<ed><U+00A0><U+00BD><ed><U+00B8><U+0082>Those who are protesting #demonetization are all different party leaders\"\n",
    "\n",
    "cleaned_text = remove_special_symbols(sample_text)\n",
    "print(cleaned_text)\n"
   ]
  },
  {
   "cell_type": "markdown",
   "id": "c05b3372",
   "metadata": {},
   "source": [
    "# 30- Write a Python program to replace all occurrences of a space, comma, or dot with a colon.\n",
    "Sample Text- 'Python Exercises, PHP exercises.'\n",
    "Output: Python:Exercises::PHP:exercises:"
   ]
  },
  {
   "cell_type": "code",
   "execution_count": 88,
   "id": "7d09f7a6",
   "metadata": {},
   "outputs": [
    {
     "name": "stdout",
     "output_type": "stream",
     "text": [
      "Python:Exercises::PHP:exercises:\n"
     ]
    }
   ],
   "source": [
    "import re\n",
    "\n",
    "def replace_with_colon(text):\n",
    "    pattern = r'[ ,.]'\n",
    "    updated_text = re.sub(pattern, ':', text)\n",
    "    return updated_text\n",
    "\n",
    "# Example\n",
    "sample_text = 'Python Exercises, PHP exercises.'\n",
    "\n",
    "updated_text = replace_with_colon(sample_text)\n",
    "print(updated_text)  \n"
   ]
  }
 ],
 "metadata": {
  "kernelspec": {
   "display_name": "Python 3 (ipykernel)",
   "language": "python",
   "name": "python3"
  },
  "language_info": {
   "codemirror_mode": {
    "name": "ipython",
    "version": 3
   },
   "file_extension": ".py",
   "mimetype": "text/x-python",
   "name": "python",
   "nbconvert_exporter": "python",
   "pygments_lexer": "ipython3",
   "version": "3.9.13"
  }
 },
 "nbformat": 4,
 "nbformat_minor": 5
}
