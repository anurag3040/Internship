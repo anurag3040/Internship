{
 "cells": [
  {
   "cell_type": "markdown",
   "id": "a628bbd9",
   "metadata": {},
   "source": [
    "# 1. Write a python program to display all the header tags from wikipedia.org and make data frame."
   ]
  },
  {
   "cell_type": "code",
   "execution_count": 9,
   "id": "d8e66b74",
   "metadata": {},
   "outputs": [
    {
     "data": {
      "text/plain": [
       "<Response [200]>"
      ]
     },
     "execution_count": 9,
     "metadata": {},
     "output_type": "execute_result"
    }
   ],
   "source": [
    "from bs4 import BeautifulSoup\n",
    "import requests\n",
    "import pandas as pd\n",
    "\n",
    "page = requests.get('https://en.wikipedia.org/wiki/Main_Page')\n",
    "page"
   ]
  },
  {
   "cell_type": "code",
   "execution_count": 318,
   "id": "4f8cf8f5",
   "metadata": {},
   "outputs": [
    {
     "data": {
      "text/plain": [
       "['Welcome to Wikipedia',\n",
       " \"From today's featured article\",\n",
       " 'Did you know\\xa0...',\n",
       " 'In the news',\n",
       " 'On this day',\n",
       " \"Today's featured picture\",\n",
       " 'Other areas of Wikipedia',\n",
       " \"Wikipedia's sister projects\",\n",
       " 'Wikipedia languages']"
      ]
     },
     "execution_count": 318,
     "metadata": {},
     "output_type": "execute_result"
    }
   ],
   "source": [
    "soup = BeautifulSoup(page.content)\n",
    "headers = []\n",
    "for i in soup.find_all('span',class_=\"mw-headline\"):\n",
    "    headers.append(i.text)\n",
    "\n",
    "headers"
   ]
  },
  {
   "cell_type": "code",
   "execution_count": 319,
   "id": "7bf9a979",
   "metadata": {},
   "outputs": [
    {
     "data": {
      "text/html": [
       "<div>\n",
       "<style scoped>\n",
       "    .dataframe tbody tr th:only-of-type {\n",
       "        vertical-align: middle;\n",
       "    }\n",
       "\n",
       "    .dataframe tbody tr th {\n",
       "        vertical-align: top;\n",
       "    }\n",
       "\n",
       "    .dataframe thead th {\n",
       "        text-align: right;\n",
       "    }\n",
       "</style>\n",
       "<table border=\"1\" class=\"dataframe\">\n",
       "  <thead>\n",
       "    <tr style=\"text-align: right;\">\n",
       "      <th></th>\n",
       "      <th>Headers</th>\n",
       "    </tr>\n",
       "  </thead>\n",
       "  <tbody>\n",
       "    <tr>\n",
       "      <th>0</th>\n",
       "      <td>Welcome to Wikipedia</td>\n",
       "    </tr>\n",
       "    <tr>\n",
       "      <th>1</th>\n",
       "      <td>From today's featured article</td>\n",
       "    </tr>\n",
       "    <tr>\n",
       "      <th>2</th>\n",
       "      <td>Did you know ...</td>\n",
       "    </tr>\n",
       "    <tr>\n",
       "      <th>3</th>\n",
       "      <td>In the news</td>\n",
       "    </tr>\n",
       "    <tr>\n",
       "      <th>4</th>\n",
       "      <td>On this day</td>\n",
       "    </tr>\n",
       "    <tr>\n",
       "      <th>5</th>\n",
       "      <td>Today's featured picture</td>\n",
       "    </tr>\n",
       "    <tr>\n",
       "      <th>6</th>\n",
       "      <td>Other areas of Wikipedia</td>\n",
       "    </tr>\n",
       "    <tr>\n",
       "      <th>7</th>\n",
       "      <td>Wikipedia's sister projects</td>\n",
       "    </tr>\n",
       "    <tr>\n",
       "      <th>8</th>\n",
       "      <td>Wikipedia languages</td>\n",
       "    </tr>\n",
       "  </tbody>\n",
       "</table>\n",
       "</div>"
      ],
      "text/plain": [
       "                         Headers\n",
       "0           Welcome to Wikipedia\n",
       "1  From today's featured article\n",
       "2               Did you know ...\n",
       "3                    In the news\n",
       "4                    On this day\n",
       "5       Today's featured picture\n",
       "6       Other areas of Wikipedia\n",
       "7    Wikipedia's sister projects\n",
       "8            Wikipedia languages"
      ]
     },
     "execution_count": 319,
     "metadata": {},
     "output_type": "execute_result"
    }
   ],
   "source": [
    "df = pd.DataFrame({'Headers':headers})\n",
    "df"
   ]
  },
  {
   "cell_type": "markdown",
   "id": "99e58194",
   "metadata": {},
   "source": [
    "# 2. Write a python program to display IMDB’s Top rated 50 movies’ data (i.e. name, rating, year of release) and make data frame."
   ]
  },
  {
   "cell_type": "code",
   "execution_count": 52,
   "id": "034a7a16",
   "metadata": {},
   "outputs": [
    {
     "data": {
      "text/plain": [
       "<Response [200]>"
      ]
     },
     "execution_count": 52,
     "metadata": {},
     "output_type": "execute_result"
    }
   ],
   "source": [
    "from bs4 import BeautifulSoup\n",
    "import requests\n",
    "import re\n",
    "import pandas as pd\n",
    "\n",
    "page1 = requests.get('https://www.imdb.com/list/ls055386972/?sort=user_rating,desc&st_dt=&mode=detail&page=1')\n",
    "page1"
   ]
  },
  {
   "cell_type": "code",
   "execution_count": 77,
   "id": "d40224b6",
   "metadata": {
    "scrolled": true
   },
   "outputs": [
    {
     "data": {
      "text/plain": [
       "['\\n1.\\nThe Shawshank Redemption\\n(1994)\\n',\n",
       " '\\n2.\\nThe Godfather\\n(1972)\\n',\n",
       " '\\n3.\\nThe Dark Knight\\n(2008)\\n',\n",
       " \"\\n4.\\nSchindler's List\\n(1993)\\n\",\n",
       " '\\n5.\\n12 Angry Men\\n(1957)\\n',\n",
       " '\\n6.\\nIl buono, il brutto, il cattivo\\n(1966)\\n',\n",
       " '\\n7.\\nThe Green Mile\\n(1999)\\n',\n",
       " '\\n8.\\nTerminator 2: Judgment Day\\n(1991)\\n',\n",
       " '\\n9.\\nSaving Private Ryan\\n(1998)\\n',\n",
       " '\\n10.\\nLa vita è bella\\n(1997)\\n',\n",
       " '\\n11.\\nShichinin no samurai\\n(1954)\\n',\n",
       " \"\\n12.\\nIt's a Wonderful Life\\n(1946)\\n\",\n",
       " '\\n13.\\nAlien\\n(1979)\\n',\n",
       " '\\n14.\\nGladiator\\n(2000)\\n',\n",
       " '\\n15.\\nBack to the Future\\n(1985)\\n',\n",
       " '\\n16.\\nLéon\\n(1994)\\n',\n",
       " '\\n17.\\nThe Pianist\\n(2002)\\n',\n",
       " '\\n18.\\nThe Intouchables\\n(2011)\\n',\n",
       " '\\n19.\\nThe Shining\\n(1980)\\n',\n",
       " '\\n20.\\nBraveheart\\n(1995)\\n',\n",
       " '\\n21.\\nRequiem for a Dream\\n(2000)\\n',\n",
       " '\\n22.\\nJodaeiye Nader az Simin\\n(2011)\\n',\n",
       " '\\n23.\\nJurassic Park\\n(1993)\\n',\n",
       " '\\n24.\\nKill Bill: Vol. 1\\n(2003)\\n',\n",
       " '\\n25.\\nThe Sixth Sense\\n(1999)\\n',\n",
       " '\\n26.\\nFinding Nemo\\n(2003)\\n',\n",
       " '\\n27.\\nA Beautiful Mind\\n(2001)\\n',\n",
       " '\\n28.\\nEl secreto de sus ojos\\n(2009)\\n',\n",
       " '\\n29.\\nBacheha-Ye aseman\\n(1997)\\n',\n",
       " '\\n30.\\nThe Exorcist\\n(1973)\\n',\n",
       " '\\n31.\\nGran Torino\\n(2008)\\n',\n",
       " '\\n32.\\nSalinui chueok\\n(2003)\\n',\n",
       " '\\n33.\\nBen-Hur\\n(1959)\\n',\n",
       " \"\\n34.\\nHachi: A Dog's Tale\\n(2009)\\n\",\n",
       " '\\n35.\\nThe Bridge on the River Kwai\\n(1957)\\n',\n",
       " '\\n36.\\nAmores perros\\n(2000)\\n',\n",
       " '\\n37.\\nNae meorisokui jiwoogae\\n(2004)\\n',\n",
       " '\\n38.\\nThe Pursuit of Happyness\\n(2006)\\n',\n",
       " '\\n39.\\nYeopgijeogin geunyeo\\n(2001)\\n',\n",
       " '\\n40.\\nOkuribito\\n(2008)\\n',\n",
       " '\\n41.\\nBom yeoreum gaeul gyeoul geurigo bom\\n(2003)\\n',\n",
       " '\\n42.\\nCentral do Brasil\\n(1998)\\n',\n",
       " '\\n43.\\nTitanic\\n(1997)\\n',\n",
       " '\\n44.\\nBin-jip\\n(2004)\\n',\n",
       " '\\n45.\\nVozvrashchenie\\n(2003)\\n',\n",
       " '\\n46.\\nApocalypto\\n(2006)\\n',\n",
       " '\\n47.\\nCast Away\\n(2000)\\n',\n",
       " '\\n48.\\nTaken\\n(I) (2008)\\n',\n",
       " '\\n49.\\nAng-ma-reul bo-at-da\\n(2010)\\n',\n",
       " '\\n50.\\nWo de fu qin mu qin\\n(1999)\\n']"
      ]
     },
     "execution_count": 77,
     "metadata": {},
     "output_type": "execute_result"
    }
   ],
   "source": [
    "soup = BeautifulSoup(page1.content)\n",
    "name = []\n",
    "for i in soup.find_all('h3',class_=\"lister-item-header\"):\n",
    "    name.append(i.text)\n",
    "name"
   ]
  },
  {
   "cell_type": "code",
   "execution_count": 78,
   "id": "1f8629a6",
   "metadata": {
    "scrolled": true
   },
   "outputs": [
    {
     "name": "stdout",
     "output_type": "stream",
     "text": [
      "['The Shawshank Redemption', 'The Godfather', 'The Dark Knight', \"Schindler's List\", '12 Angry Men', 'Il buono, il brutto, il cattivo', 'The Green Mile', 'Terminator 2: Judgment Day', 'Saving Private Ryan', 'La vita è bella', 'Shichinin no samurai', \"It's a Wonderful Life\", 'Alien', 'Gladiator', 'Back to the Future', 'Léon', 'The Pianist', 'The Intouchables', 'The Shining', 'Braveheart', 'Requiem for a Dream', 'Jodaeiye Nader az Simin', 'Jurassic Park', 'Kill Bill: Vol. 1', 'The Sixth Sense', 'Finding Nemo', 'A Beautiful Mind', 'El secreto de sus ojos', 'Bacheha-Ye aseman', 'The Exorcist', 'Gran Torino', 'Salinui chueok', 'Ben-Hur', \"Hachi: A Dog's Tale\", 'The Bridge on the River Kwai', 'Amores perros', 'Nae meorisokui jiwoogae', 'The Pursuit of Happyness', 'Yeopgijeogin geunyeo', 'Okuribito', 'Bom yeoreum gaeul gyeoul geurigo bom', 'Central do Brasil', 'Titanic', 'Bin-jip', 'Vozvrashchenie', 'Apocalypto', 'Cast Away', 'Taken', 'Ang-ma-reul bo-at-da', 'Wo de fu qin mu qin']\n"
     ]
    }
   ],
   "source": [
    "movie_names = []\n",
    "for movie in name:\n",
    "    split_movie = movie.split(\"\\n\")\n",
    "    movie_name = split_movie[2]\n",
    "    movie_names.append(movie_name)\n",
    "\n",
    "print(movie_names)"
   ]
  },
  {
   "cell_type": "code",
   "execution_count": 394,
   "id": "7ef4dc3e",
   "metadata": {},
   "outputs": [
    {
     "data": {
      "text/plain": [
       "['9.3',\n",
       " '0',\n",
       " 'Rate',\n",
       " '1',\n",
       " 'Rate',\n",
       " '2',\n",
       " 'Rate',\n",
       " '3',\n",
       " 'Rate',\n",
       " '4',\n",
       " 'Rate',\n",
       " '5',\n",
       " 'Rate',\n",
       " '6',\n",
       " 'Rate',\n",
       " '7',\n",
       " 'Rate',\n",
       " '8',\n",
       " 'Rate',\n",
       " '9',\n",
       " 'Rate',\n",
       " '10',\n",
       " 'Rate',\n",
       " '9.2',\n",
       " '0',\n",
       " 'Rate',\n",
       " '1',\n",
       " 'Rate',\n",
       " '2',\n",
       " 'Rate',\n",
       " '3',\n",
       " 'Rate',\n",
       " '4',\n",
       " 'Rate',\n",
       " '5',\n",
       " 'Rate',\n",
       " '6',\n",
       " 'Rate',\n",
       " '7',\n",
       " 'Rate',\n",
       " '8',\n",
       " 'Rate',\n",
       " '9',\n",
       " 'Rate',\n",
       " '10',\n",
       " 'Rate',\n",
       " '9',\n",
       " '0',\n",
       " 'Rate',\n",
       " '1',\n",
       " 'Rate',\n",
       " '2',\n",
       " 'Rate',\n",
       " '3',\n",
       " 'Rate',\n",
       " '4',\n",
       " 'Rate',\n",
       " '5',\n",
       " 'Rate',\n",
       " '6',\n",
       " 'Rate',\n",
       " '7',\n",
       " 'Rate',\n",
       " '8',\n",
       " 'Rate',\n",
       " '9',\n",
       " 'Rate',\n",
       " '10',\n",
       " 'Rate',\n",
       " '9',\n",
       " '0',\n",
       " 'Rate',\n",
       " '1',\n",
       " 'Rate',\n",
       " '2',\n",
       " 'Rate',\n",
       " '3',\n",
       " 'Rate',\n",
       " '4',\n",
       " 'Rate',\n",
       " '5',\n",
       " 'Rate',\n",
       " '6',\n",
       " 'Rate',\n",
       " '7',\n",
       " 'Rate',\n",
       " '8',\n",
       " 'Rate',\n",
       " '9',\n",
       " 'Rate',\n",
       " '10',\n",
       " 'Rate',\n",
       " '9',\n",
       " '0',\n",
       " 'Rate',\n",
       " '1',\n",
       " 'Rate',\n",
       " '2',\n",
       " 'Rate',\n",
       " '3',\n",
       " 'Rate',\n",
       " '4',\n",
       " 'Rate',\n",
       " '5',\n",
       " 'Rate',\n",
       " '6',\n",
       " 'Rate',\n",
       " '7',\n",
       " 'Rate',\n",
       " '8',\n",
       " 'Rate',\n",
       " '9',\n",
       " 'Rate',\n",
       " '10',\n",
       " 'Rate',\n",
       " '8.8',\n",
       " '0',\n",
       " 'Rate',\n",
       " '1',\n",
       " 'Rate',\n",
       " '2',\n",
       " 'Rate',\n",
       " '3',\n",
       " 'Rate',\n",
       " '4',\n",
       " 'Rate',\n",
       " '5',\n",
       " 'Rate',\n",
       " '6',\n",
       " 'Rate',\n",
       " '7',\n",
       " 'Rate',\n",
       " '8',\n",
       " 'Rate',\n",
       " '9',\n",
       " 'Rate',\n",
       " '10',\n",
       " 'Rate',\n",
       " '8.6',\n",
       " '0',\n",
       " 'Rate',\n",
       " '1',\n",
       " 'Rate',\n",
       " '2',\n",
       " 'Rate',\n",
       " '3',\n",
       " 'Rate',\n",
       " '4',\n",
       " 'Rate',\n",
       " '5',\n",
       " 'Rate',\n",
       " '6',\n",
       " 'Rate',\n",
       " '7',\n",
       " 'Rate',\n",
       " '8',\n",
       " 'Rate',\n",
       " '9',\n",
       " 'Rate',\n",
       " '10',\n",
       " 'Rate',\n",
       " '8.6',\n",
       " '0',\n",
       " 'Rate',\n",
       " '1',\n",
       " 'Rate',\n",
       " '2',\n",
       " 'Rate',\n",
       " '3',\n",
       " 'Rate',\n",
       " '4',\n",
       " 'Rate',\n",
       " '5',\n",
       " 'Rate',\n",
       " '6',\n",
       " 'Rate',\n",
       " '7',\n",
       " 'Rate',\n",
       " '8',\n",
       " 'Rate',\n",
       " '9',\n",
       " 'Rate',\n",
       " '10',\n",
       " 'Rate',\n",
       " '8.6',\n",
       " '0',\n",
       " 'Rate',\n",
       " '1',\n",
       " 'Rate',\n",
       " '2',\n",
       " 'Rate',\n",
       " '3',\n",
       " 'Rate',\n",
       " '4',\n",
       " 'Rate',\n",
       " '5',\n",
       " 'Rate',\n",
       " '6',\n",
       " 'Rate',\n",
       " '7',\n",
       " 'Rate',\n",
       " '8',\n",
       " 'Rate',\n",
       " '9',\n",
       " 'Rate',\n",
       " '10',\n",
       " 'Rate',\n",
       " '8.6',\n",
       " '0',\n",
       " 'Rate',\n",
       " '1',\n",
       " 'Rate',\n",
       " '2',\n",
       " 'Rate',\n",
       " '3',\n",
       " 'Rate',\n",
       " '4',\n",
       " 'Rate',\n",
       " '5',\n",
       " 'Rate',\n",
       " '6',\n",
       " 'Rate',\n",
       " '7',\n",
       " 'Rate',\n",
       " '8',\n",
       " 'Rate',\n",
       " '9',\n",
       " 'Rate',\n",
       " '10',\n",
       " 'Rate',\n",
       " '8.6',\n",
       " '0',\n",
       " 'Rate',\n",
       " '1',\n",
       " 'Rate',\n",
       " '2',\n",
       " 'Rate',\n",
       " '3',\n",
       " 'Rate',\n",
       " '4',\n",
       " 'Rate',\n",
       " '5',\n",
       " 'Rate',\n",
       " '6',\n",
       " 'Rate',\n",
       " '7',\n",
       " 'Rate',\n",
       " '8',\n",
       " 'Rate',\n",
       " '9',\n",
       " 'Rate',\n",
       " '10',\n",
       " 'Rate',\n",
       " '8.6',\n",
       " '0',\n",
       " 'Rate',\n",
       " '1',\n",
       " 'Rate',\n",
       " '2',\n",
       " 'Rate',\n",
       " '3',\n",
       " 'Rate',\n",
       " '4',\n",
       " 'Rate',\n",
       " '5',\n",
       " 'Rate',\n",
       " '6',\n",
       " 'Rate',\n",
       " '7',\n",
       " 'Rate',\n",
       " '8',\n",
       " 'Rate',\n",
       " '9',\n",
       " 'Rate',\n",
       " '10',\n",
       " 'Rate',\n",
       " '8.5',\n",
       " '0',\n",
       " 'Rate',\n",
       " '1',\n",
       " 'Rate',\n",
       " '2',\n",
       " 'Rate',\n",
       " '3',\n",
       " 'Rate',\n",
       " '4',\n",
       " 'Rate',\n",
       " '5',\n",
       " 'Rate',\n",
       " '6',\n",
       " 'Rate',\n",
       " '7',\n",
       " 'Rate',\n",
       " '8',\n",
       " 'Rate',\n",
       " '9',\n",
       " 'Rate',\n",
       " '10',\n",
       " 'Rate',\n",
       " '8.5',\n",
       " '0',\n",
       " 'Rate',\n",
       " '1',\n",
       " 'Rate',\n",
       " '2',\n",
       " 'Rate',\n",
       " '3',\n",
       " 'Rate',\n",
       " '4',\n",
       " 'Rate',\n",
       " '5',\n",
       " 'Rate',\n",
       " '6',\n",
       " 'Rate',\n",
       " '7',\n",
       " 'Rate',\n",
       " '8',\n",
       " 'Rate',\n",
       " '9',\n",
       " 'Rate',\n",
       " '10',\n",
       " 'Rate',\n",
       " '8.5',\n",
       " '0',\n",
       " 'Rate',\n",
       " '1',\n",
       " 'Rate',\n",
       " '2',\n",
       " 'Rate',\n",
       " '3',\n",
       " 'Rate',\n",
       " '4',\n",
       " 'Rate',\n",
       " '5',\n",
       " 'Rate',\n",
       " '6',\n",
       " 'Rate',\n",
       " '7',\n",
       " 'Rate',\n",
       " '8',\n",
       " 'Rate',\n",
       " '9',\n",
       " 'Rate',\n",
       " '10',\n",
       " 'Rate',\n",
       " '8.5',\n",
       " '0',\n",
       " 'Rate',\n",
       " '1',\n",
       " 'Rate',\n",
       " '2',\n",
       " 'Rate',\n",
       " '3',\n",
       " 'Rate',\n",
       " '4',\n",
       " 'Rate',\n",
       " '5',\n",
       " 'Rate',\n",
       " '6',\n",
       " 'Rate',\n",
       " '7',\n",
       " 'Rate',\n",
       " '8',\n",
       " 'Rate',\n",
       " '9',\n",
       " 'Rate',\n",
       " '10',\n",
       " 'Rate',\n",
       " '8.5',\n",
       " '0',\n",
       " 'Rate',\n",
       " '1',\n",
       " 'Rate',\n",
       " '2',\n",
       " 'Rate',\n",
       " '3',\n",
       " 'Rate',\n",
       " '4',\n",
       " 'Rate',\n",
       " '5',\n",
       " 'Rate',\n",
       " '6',\n",
       " 'Rate',\n",
       " '7',\n",
       " 'Rate',\n",
       " '8',\n",
       " 'Rate',\n",
       " '9',\n",
       " 'Rate',\n",
       " '10',\n",
       " 'Rate',\n",
       " '8.5',\n",
       " '0',\n",
       " 'Rate',\n",
       " '1',\n",
       " 'Rate',\n",
       " '2',\n",
       " 'Rate',\n",
       " '3',\n",
       " 'Rate',\n",
       " '4',\n",
       " 'Rate',\n",
       " '5',\n",
       " 'Rate',\n",
       " '6',\n",
       " 'Rate',\n",
       " '7',\n",
       " 'Rate',\n",
       " '8',\n",
       " 'Rate',\n",
       " '9',\n",
       " 'Rate',\n",
       " '10',\n",
       " 'Rate',\n",
       " '8.4',\n",
       " '0',\n",
       " 'Rate',\n",
       " '1',\n",
       " 'Rate',\n",
       " '2',\n",
       " 'Rate',\n",
       " '3',\n",
       " 'Rate',\n",
       " '4',\n",
       " 'Rate',\n",
       " '5',\n",
       " 'Rate',\n",
       " '6',\n",
       " 'Rate',\n",
       " '7',\n",
       " 'Rate',\n",
       " '8',\n",
       " 'Rate',\n",
       " '9',\n",
       " 'Rate',\n",
       " '10',\n",
       " 'Rate',\n",
       " '8.4',\n",
       " '0',\n",
       " 'Rate',\n",
       " '1',\n",
       " 'Rate',\n",
       " '2',\n",
       " 'Rate',\n",
       " '3',\n",
       " 'Rate',\n",
       " '4',\n",
       " 'Rate',\n",
       " '5',\n",
       " 'Rate',\n",
       " '6',\n",
       " 'Rate',\n",
       " '7',\n",
       " 'Rate',\n",
       " '8',\n",
       " 'Rate',\n",
       " '9',\n",
       " 'Rate',\n",
       " '10',\n",
       " 'Rate',\n",
       " '8.3',\n",
       " '0',\n",
       " 'Rate',\n",
       " '1',\n",
       " 'Rate',\n",
       " '2',\n",
       " 'Rate',\n",
       " '3',\n",
       " 'Rate',\n",
       " '4',\n",
       " 'Rate',\n",
       " '5',\n",
       " 'Rate',\n",
       " '6',\n",
       " 'Rate',\n",
       " '7',\n",
       " 'Rate',\n",
       " '8',\n",
       " 'Rate',\n",
       " '9',\n",
       " 'Rate',\n",
       " '10',\n",
       " 'Rate',\n",
       " '8.3',\n",
       " '0',\n",
       " 'Rate',\n",
       " '1',\n",
       " 'Rate',\n",
       " '2',\n",
       " 'Rate',\n",
       " '3',\n",
       " 'Rate',\n",
       " '4',\n",
       " 'Rate',\n",
       " '5',\n",
       " 'Rate',\n",
       " '6',\n",
       " 'Rate',\n",
       " '7',\n",
       " 'Rate',\n",
       " '8',\n",
       " 'Rate',\n",
       " '9',\n",
       " 'Rate',\n",
       " '10',\n",
       " 'Rate',\n",
       " '8.2',\n",
       " '0',\n",
       " 'Rate',\n",
       " '1',\n",
       " 'Rate',\n",
       " '2',\n",
       " 'Rate',\n",
       " '3',\n",
       " 'Rate',\n",
       " '4',\n",
       " 'Rate',\n",
       " '5',\n",
       " 'Rate',\n",
       " '6',\n",
       " 'Rate',\n",
       " '7',\n",
       " 'Rate',\n",
       " '8',\n",
       " 'Rate',\n",
       " '9',\n",
       " 'Rate',\n",
       " '10',\n",
       " 'Rate',\n",
       " '8.2',\n",
       " '0',\n",
       " 'Rate',\n",
       " '1',\n",
       " 'Rate',\n",
       " '2',\n",
       " 'Rate',\n",
       " '3',\n",
       " 'Rate',\n",
       " '4',\n",
       " 'Rate',\n",
       " '5',\n",
       " 'Rate',\n",
       " '6',\n",
       " 'Rate',\n",
       " '7',\n",
       " 'Rate',\n",
       " '8',\n",
       " 'Rate',\n",
       " '9',\n",
       " 'Rate',\n",
       " '10',\n",
       " 'Rate',\n",
       " '8.2',\n",
       " '0',\n",
       " 'Rate',\n",
       " '1',\n",
       " 'Rate',\n",
       " '2',\n",
       " 'Rate',\n",
       " '3',\n",
       " 'Rate',\n",
       " '4',\n",
       " 'Rate',\n",
       " '5',\n",
       " 'Rate',\n",
       " '6',\n",
       " 'Rate',\n",
       " '7',\n",
       " 'Rate',\n",
       " '8',\n",
       " 'Rate',\n",
       " '9',\n",
       " 'Rate',\n",
       " '10',\n",
       " 'Rate',\n",
       " '8.2',\n",
       " '0',\n",
       " 'Rate',\n",
       " '1',\n",
       " 'Rate',\n",
       " '2',\n",
       " 'Rate',\n",
       " '3',\n",
       " 'Rate',\n",
       " '4',\n",
       " 'Rate',\n",
       " '5',\n",
       " 'Rate',\n",
       " '6',\n",
       " 'Rate',\n",
       " '7',\n",
       " 'Rate',\n",
       " '8',\n",
       " 'Rate',\n",
       " '9',\n",
       " 'Rate',\n",
       " '10',\n",
       " 'Rate',\n",
       " '8.2',\n",
       " '0',\n",
       " 'Rate',\n",
       " '1',\n",
       " 'Rate',\n",
       " '2',\n",
       " 'Rate',\n",
       " '3',\n",
       " 'Rate',\n",
       " '4',\n",
       " 'Rate',\n",
       " '5',\n",
       " 'Rate',\n",
       " '6',\n",
       " 'Rate',\n",
       " '7',\n",
       " 'Rate',\n",
       " '8',\n",
       " 'Rate',\n",
       " '9',\n",
       " 'Rate',\n",
       " '10',\n",
       " 'Rate',\n",
       " '8.2',\n",
       " '0',\n",
       " 'Rate',\n",
       " '1',\n",
       " 'Rate',\n",
       " '2',\n",
       " 'Rate',\n",
       " '3',\n",
       " 'Rate',\n",
       " '4',\n",
       " 'Rate',\n",
       " '5',\n",
       " 'Rate',\n",
       " '6',\n",
       " 'Rate',\n",
       " '7',\n",
       " 'Rate',\n",
       " '8',\n",
       " 'Rate',\n",
       " '9',\n",
       " 'Rate',\n",
       " '10',\n",
       " 'Rate',\n",
       " '8.2',\n",
       " '0',\n",
       " 'Rate',\n",
       " '1',\n",
       " 'Rate',\n",
       " '2',\n",
       " 'Rate',\n",
       " '3',\n",
       " 'Rate',\n",
       " '4',\n",
       " 'Rate',\n",
       " '5',\n",
       " 'Rate',\n",
       " '6',\n",
       " 'Rate',\n",
       " '7',\n",
       " 'Rate',\n",
       " '8',\n",
       " 'Rate',\n",
       " '9',\n",
       " 'Rate',\n",
       " '10',\n",
       " 'Rate',\n",
       " '8.1',\n",
       " '0',\n",
       " 'Rate',\n",
       " '1',\n",
       " 'Rate',\n",
       " '2',\n",
       " 'Rate',\n",
       " '3',\n",
       " 'Rate',\n",
       " '4',\n",
       " 'Rate',\n",
       " '5',\n",
       " 'Rate',\n",
       " '6',\n",
       " 'Rate',\n",
       " '7',\n",
       " 'Rate',\n",
       " '8',\n",
       " 'Rate',\n",
       " '9',\n",
       " 'Rate',\n",
       " '10',\n",
       " 'Rate',\n",
       " '8.1',\n",
       " '0',\n",
       " 'Rate',\n",
       " '1',\n",
       " 'Rate',\n",
       " '2',\n",
       " 'Rate',\n",
       " '3',\n",
       " 'Rate',\n",
       " '4',\n",
       " 'Rate',\n",
       " '5',\n",
       " 'Rate',\n",
       " '6',\n",
       " 'Rate',\n",
       " '7',\n",
       " 'Rate',\n",
       " '8',\n",
       " 'Rate',\n",
       " '9',\n",
       " 'Rate',\n",
       " '10',\n",
       " 'Rate',\n",
       " '8.1',\n",
       " '0',\n",
       " 'Rate',\n",
       " '1',\n",
       " 'Rate',\n",
       " '2',\n",
       " 'Rate',\n",
       " '3',\n",
       " 'Rate',\n",
       " '4',\n",
       " 'Rate',\n",
       " '5',\n",
       " 'Rate',\n",
       " '6',\n",
       " 'Rate',\n",
       " '7',\n",
       " 'Rate',\n",
       " '8',\n",
       " 'Rate',\n",
       " '9',\n",
       " 'Rate',\n",
       " '10',\n",
       " 'Rate',\n",
       " '8.1',\n",
       " '0',\n",
       " 'Rate',\n",
       " '1',\n",
       " 'Rate',\n",
       " '2',\n",
       " 'Rate',\n",
       " '3',\n",
       " 'Rate',\n",
       " '4',\n",
       " 'Rate',\n",
       " '5',\n",
       " 'Rate',\n",
       " '6',\n",
       " 'Rate',\n",
       " '7',\n",
       " 'Rate',\n",
       " '8',\n",
       " 'Rate',\n",
       " '9',\n",
       " 'Rate',\n",
       " '10',\n",
       " 'Rate',\n",
       " '8.1',\n",
       " '0',\n",
       " 'Rate',\n",
       " '1',\n",
       " 'Rate',\n",
       " '2',\n",
       " 'Rate',\n",
       " '3',\n",
       " 'Rate',\n",
       " '4',\n",
       " 'Rate',\n",
       " '5',\n",
       " 'Rate',\n",
       " '6',\n",
       " 'Rate',\n",
       " '7',\n",
       " 'Rate',\n",
       " '8',\n",
       " 'Rate',\n",
       " '9',\n",
       " 'Rate',\n",
       " '10',\n",
       " 'Rate',\n",
       " '8.1',\n",
       " '0',\n",
       " 'Rate',\n",
       " '1',\n",
       " 'Rate',\n",
       " '2',\n",
       " 'Rate',\n",
       " '3',\n",
       " 'Rate',\n",
       " '4',\n",
       " 'Rate',\n",
       " '5',\n",
       " 'Rate',\n",
       " '6',\n",
       " 'Rate',\n",
       " '7',\n",
       " 'Rate',\n",
       " '8',\n",
       " 'Rate',\n",
       " '9',\n",
       " 'Rate',\n",
       " '10',\n",
       " 'Rate',\n",
       " '8.1',\n",
       " '0',\n",
       " 'Rate',\n",
       " '1',\n",
       " 'Rate',\n",
       " '2',\n",
       " 'Rate',\n",
       " '3',\n",
       " 'Rate',\n",
       " '4',\n",
       " 'Rate',\n",
       " '5',\n",
       " 'Rate',\n",
       " '6',\n",
       " 'Rate',\n",
       " '7',\n",
       " 'Rate',\n",
       " '8',\n",
       " 'Rate',\n",
       " '9',\n",
       " 'Rate',\n",
       " '10',\n",
       " 'Rate',\n",
       " '8.1',\n",
       " '0',\n",
       " 'Rate',\n",
       " '1',\n",
       " 'Rate',\n",
       " '2',\n",
       " 'Rate',\n",
       " '3',\n",
       " 'Rate',\n",
       " '4',\n",
       " 'Rate',\n",
       " '5',\n",
       " 'Rate',\n",
       " '6',\n",
       " 'Rate',\n",
       " '7',\n",
       " 'Rate',\n",
       " '8',\n",
       " 'Rate',\n",
       " '9',\n",
       " 'Rate',\n",
       " '10',\n",
       " 'Rate',\n",
       " '8',\n",
       " '0',\n",
       " 'Rate',\n",
       " '1',\n",
       " 'Rate',\n",
       " '2',\n",
       " 'Rate',\n",
       " '3',\n",
       " 'Rate',\n",
       " '4',\n",
       " 'Rate',\n",
       " '5',\n",
       " 'Rate',\n",
       " '6',\n",
       " 'Rate',\n",
       " '7',\n",
       " 'Rate',\n",
       " '8',\n",
       " 'Rate',\n",
       " '9',\n",
       " 'Rate',\n",
       " '10',\n",
       " 'Rate',\n",
       " '8',\n",
       " '0',\n",
       " 'Rate',\n",
       " '1',\n",
       " 'Rate',\n",
       " '2',\n",
       " 'Rate',\n",
       " '3',\n",
       " 'Rate',\n",
       " '4',\n",
       " 'Rate',\n",
       " '5',\n",
       " 'Rate',\n",
       " '6',\n",
       " 'Rate',\n",
       " '7',\n",
       " 'Rate',\n",
       " '8',\n",
       " 'Rate',\n",
       " '9',\n",
       " 'Rate',\n",
       " '10',\n",
       " 'Rate',\n",
       " '8',\n",
       " '0',\n",
       " 'Rate',\n",
       " '1',\n",
       " 'Rate',\n",
       " '2',\n",
       " 'Rate',\n",
       " '3',\n",
       " 'Rate',\n",
       " '4',\n",
       " 'Rate',\n",
       " '5',\n",
       " 'Rate',\n",
       " '6',\n",
       " 'Rate',\n",
       " '7',\n",
       " 'Rate',\n",
       " '8',\n",
       " 'Rate',\n",
       " '9',\n",
       " 'Rate',\n",
       " '10',\n",
       " 'Rate',\n",
       " '8',\n",
       " '0',\n",
       " 'Rate',\n",
       " '1',\n",
       " 'Rate',\n",
       " '2',\n",
       " 'Rate',\n",
       " '3',\n",
       " 'Rate',\n",
       " '4',\n",
       " 'Rate',\n",
       " '5',\n",
       " 'Rate',\n",
       " '6',\n",
       " 'Rate',\n",
       " '7',\n",
       " 'Rate',\n",
       " '8',\n",
       " 'Rate',\n",
       " '9',\n",
       " 'Rate',\n",
       " '10',\n",
       " 'Rate',\n",
       " '8',\n",
       " '0',\n",
       " 'Rate',\n",
       " '1',\n",
       " 'Rate',\n",
       " '2',\n",
       " 'Rate',\n",
       " '3',\n",
       " 'Rate',\n",
       " '4',\n",
       " 'Rate',\n",
       " '5',\n",
       " 'Rate',\n",
       " '6',\n",
       " 'Rate',\n",
       " '7',\n",
       " 'Rate',\n",
       " '8',\n",
       " 'Rate',\n",
       " '9',\n",
       " 'Rate',\n",
       " '10',\n",
       " 'Rate',\n",
       " '7.9',\n",
       " '0',\n",
       " 'Rate',\n",
       " '1',\n",
       " 'Rate',\n",
       " '2',\n",
       " 'Rate',\n",
       " '3',\n",
       " 'Rate',\n",
       " '4',\n",
       " 'Rate',\n",
       " '5',\n",
       " 'Rate',\n",
       " '6',\n",
       " 'Rate',\n",
       " '7',\n",
       " 'Rate',\n",
       " '8',\n",
       " 'Rate',\n",
       " '9',\n",
       " 'Rate',\n",
       " '10',\n",
       " 'Rate',\n",
       " '7.9',\n",
       " '0',\n",
       " 'Rate',\n",
       " '1',\n",
       " 'Rate',\n",
       " '2',\n",
       " 'Rate',\n",
       " '3',\n",
       " 'Rate',\n",
       " '4',\n",
       " 'Rate',\n",
       " ...]"
      ]
     },
     "execution_count": 394,
     "metadata": {},
     "output_type": "execute_result"
    }
   ],
   "source": [
    "rating = []\n",
    "for i in soup.find_all('span',class_=\"ipl-rating-star__rating\"):\n",
    "    rating.append(i.text)\n",
    "\n",
    "rating"
   ]
  },
  {
   "cell_type": "code",
   "execution_count": 392,
   "id": "dff8af2f",
   "metadata": {},
   "outputs": [
    {
     "name": "stdout",
     "output_type": "stream",
     "text": [
      "['9.3', '9.2', '9', '9', '9', '8.8', '8.6', '8.6', '8.6', '8.6', '8.6', '8.6', '8.5', '8.5', '8.5', '8.5', '8.5', '8.5', '8.4', '8.4', '8.3', '8.3', '8.2', '8.2', '8.2', '8.2', '8.2', '8.2', '8.2', '8.1', '8.1', '8.1', '8.1', '8.1', '8.1', '8.1', '8.1', '8', '8', '8', '8', '8', '7.9', '7.9', '7.9', '7.8', '7.8', '7.8', '7.8', '7.8']\n"
     ]
    },
    {
     "data": {
      "text/plain": [
       "50"
      ]
     },
     "execution_count": 392,
     "metadata": {},
     "output_type": "execute_result"
    }
   ],
   "source": [
    "ratings = []\n",
    "for i in range(0, len(rating), 23):\n",
    "    ratings.append(rating[i])\n",
    "\n",
    "ratings"
   ]
  },
  {
   "cell_type": "code",
   "execution_count": 22,
   "id": "a144536b",
   "metadata": {},
   "outputs": [
    {
     "data": {
      "text/plain": [
       "['(1994)',\n",
       " '(1972)',\n",
       " '(2008)',\n",
       " '(1993)',\n",
       " '(1957)',\n",
       " '(1966)',\n",
       " '(1999)',\n",
       " '(1991)',\n",
       " '(1998)',\n",
       " '(1997)',\n",
       " '(1954)',\n",
       " '(1946)',\n",
       " '(1979)',\n",
       " '(2000)',\n",
       " '(1985)',\n",
       " '(1994)',\n",
       " '(2002)',\n",
       " '(2011)',\n",
       " '(1980)',\n",
       " '(1995)',\n",
       " '(2000)',\n",
       " '(2011)',\n",
       " '(1993)',\n",
       " '(2003)',\n",
       " '(1999)',\n",
       " '(2003)',\n",
       " '(2001)',\n",
       " '(2009)',\n",
       " '(1997)',\n",
       " '(1973)',\n",
       " '(2008)',\n",
       " '(2003)',\n",
       " '(1959)',\n",
       " '(2009)',\n",
       " '(1957)',\n",
       " '(2000)',\n",
       " '(2004)',\n",
       " '(2006)',\n",
       " '(2001)',\n",
       " '(2008)',\n",
       " '(2003)',\n",
       " '(1998)',\n",
       " '(1997)',\n",
       " '(2004)',\n",
       " '(2003)',\n",
       " '(2006)',\n",
       " '(2000)',\n",
       " '(I) (2008)',\n",
       " '(2010)',\n",
       " '(1999)']"
      ]
     },
     "execution_count": 22,
     "metadata": {},
     "output_type": "execute_result"
    }
   ],
   "source": [
    "year = []\n",
    "for i in soup.find_all('span',class_=\"lister-item-year text-muted unbold\"):\n",
    "    year.append(i.text)\n",
    "\n",
    "year"
   ]
  },
  {
   "cell_type": "code",
   "execution_count": 393,
   "id": "f557ff19",
   "metadata": {},
   "outputs": [
    {
     "data": {
      "text/html": [
       "<div>\n",
       "<style scoped>\n",
       "    .dataframe tbody tr th:only-of-type {\n",
       "        vertical-align: middle;\n",
       "    }\n",
       "\n",
       "    .dataframe tbody tr th {\n",
       "        vertical-align: top;\n",
       "    }\n",
       "\n",
       "    .dataframe thead th {\n",
       "        text-align: right;\n",
       "    }\n",
       "</style>\n",
       "<table border=\"1\" class=\"dataframe\">\n",
       "  <thead>\n",
       "    <tr style=\"text-align: right;\">\n",
       "      <th></th>\n",
       "      <th>Movie Names</th>\n",
       "      <th>Rating</th>\n",
       "      <th>Year of Release</th>\n",
       "    </tr>\n",
       "  </thead>\n",
       "  <tbody>\n",
       "    <tr>\n",
       "      <th>0</th>\n",
       "      <td>Ramayana: The Legend of Prince Rama</td>\n",
       "      <td>9.3</td>\n",
       "      <td>(1994)</td>\n",
       "    </tr>\n",
       "    <tr>\n",
       "      <th>1</th>\n",
       "      <td>Rocketry: The Nambi Effect</td>\n",
       "      <td>9.2</td>\n",
       "      <td>(1972)</td>\n",
       "    </tr>\n",
       "    <tr>\n",
       "      <th>2</th>\n",
       "      <td>Nayakan</td>\n",
       "      <td>9</td>\n",
       "      <td>(2008)</td>\n",
       "    </tr>\n",
       "    <tr>\n",
       "      <th>3</th>\n",
       "      <td>Gol Maal</td>\n",
       "      <td>9</td>\n",
       "      <td>(1993)</td>\n",
       "    </tr>\n",
       "    <tr>\n",
       "      <th>4</th>\n",
       "      <td>777 Charlie</td>\n",
       "      <td>9</td>\n",
       "      <td>(1957)</td>\n",
       "    </tr>\n",
       "    <tr>\n",
       "      <th>5</th>\n",
       "      <td>Anbe Sivam</td>\n",
       "      <td>8.8</td>\n",
       "      <td>(1966)</td>\n",
       "    </tr>\n",
       "    <tr>\n",
       "      <th>6</th>\n",
       "      <td>Pariyerum Perumal</td>\n",
       "      <td>8.6</td>\n",
       "      <td>(1999)</td>\n",
       "    </tr>\n",
       "    <tr>\n",
       "      <th>7</th>\n",
       "      <td>Apur Sansar</td>\n",
       "      <td>8.6</td>\n",
       "      <td>(1991)</td>\n",
       "    </tr>\n",
       "    <tr>\n",
       "      <th>8</th>\n",
       "      <td>3 Idiots</td>\n",
       "      <td>8.6</td>\n",
       "      <td>(1998)</td>\n",
       "    </tr>\n",
       "    <tr>\n",
       "      <th>9</th>\n",
       "      <td>Manichitrathazhu</td>\n",
       "      <td>8.6</td>\n",
       "      <td>(1997)</td>\n",
       "    </tr>\n",
       "    <tr>\n",
       "      <th>10</th>\n",
       "      <td>Jai Bhim</td>\n",
       "      <td>8.6</td>\n",
       "      <td>(1954)</td>\n",
       "    </tr>\n",
       "    <tr>\n",
       "      <th>11</th>\n",
       "      <td>#Home</td>\n",
       "      <td>8.6</td>\n",
       "      <td>(1946)</td>\n",
       "    </tr>\n",
       "    <tr>\n",
       "      <th>12</th>\n",
       "      <td>Soorarai Pottru</td>\n",
       "      <td>8.5</td>\n",
       "      <td>(1979)</td>\n",
       "    </tr>\n",
       "    <tr>\n",
       "      <th>13</th>\n",
       "      <td>Black Friday</td>\n",
       "      <td>8.5</td>\n",
       "      <td>(2000)</td>\n",
       "    </tr>\n",
       "    <tr>\n",
       "      <th>14</th>\n",
       "      <td>Kumbalangi Nights</td>\n",
       "      <td>8.5</td>\n",
       "      <td>(1985)</td>\n",
       "    </tr>\n",
       "    <tr>\n",
       "      <th>15</th>\n",
       "      <td>C/o Kancharapalem</td>\n",
       "      <td>8.5</td>\n",
       "      <td>(1994)</td>\n",
       "    </tr>\n",
       "    <tr>\n",
       "      <th>16</th>\n",
       "      <td>Taare Zameen Par</td>\n",
       "      <td>8.5</td>\n",
       "      <td>(2002)</td>\n",
       "    </tr>\n",
       "    <tr>\n",
       "      <th>17</th>\n",
       "      <td>Kireedam</td>\n",
       "      <td>8.5</td>\n",
       "      <td>(2011)</td>\n",
       "    </tr>\n",
       "    <tr>\n",
       "      <th>18</th>\n",
       "      <td>Dangal</td>\n",
       "      <td>8.4</td>\n",
       "      <td>(1980)</td>\n",
       "    </tr>\n",
       "    <tr>\n",
       "      <th>19</th>\n",
       "      <td>Kaithi</td>\n",
       "      <td>8.4</td>\n",
       "      <td>(1995)</td>\n",
       "    </tr>\n",
       "    <tr>\n",
       "      <th>20</th>\n",
       "      <td>Jersey</td>\n",
       "      <td>8.3</td>\n",
       "      <td>(2000)</td>\n",
       "    </tr>\n",
       "    <tr>\n",
       "      <th>21</th>\n",
       "      <td>96</td>\n",
       "      <td>8.3</td>\n",
       "      <td>(2011)</td>\n",
       "    </tr>\n",
       "    <tr>\n",
       "      <th>22</th>\n",
       "      <td>Maya Bazaar</td>\n",
       "      <td>8.2</td>\n",
       "      <td>(1993)</td>\n",
       "    </tr>\n",
       "    <tr>\n",
       "      <th>23</th>\n",
       "      <td>Natsamrat</td>\n",
       "      <td>8.2</td>\n",
       "      <td>(2003)</td>\n",
       "    </tr>\n",
       "    <tr>\n",
       "      <th>24</th>\n",
       "      <td>Drishyam 2</td>\n",
       "      <td>8.2</td>\n",
       "      <td>(1999)</td>\n",
       "    </tr>\n",
       "    <tr>\n",
       "      <th>25</th>\n",
       "      <td>Asuran</td>\n",
       "      <td>8.2</td>\n",
       "      <td>(2003)</td>\n",
       "    </tr>\n",
       "    <tr>\n",
       "      <th>26</th>\n",
       "      <td>Sita Ramam</td>\n",
       "      <td>8.2</td>\n",
       "      <td>(2001)</td>\n",
       "    </tr>\n",
       "    <tr>\n",
       "      <th>27</th>\n",
       "      <td>Thevar Magan</td>\n",
       "      <td>8.2</td>\n",
       "      <td>(2009)</td>\n",
       "    </tr>\n",
       "    <tr>\n",
       "      <th>28</th>\n",
       "      <td>Visaaranai</td>\n",
       "      <td>8.2</td>\n",
       "      <td>(1997)</td>\n",
       "    </tr>\n",
       "    <tr>\n",
       "      <th>29</th>\n",
       "      <td>Sarpatta Parambarai</td>\n",
       "      <td>8.1</td>\n",
       "      <td>(1973)</td>\n",
       "    </tr>\n",
       "    <tr>\n",
       "      <th>30</th>\n",
       "      <td>Thalapathi</td>\n",
       "      <td>8.1</td>\n",
       "      <td>(2008)</td>\n",
       "    </tr>\n",
       "    <tr>\n",
       "      <th>31</th>\n",
       "      <td>Nadodikkattu</td>\n",
       "      <td>8.1</td>\n",
       "      <td>(2003)</td>\n",
       "    </tr>\n",
       "    <tr>\n",
       "      <th>32</th>\n",
       "      <td>Pather Panchali</td>\n",
       "      <td>8.1</td>\n",
       "      <td>(1959)</td>\n",
       "    </tr>\n",
       "    <tr>\n",
       "      <th>33</th>\n",
       "      <td>Drishyam</td>\n",
       "      <td>8.1</td>\n",
       "      <td>(2009)</td>\n",
       "    </tr>\n",
       "    <tr>\n",
       "      <th>34</th>\n",
       "      <td>Thani Oruvan</td>\n",
       "      <td>8.1</td>\n",
       "      <td>(1957)</td>\n",
       "    </tr>\n",
       "    <tr>\n",
       "      <th>35</th>\n",
       "      <td>Jaane Bhi Do Yaaro</td>\n",
       "      <td>8.1</td>\n",
       "      <td>(2000)</td>\n",
       "    </tr>\n",
       "    <tr>\n",
       "      <th>36</th>\n",
       "      <td>Vada Chennai</td>\n",
       "      <td>8.1</td>\n",
       "      <td>(2004)</td>\n",
       "    </tr>\n",
       "    <tr>\n",
       "      <th>37</th>\n",
       "      <td>Aparajito</td>\n",
       "      <td>8</td>\n",
       "      <td>(2006)</td>\n",
       "    </tr>\n",
       "    <tr>\n",
       "      <th>38</th>\n",
       "      <td>Khosla Ka Ghosla!</td>\n",
       "      <td>8</td>\n",
       "      <td>(2001)</td>\n",
       "    </tr>\n",
       "    <tr>\n",
       "      <th>39</th>\n",
       "      <td>Sardar Udham</td>\n",
       "      <td>8</td>\n",
       "      <td>(2008)</td>\n",
       "    </tr>\n",
       "    <tr>\n",
       "      <th>40</th>\n",
       "      <td>Anniyan</td>\n",
       "      <td>8</td>\n",
       "      <td>(2003)</td>\n",
       "    </tr>\n",
       "    <tr>\n",
       "      <th>41</th>\n",
       "      <td>Ratsasan</td>\n",
       "      <td>8</td>\n",
       "      <td>(1998)</td>\n",
       "    </tr>\n",
       "    <tr>\n",
       "      <th>42</th>\n",
       "      <td>Chupke Chupke</td>\n",
       "      <td>7.9</td>\n",
       "      <td>(1997)</td>\n",
       "    </tr>\n",
       "    <tr>\n",
       "      <th>43</th>\n",
       "      <td>Gangs of Wasseypur</td>\n",
       "      <td>7.9</td>\n",
       "      <td>(2004)</td>\n",
       "    </tr>\n",
       "    <tr>\n",
       "      <th>44</th>\n",
       "      <td>Drishyam</td>\n",
       "      <td>7.9</td>\n",
       "      <td>(2003)</td>\n",
       "    </tr>\n",
       "    <tr>\n",
       "      <th>45</th>\n",
       "      <td>Mahanati</td>\n",
       "      <td>7.8</td>\n",
       "      <td>(2006)</td>\n",
       "    </tr>\n",
       "    <tr>\n",
       "      <th>46</th>\n",
       "      <td>Peranbu</td>\n",
       "      <td>7.8</td>\n",
       "      <td>(2000)</td>\n",
       "    </tr>\n",
       "    <tr>\n",
       "      <th>47</th>\n",
       "      <td>Bangalore Days</td>\n",
       "      <td>7.8</td>\n",
       "      <td>(I) (2008)</td>\n",
       "    </tr>\n",
       "    <tr>\n",
       "      <th>48</th>\n",
       "      <td>Premam</td>\n",
       "      <td>7.8</td>\n",
       "      <td>(2010)</td>\n",
       "    </tr>\n",
       "    <tr>\n",
       "      <th>49</th>\n",
       "      <td>Satya</td>\n",
       "      <td>7.8</td>\n",
       "      <td>(1999)</td>\n",
       "    </tr>\n",
       "  </tbody>\n",
       "</table>\n",
       "</div>"
      ],
      "text/plain": [
       "                                  Movie Names Rating Year of Release\n",
       "0         Ramayana: The Legend of Prince Rama    9.3          (1994)\n",
       "1                  Rocketry: The Nambi Effect    9.2          (1972)\n",
       "2                                     Nayakan      9          (2008)\n",
       "3                                    Gol Maal      9          (1993)\n",
       "4                                 777 Charlie      9          (1957)\n",
       "5                                  Anbe Sivam    8.8          (1966)\n",
       "6                           Pariyerum Perumal    8.6          (1999)\n",
       "7                                 Apur Sansar    8.6          (1991)\n",
       "8                                    3 Idiots    8.6          (1998)\n",
       "9                            Manichitrathazhu    8.6          (1997)\n",
       "10                                   Jai Bhim    8.6          (1954)\n",
       "11                                      #Home    8.6          (1946)\n",
       "12                            Soorarai Pottru    8.5          (1979)\n",
       "13                               Black Friday    8.5          (2000)\n",
       "14                          Kumbalangi Nights    8.5          (1985)\n",
       "15                          C/o Kancharapalem    8.5          (1994)\n",
       "16                           Taare Zameen Par    8.5          (2002)\n",
       "17                                   Kireedam    8.5          (2011)\n",
       "18                                     Dangal    8.4          (1980)\n",
       "19                                     Kaithi    8.4          (1995)\n",
       "20                                     Jersey    8.3          (2000)\n",
       "21                                         96    8.3          (2011)\n",
       "22                                Maya Bazaar    8.2          (1993)\n",
       "23                                  Natsamrat    8.2          (2003)\n",
       "24                                 Drishyam 2    8.2          (1999)\n",
       "25                                     Asuran    8.2          (2003)\n",
       "26                                 Sita Ramam    8.2          (2001)\n",
       "27                               Thevar Magan    8.2          (2009)\n",
       "28                                 Visaaranai    8.2          (1997)\n",
       "29                        Sarpatta Parambarai    8.1          (1973)\n",
       "30                                 Thalapathi    8.1          (2008)\n",
       "31                               Nadodikkattu    8.1          (2003)\n",
       "32                            Pather Panchali    8.1          (1959)\n",
       "33                                   Drishyam    8.1          (2009)\n",
       "34                               Thani Oruvan    8.1          (1957)\n",
       "35                         Jaane Bhi Do Yaaro    8.1          (2000)\n",
       "36                               Vada Chennai    8.1          (2004)\n",
       "37                                  Aparajito      8          (2006)\n",
       "38                          Khosla Ka Ghosla!      8          (2001)\n",
       "39                               Sardar Udham      8          (2008)\n",
       "40                                    Anniyan      8          (2003)\n",
       "41                                   Ratsasan      8          (1998)\n",
       "42                              Chupke Chupke    7.9          (1997)\n",
       "43                         Gangs of Wasseypur    7.9          (2004)\n",
       "44                                   Drishyam    7.9          (2003)\n",
       "45                                   Mahanati    7.8          (2006)\n",
       "46                                    Peranbu    7.8          (2000)\n",
       "47                             Bangalore Days    7.8      (I) (2008)\n",
       "48                                     Premam    7.8          (2010)\n",
       "49                                      Satya    7.8          (1999)"
      ]
     },
     "execution_count": 393,
     "metadata": {},
     "output_type": "execute_result"
    }
   ],
   "source": [
    "df1 = pd.DataFrame({'Movie Names':movie_names,#'Rating':ratings,'Year of Release':year})\n",
    "df1"
   ]
  },
  {
   "cell_type": "markdown",
   "id": "a2e66657",
   "metadata": {},
   "source": [
    "# 3. Write a python program to display IMDB’s Top rated 50 Indian movies’ data (i.e. name, rating, year of release) and make data frame."
   ]
  },
  {
   "cell_type": "code",
   "execution_count": 88,
   "id": "8532e73b",
   "metadata": {},
   "outputs": [
    {
     "data": {
      "text/plain": [
       "<Response [200]>"
      ]
     },
     "execution_count": 88,
     "metadata": {},
     "output_type": "execute_result"
    }
   ],
   "source": [
    "page2 = requests.get('https://www.imdb.com/india/top-rated-indian-movies/')\n",
    "page2"
   ]
  },
  {
   "cell_type": "code",
   "execution_count": 108,
   "id": "95b53dc4",
   "metadata": {},
   "outputs": [
    {
     "data": {
      "text/plain": [
       "['\\n      1.\\n      Ramayana: The Legend of Prince Rama\\n(1993)\\n',\n",
       " '\\n      2.\\n      Rocketry: The Nambi Effect\\n(2022)\\n',\n",
       " '\\n      3.\\n      Nayakan\\n(1987)\\n',\n",
       " '\\n      4.\\n      Gol Maal\\n(1979)\\n',\n",
       " '\\n      5.\\n      777 Charlie\\n(2022)\\n',\n",
       " '\\n      6.\\n      Anbe Sivam\\n(2003)\\n',\n",
       " '\\n      7.\\n      Pariyerum Perumal\\n(2018)\\n',\n",
       " '\\n      8.\\n      Apur Sansar\\n(1959)\\n',\n",
       " '\\n      9.\\n      3 Idiots\\n(2009)\\n',\n",
       " '\\n      10.\\n      Manichitrathazhu\\n(1993)\\n',\n",
       " '\\n      11.\\n      Jai Bhim\\n(2021)\\n',\n",
       " '\\n      12.\\n      #Home\\n(2021)\\n',\n",
       " '\\n      13.\\n      Soorarai Pottru\\n(2020)\\n',\n",
       " '\\n      14.\\n      Black Friday\\n(2004)\\n',\n",
       " '\\n      15.\\n      Kumbalangi Nights\\n(2019)\\n',\n",
       " '\\n      16.\\n      C/o Kancharapalem\\n(2018)\\n',\n",
       " '\\n      17.\\n      Taare Zameen Par\\n(2007)\\n',\n",
       " '\\n      18.\\n      Kireedam\\n(1989)\\n',\n",
       " '\\n      19.\\n      Dangal\\n(2016)\\n',\n",
       " '\\n      20.\\n      Kaithi\\n(2019)\\n',\n",
       " '\\n      21.\\n      Jersey\\n(2019)\\n',\n",
       " '\\n      22.\\n      96\\n(2018)\\n',\n",
       " '\\n      23.\\n      Maya Bazaar\\n(1957)\\n',\n",
       " '\\n      24.\\n      Natsamrat\\n(2016)\\n',\n",
       " '\\n      25.\\n      Drishyam 2\\n(2021)\\n',\n",
       " '\\n      26.\\n      Asuran\\n(2019)\\n',\n",
       " '\\n      27.\\n      Sita Ramam\\n(2022)\\n',\n",
       " '\\n      28.\\n      Thevar Magan\\n(1992)\\n',\n",
       " '\\n      29.\\n      Visaaranai\\n(2015)\\n',\n",
       " '\\n      30.\\n      Sarpatta Parambarai\\n(2021)\\n',\n",
       " '\\n      31.\\n      Thalapathi\\n(1991)\\n',\n",
       " '\\n      32.\\n      Nadodikkattu\\n(1987)\\n',\n",
       " '\\n      33.\\n      Pather Panchali\\n(1955)\\n',\n",
       " '\\n      34.\\n      Drishyam\\n(2013)\\n',\n",
       " '\\n      35.\\n      Thani Oruvan\\n(2015)\\n',\n",
       " '\\n      36.\\n      Jaane Bhi Do Yaaro\\n(1983)\\n',\n",
       " '\\n      37.\\n      Vada Chennai\\n(2018)\\n',\n",
       " '\\n      38.\\n      Aparajito\\n(1956)\\n',\n",
       " '\\n      39.\\n      Khosla Ka Ghosla!\\n(2006)\\n',\n",
       " '\\n      40.\\n      Sardar Udham\\n(2021)\\n',\n",
       " '\\n      41.\\n      Anniyan\\n(2005)\\n',\n",
       " '\\n      42.\\n      Ratsasan\\n(2018)\\n',\n",
       " '\\n      43.\\n      Chupke Chupke\\n(1975)\\n',\n",
       " '\\n      44.\\n      Gangs of Wasseypur\\n(2012)\\n',\n",
       " '\\n      45.\\n      Drishyam\\n(2015)\\n',\n",
       " '\\n      46.\\n      Mahanati\\n(2018)\\n',\n",
       " '\\n      47.\\n      Peranbu\\n(2018)\\n',\n",
       " '\\n      48.\\n      Bangalore Days\\n(2014)\\n',\n",
       " '\\n      49.\\n      Premam\\n(2015)\\n',\n",
       " '\\n      50.\\n      Satya\\n(1998)\\n']"
      ]
     },
     "execution_count": 108,
     "metadata": {},
     "output_type": "execute_result"
    }
   ],
   "source": [
    "soup = BeautifulSoup(page2.content)\n",
    "movie_name = []\n",
    "for i in soup.find_all('td',class_=\"titleColumn\"):\n",
    "    movie_name.append(i.text)\n",
    "mn = movie_name[:50]\n",
    "mn"
   ]
  },
  {
   "cell_type": "code",
   "execution_count": 110,
   "id": "049c1482",
   "metadata": {},
   "outputs": [
    {
     "name": "stdout",
     "output_type": "stream",
     "text": [
      "['      Ramayana: The Legend of Prince Rama', '      Rocketry: The Nambi Effect', '      Nayakan', '      Gol Maal', '      777 Charlie', '      Anbe Sivam', '      Pariyerum Perumal', '      Apur Sansar', '      3 Idiots', '      Manichitrathazhu', '      Jai Bhim', '      #Home', '      Soorarai Pottru', '      Black Friday', '      Kumbalangi Nights', '      C/o Kancharapalem', '      Taare Zameen Par', '      Kireedam', '      Dangal', '      Kaithi', '      Jersey', '      96', '      Maya Bazaar', '      Natsamrat', '      Drishyam 2', '      Asuran', '      Sita Ramam', '      Thevar Magan', '      Visaaranai', '      Sarpatta Parambarai', '      Thalapathi', '      Nadodikkattu', '      Pather Panchali', '      Drishyam', '      Thani Oruvan', '      Jaane Bhi Do Yaaro', '      Vada Chennai', '      Aparajito', '      Khosla Ka Ghosla!', '      Sardar Udham', '      Anniyan', '      Ratsasan', '      Chupke Chupke', '      Gangs of Wasseypur', '      Drishyam', '      Mahanati', '      Peranbu', '      Bangalore Days', '      Premam', '      Satya']\n"
     ]
    }
   ],
   "source": [
    "movie_names = []\n",
    "for movie in mn:\n",
    "    split_movie = movie.split(\"\\n\")\n",
    "    movie_name = split_movie[2]\n",
    "    movie_names.append(movie_name)\n",
    "\n",
    "print(movie_names)"
   ]
  },
  {
   "cell_type": "code",
   "execution_count": 406,
   "id": "3cb47f94",
   "metadata": {},
   "outputs": [
    {
     "data": {
      "text/plain": [
       "['\\n8.6\\n',\n",
       " '\\n8.4\\n',\n",
       " '\\n8.4\\n',\n",
       " '\\n8.4\\n',\n",
       " '\\n8.4\\n',\n",
       " '\\n8.4\\n',\n",
       " '\\n8.4\\n',\n",
       " '\\n8.4\\n',\n",
       " '\\n8.4\\n',\n",
       " '\\n8.3\\n',\n",
       " '\\n8.3\\n',\n",
       " '\\n8.3\\n',\n",
       " '\\n8.3\\n',\n",
       " '\\n8.3\\n',\n",
       " '\\n8.3\\n',\n",
       " '\\n8.3\\n',\n",
       " '\\n8.3\\n',\n",
       " '\\n8.3\\n',\n",
       " '\\n8.3\\n',\n",
       " '\\n8.3\\n',\n",
       " '\\n8.3\\n',\n",
       " '\\n8.3\\n',\n",
       " '\\n8.2\\n',\n",
       " '\\n8.2\\n',\n",
       " '\\n8.2\\n',\n",
       " '\\n8.2\\n',\n",
       " '\\n8.2\\n',\n",
       " '\\n8.2\\n',\n",
       " '\\n8.2\\n',\n",
       " '\\n8.2\\n',\n",
       " '\\n8.2\\n',\n",
       " '\\n8.2\\n',\n",
       " '\\n8.2\\n',\n",
       " '\\n8.2\\n',\n",
       " '\\n8.2\\n',\n",
       " '\\n8.2\\n',\n",
       " '\\n8.2\\n',\n",
       " '\\n8.2\\n',\n",
       " '\\n8.2\\n',\n",
       " '\\n8.2\\n',\n",
       " '\\n8.2\\n',\n",
       " '\\n8.1\\n',\n",
       " '\\n8.1\\n',\n",
       " '\\n8.1\\n',\n",
       " '\\n8.1\\n',\n",
       " '\\n8.1\\n',\n",
       " '\\n8.1\\n',\n",
       " '\\n8.1\\n',\n",
       " '\\n8.1\\n',\n",
       " '\\n8.1\\n']"
      ]
     },
     "execution_count": 406,
     "metadata": {},
     "output_type": "execute_result"
    }
   ],
   "source": [
    "soup = BeautifulSoup(page2.content)\n",
    "rate1 = []\n",
    "for i in soup.find_all('td',class_=\"ratingColumn imdbRating\"):\n",
    "    rate1.append(i.text)\n",
    "rof = rate1[:50]\n",
    "rof"
   ]
  },
  {
   "cell_type": "code",
   "execution_count": 198,
   "id": "412ca835",
   "metadata": {},
   "outputs": [
    {
     "name": "stdout",
     "output_type": "stream",
     "text": [
      "['8.6', '8.4', '8.4', '8.4', '8.4', '8.4', '8.4', '8.4', '8.4', '8.3', '8.3', '8.3', '8.3', '8.3', '8.3', '8.3', '8.3', '8.3', '8.3', '8.3', '8.3', '8.3', '8.2', '8.2', '8.2', '8.2', '8.2', '8.2', '8.2', '8.2', '8.2', '8.2', '8.2', '8.2', '8.2', '8.2', '8.2', '8.2', '8.2', '8.2', '8.2', '8.1', '8.1', '8.1', '8.1', '8.1', '8.1', '8.1', '8.1', '8.1']\n"
     ]
    }
   ],
   "source": [
    "rates = []\n",
    "for rating in rof:\n",
    "    split_rate2 = rating.split(\"\\n\")\n",
    "    rate2 = split_rate2[1]\n",
    "    rates.append(rate2)\n",
    "\n",
    "print(rates)"
   ]
  },
  {
   "cell_type": "code",
   "execution_count": 403,
   "id": "4aded759",
   "metadata": {},
   "outputs": [
    {
     "data": {
      "text/plain": [
       "['(1993)',\n",
       " '(2022)',\n",
       " '(1987)',\n",
       " '(1979)',\n",
       " '(2022)',\n",
       " '(2003)',\n",
       " '(2018)',\n",
       " '(1959)',\n",
       " '(2009)',\n",
       " '(1993)',\n",
       " '(2021)',\n",
       " '(2021)',\n",
       " '(2020)',\n",
       " '(2004)',\n",
       " '(2019)',\n",
       " '(2018)',\n",
       " '(2007)',\n",
       " '(1989)',\n",
       " '(2016)',\n",
       " '(2019)',\n",
       " '(2019)',\n",
       " '(2018)',\n",
       " '(1957)',\n",
       " '(2016)',\n",
       " '(2021)',\n",
       " '(2019)',\n",
       " '(2022)',\n",
       " '(1992)',\n",
       " '(2015)',\n",
       " '(2021)',\n",
       " '(1991)',\n",
       " '(1987)',\n",
       " '(1955)',\n",
       " '(2013)',\n",
       " '(2015)',\n",
       " '(1983)',\n",
       " '(2018)',\n",
       " '(1956)',\n",
       " '(2006)',\n",
       " '(2021)',\n",
       " '(2005)',\n",
       " '(2018)',\n",
       " '(1975)',\n",
       " '(2012)',\n",
       " '(2015)',\n",
       " '(2018)',\n",
       " '(2018)',\n",
       " '(2014)',\n",
       " '(2015)',\n",
       " '(1998)']"
      ]
     },
     "execution_count": 403,
     "metadata": {},
     "output_type": "execute_result"
    }
   ],
   "source": [
    "year1 = []\n",
    "for i in soup.find_all('span',class_=\"secondaryInfo\"):\n",
    "    year1.append(i.text)\n",
    "yor = year1[:50]\n",
    "yor"
   ]
  },
  {
   "cell_type": "code",
   "execution_count": 401,
   "id": "cef4511b",
   "metadata": {},
   "outputs": [
    {
     "data": {
      "text/html": [
       "<div>\n",
       "<style scoped>\n",
       "    .dataframe tbody tr th:only-of-type {\n",
       "        vertical-align: middle;\n",
       "    }\n",
       "\n",
       "    .dataframe tbody tr th {\n",
       "        vertical-align: top;\n",
       "    }\n",
       "\n",
       "    .dataframe thead th {\n",
       "        text-align: right;\n",
       "    }\n",
       "</style>\n",
       "<table border=\"1\" class=\"dataframe\">\n",
       "  <thead>\n",
       "    <tr style=\"text-align: right;\">\n",
       "      <th></th>\n",
       "      <th>Indian Movie Names</th>\n",
       "      <th>Rating</th>\n",
       "      <th>Year of Release</th>\n",
       "    </tr>\n",
       "  </thead>\n",
       "  <tbody>\n",
       "    <tr>\n",
       "      <th>0</th>\n",
       "      <td>Ramayana: The Legend of Prince Rama</td>\n",
       "      <td>8.6</td>\n",
       "      <td>(1993)</td>\n",
       "    </tr>\n",
       "    <tr>\n",
       "      <th>1</th>\n",
       "      <td>Rocketry: The Nambi Effect</td>\n",
       "      <td>8.4</td>\n",
       "      <td>(2022)</td>\n",
       "    </tr>\n",
       "    <tr>\n",
       "      <th>2</th>\n",
       "      <td>Nayakan</td>\n",
       "      <td>8.4</td>\n",
       "      <td>(1987)</td>\n",
       "    </tr>\n",
       "    <tr>\n",
       "      <th>3</th>\n",
       "      <td>Gol Maal</td>\n",
       "      <td>8.4</td>\n",
       "      <td>(1979)</td>\n",
       "    </tr>\n",
       "    <tr>\n",
       "      <th>4</th>\n",
       "      <td>777 Charlie</td>\n",
       "      <td>8.4</td>\n",
       "      <td>(2022)</td>\n",
       "    </tr>\n",
       "    <tr>\n",
       "      <th>5</th>\n",
       "      <td>Anbe Sivam</td>\n",
       "      <td>8.4</td>\n",
       "      <td>(2003)</td>\n",
       "    </tr>\n",
       "    <tr>\n",
       "      <th>6</th>\n",
       "      <td>Pariyerum Perumal</td>\n",
       "      <td>8.4</td>\n",
       "      <td>(2018)</td>\n",
       "    </tr>\n",
       "    <tr>\n",
       "      <th>7</th>\n",
       "      <td>Apur Sansar</td>\n",
       "      <td>8.4</td>\n",
       "      <td>(1959)</td>\n",
       "    </tr>\n",
       "    <tr>\n",
       "      <th>8</th>\n",
       "      <td>3 Idiots</td>\n",
       "      <td>8.4</td>\n",
       "      <td>(2009)</td>\n",
       "    </tr>\n",
       "    <tr>\n",
       "      <th>9</th>\n",
       "      <td>Manichitrathazhu</td>\n",
       "      <td>8.3</td>\n",
       "      <td>(1993)</td>\n",
       "    </tr>\n",
       "    <tr>\n",
       "      <th>10</th>\n",
       "      <td>Jai Bhim</td>\n",
       "      <td>8.3</td>\n",
       "      <td>(2021)</td>\n",
       "    </tr>\n",
       "    <tr>\n",
       "      <th>11</th>\n",
       "      <td>#Home</td>\n",
       "      <td>8.3</td>\n",
       "      <td>(2021)</td>\n",
       "    </tr>\n",
       "    <tr>\n",
       "      <th>12</th>\n",
       "      <td>Soorarai Pottru</td>\n",
       "      <td>8.3</td>\n",
       "      <td>(2020)</td>\n",
       "    </tr>\n",
       "    <tr>\n",
       "      <th>13</th>\n",
       "      <td>Black Friday</td>\n",
       "      <td>8.3</td>\n",
       "      <td>(2004)</td>\n",
       "    </tr>\n",
       "    <tr>\n",
       "      <th>14</th>\n",
       "      <td>Kumbalangi Nights</td>\n",
       "      <td>8.3</td>\n",
       "      <td>(2019)</td>\n",
       "    </tr>\n",
       "    <tr>\n",
       "      <th>15</th>\n",
       "      <td>C/o Kancharapalem</td>\n",
       "      <td>8.3</td>\n",
       "      <td>(2018)</td>\n",
       "    </tr>\n",
       "    <tr>\n",
       "      <th>16</th>\n",
       "      <td>Taare Zameen Par</td>\n",
       "      <td>8.3</td>\n",
       "      <td>(2007)</td>\n",
       "    </tr>\n",
       "    <tr>\n",
       "      <th>17</th>\n",
       "      <td>Kireedam</td>\n",
       "      <td>8.3</td>\n",
       "      <td>(1989)</td>\n",
       "    </tr>\n",
       "    <tr>\n",
       "      <th>18</th>\n",
       "      <td>Dangal</td>\n",
       "      <td>8.3</td>\n",
       "      <td>(2016)</td>\n",
       "    </tr>\n",
       "    <tr>\n",
       "      <th>19</th>\n",
       "      <td>Kaithi</td>\n",
       "      <td>8.3</td>\n",
       "      <td>(2019)</td>\n",
       "    </tr>\n",
       "    <tr>\n",
       "      <th>20</th>\n",
       "      <td>Jersey</td>\n",
       "      <td>8.3</td>\n",
       "      <td>(2019)</td>\n",
       "    </tr>\n",
       "    <tr>\n",
       "      <th>21</th>\n",
       "      <td>96</td>\n",
       "      <td>8.3</td>\n",
       "      <td>(2018)</td>\n",
       "    </tr>\n",
       "    <tr>\n",
       "      <th>22</th>\n",
       "      <td>Maya Bazaar</td>\n",
       "      <td>8.2</td>\n",
       "      <td>(1957)</td>\n",
       "    </tr>\n",
       "    <tr>\n",
       "      <th>23</th>\n",
       "      <td>Natsamrat</td>\n",
       "      <td>8.2</td>\n",
       "      <td>(2016)</td>\n",
       "    </tr>\n",
       "    <tr>\n",
       "      <th>24</th>\n",
       "      <td>Drishyam 2</td>\n",
       "      <td>8.2</td>\n",
       "      <td>(2021)</td>\n",
       "    </tr>\n",
       "    <tr>\n",
       "      <th>25</th>\n",
       "      <td>Asuran</td>\n",
       "      <td>8.2</td>\n",
       "      <td>(2019)</td>\n",
       "    </tr>\n",
       "    <tr>\n",
       "      <th>26</th>\n",
       "      <td>Sita Ramam</td>\n",
       "      <td>8.2</td>\n",
       "      <td>(2022)</td>\n",
       "    </tr>\n",
       "    <tr>\n",
       "      <th>27</th>\n",
       "      <td>Thevar Magan</td>\n",
       "      <td>8.2</td>\n",
       "      <td>(1992)</td>\n",
       "    </tr>\n",
       "    <tr>\n",
       "      <th>28</th>\n",
       "      <td>Visaaranai</td>\n",
       "      <td>8.2</td>\n",
       "      <td>(2015)</td>\n",
       "    </tr>\n",
       "    <tr>\n",
       "      <th>29</th>\n",
       "      <td>Sarpatta Parambarai</td>\n",
       "      <td>8.2</td>\n",
       "      <td>(2021)</td>\n",
       "    </tr>\n",
       "    <tr>\n",
       "      <th>30</th>\n",
       "      <td>Thalapathi</td>\n",
       "      <td>8.2</td>\n",
       "      <td>(1991)</td>\n",
       "    </tr>\n",
       "    <tr>\n",
       "      <th>31</th>\n",
       "      <td>Nadodikkattu</td>\n",
       "      <td>8.2</td>\n",
       "      <td>(1987)</td>\n",
       "    </tr>\n",
       "    <tr>\n",
       "      <th>32</th>\n",
       "      <td>Pather Panchali</td>\n",
       "      <td>8.2</td>\n",
       "      <td>(1955)</td>\n",
       "    </tr>\n",
       "    <tr>\n",
       "      <th>33</th>\n",
       "      <td>Drishyam</td>\n",
       "      <td>8.2</td>\n",
       "      <td>(2013)</td>\n",
       "    </tr>\n",
       "    <tr>\n",
       "      <th>34</th>\n",
       "      <td>Thani Oruvan</td>\n",
       "      <td>8.2</td>\n",
       "      <td>(2015)</td>\n",
       "    </tr>\n",
       "    <tr>\n",
       "      <th>35</th>\n",
       "      <td>Jaane Bhi Do Yaaro</td>\n",
       "      <td>8.2</td>\n",
       "      <td>(1983)</td>\n",
       "    </tr>\n",
       "    <tr>\n",
       "      <th>36</th>\n",
       "      <td>Vada Chennai</td>\n",
       "      <td>8.2</td>\n",
       "      <td>(2018)</td>\n",
       "    </tr>\n",
       "    <tr>\n",
       "      <th>37</th>\n",
       "      <td>Aparajito</td>\n",
       "      <td>8.2</td>\n",
       "      <td>(1956)</td>\n",
       "    </tr>\n",
       "    <tr>\n",
       "      <th>38</th>\n",
       "      <td>Khosla Ka Ghosla!</td>\n",
       "      <td>8.2</td>\n",
       "      <td>(2006)</td>\n",
       "    </tr>\n",
       "    <tr>\n",
       "      <th>39</th>\n",
       "      <td>Sardar Udham</td>\n",
       "      <td>8.2</td>\n",
       "      <td>(2021)</td>\n",
       "    </tr>\n",
       "    <tr>\n",
       "      <th>40</th>\n",
       "      <td>Anniyan</td>\n",
       "      <td>8.2</td>\n",
       "      <td>(2005)</td>\n",
       "    </tr>\n",
       "    <tr>\n",
       "      <th>41</th>\n",
       "      <td>Ratsasan</td>\n",
       "      <td>8.1</td>\n",
       "      <td>(2018)</td>\n",
       "    </tr>\n",
       "    <tr>\n",
       "      <th>42</th>\n",
       "      <td>Chupke Chupke</td>\n",
       "      <td>8.1</td>\n",
       "      <td>(1975)</td>\n",
       "    </tr>\n",
       "    <tr>\n",
       "      <th>43</th>\n",
       "      <td>Gangs of Wasseypur</td>\n",
       "      <td>8.1</td>\n",
       "      <td>(2012)</td>\n",
       "    </tr>\n",
       "    <tr>\n",
       "      <th>44</th>\n",
       "      <td>Drishyam</td>\n",
       "      <td>8.1</td>\n",
       "      <td>(2015)</td>\n",
       "    </tr>\n",
       "    <tr>\n",
       "      <th>45</th>\n",
       "      <td>Mahanati</td>\n",
       "      <td>8.1</td>\n",
       "      <td>(2018)</td>\n",
       "    </tr>\n",
       "    <tr>\n",
       "      <th>46</th>\n",
       "      <td>Peranbu</td>\n",
       "      <td>8.1</td>\n",
       "      <td>(2018)</td>\n",
       "    </tr>\n",
       "    <tr>\n",
       "      <th>47</th>\n",
       "      <td>Bangalore Days</td>\n",
       "      <td>8.1</td>\n",
       "      <td>(2014)</td>\n",
       "    </tr>\n",
       "    <tr>\n",
       "      <th>48</th>\n",
       "      <td>Premam</td>\n",
       "      <td>8.1</td>\n",
       "      <td>(2015)</td>\n",
       "    </tr>\n",
       "    <tr>\n",
       "      <th>49</th>\n",
       "      <td>Satya</td>\n",
       "      <td>8.1</td>\n",
       "      <td>(1998)</td>\n",
       "    </tr>\n",
       "  </tbody>\n",
       "</table>\n",
       "</div>"
      ],
      "text/plain": [
       "                           Indian Movie Names Rating Year of Release\n",
       "0         Ramayana: The Legend of Prince Rama    8.6          (1993)\n",
       "1                  Rocketry: The Nambi Effect    8.4          (2022)\n",
       "2                                     Nayakan    8.4          (1987)\n",
       "3                                    Gol Maal    8.4          (1979)\n",
       "4                                 777 Charlie    8.4          (2022)\n",
       "5                                  Anbe Sivam    8.4          (2003)\n",
       "6                           Pariyerum Perumal    8.4          (2018)\n",
       "7                                 Apur Sansar    8.4          (1959)\n",
       "8                                    3 Idiots    8.4          (2009)\n",
       "9                            Manichitrathazhu    8.3          (1993)\n",
       "10                                   Jai Bhim    8.3          (2021)\n",
       "11                                      #Home    8.3          (2021)\n",
       "12                            Soorarai Pottru    8.3          (2020)\n",
       "13                               Black Friday    8.3          (2004)\n",
       "14                          Kumbalangi Nights    8.3          (2019)\n",
       "15                          C/o Kancharapalem    8.3          (2018)\n",
       "16                           Taare Zameen Par    8.3          (2007)\n",
       "17                                   Kireedam    8.3          (1989)\n",
       "18                                     Dangal    8.3          (2016)\n",
       "19                                     Kaithi    8.3          (2019)\n",
       "20                                     Jersey    8.3          (2019)\n",
       "21                                         96    8.3          (2018)\n",
       "22                                Maya Bazaar    8.2          (1957)\n",
       "23                                  Natsamrat    8.2          (2016)\n",
       "24                                 Drishyam 2    8.2          (2021)\n",
       "25                                     Asuran    8.2          (2019)\n",
       "26                                 Sita Ramam    8.2          (2022)\n",
       "27                               Thevar Magan    8.2          (1992)\n",
       "28                                 Visaaranai    8.2          (2015)\n",
       "29                        Sarpatta Parambarai    8.2          (2021)\n",
       "30                                 Thalapathi    8.2          (1991)\n",
       "31                               Nadodikkattu    8.2          (1987)\n",
       "32                            Pather Panchali    8.2          (1955)\n",
       "33                                   Drishyam    8.2          (2013)\n",
       "34                               Thani Oruvan    8.2          (2015)\n",
       "35                         Jaane Bhi Do Yaaro    8.2          (1983)\n",
       "36                               Vada Chennai    8.2          (2018)\n",
       "37                                  Aparajito    8.2          (1956)\n",
       "38                          Khosla Ka Ghosla!    8.2          (2006)\n",
       "39                               Sardar Udham    8.2          (2021)\n",
       "40                                    Anniyan    8.2          (2005)\n",
       "41                                   Ratsasan    8.1          (2018)\n",
       "42                              Chupke Chupke    8.1          (1975)\n",
       "43                         Gangs of Wasseypur    8.1          (2012)\n",
       "44                                   Drishyam    8.1          (2015)\n",
       "45                                   Mahanati    8.1          (2018)\n",
       "46                                    Peranbu    8.1          (2018)\n",
       "47                             Bangalore Days    8.1          (2014)\n",
       "48                                     Premam    8.1          (2015)\n",
       "49                                      Satya    8.1          (1998)"
      ]
     },
     "execution_count": 401,
     "metadata": {},
     "output_type": "execute_result"
    }
   ],
   "source": [
    "df2 = pd.DataFrame({'Indian Movie Names':movie_names,'Rating':rates,'Year of Release':yor})\n",
    "df2"
   ]
  },
  {
   "cell_type": "markdown",
   "id": "c9e6e61e",
   "metadata": {},
   "source": [
    "# 4. Write s python program to display list of respected former presidents of India(i.e. Name , Term ofoffice) from https://presidentofindia.nic.in/former-presidents.htm and make data frame."
   ]
  },
  {
   "cell_type": "code",
   "execution_count": 113,
   "id": "ba4a36d7",
   "metadata": {},
   "outputs": [
    {
     "data": {
      "text/plain": [
       "<Response [200]>"
      ]
     },
     "execution_count": 113,
     "metadata": {},
     "output_type": "execute_result"
    }
   ],
   "source": [
    "p_page = requests.get('https://presidentofindia.nic.in/former-presidents.htm')\n",
    "p_page"
   ]
  },
  {
   "cell_type": "code",
   "execution_count": 120,
   "id": "3b331864",
   "metadata": {},
   "outputs": [
    {
     "data": {
      "text/plain": [
       "['\\nShri Ram Nath Kovind (birth - 1945)\\nTerm of Office: 25 July, 2017 to 25 July, 2022 \\nhttps://ramnathkovind.nic.in\\n',\n",
       " '\\nShri Pranab Mukherjee (1935-2020)\\nTerm of Office: 25 July, 2012 to 25 July, 2017 \\nhttp://pranabmukherjee.nic.in\\n',\n",
       " '\\nSmt Pratibha Devisingh Patil (birth - 1934)\\nTerm of Office: 25 July, 2007 to 25 July, 2012 \\nhttp://pratibhapatil.nic.in\\n',\n",
       " '\\nDR. A.P.J. Abdul Kalam (1931-2015)\\nTerm of Office: 25 July, 2002 to 25 July, 2007 \\nhttp://abdulkalam.nic.in\\n',\n",
       " '\\nShri K. R. Narayanan (1920 - 2005)\\nTerm of Office: 25 July, 1997 to 25 July, 2002 \\n',\n",
       " '\\nDr Shankar Dayal Sharma (1918-1999)\\nTerm of Office: 25 July, 1992 to 25 July, 1997 \\n',\n",
       " '\\nShri R Venkataraman (1910-2009)\\nTerm of Office: 25 July, 1987 to 25 July, 1992 \\n',\n",
       " '\\nGiani Zail Singh (1916-1994)\\nTerm of Office: 25 July, 1982 to 25 July, 1987 \\n',\n",
       " '\\nShri Neelam Sanjiva Reddy (1913-1996)\\nTerm of Office: 25 July, 1977 to 25 July, 1982 \\n',\n",
       " '\\nDr. Fakhruddin Ali Ahmed (1905-1977)\\nTerm of Office: 24 August, 1974 to 11 February, 1977\\n',\n",
       " '\\nShri Varahagiri Venkata Giri (1894-1980)\\nTerm of Office: 3 May, 1969 to 20 July, 1969 and 24 August, 1969 to 24 August, 1974\\n',\n",
       " '\\nDr. Zakir Husain (1897-1969)\\nTerm of Office: 13 May, 1967 to 3 May, 1969\\n',\n",
       " '\\nDr. Sarvepalli Radhakrishnan (1888-1975)\\nTerm of Office: 13 May, 1962 to 13 May, 1967\\n',\n",
       " '\\nDr. Rajendra Prasad (1884-1963) \\nTerm of Office: 26 January, 1950 to 13 May, 1962\\n']"
      ]
     },
     "execution_count": 120,
     "metadata": {},
     "output_type": "execute_result"
    }
   ],
   "source": [
    "soup = BeautifulSoup(p_page.content)\n",
    "prez = []\n",
    "for i in soup.find_all('div',class_=\"presidentListing\"):\n",
    "    prez.append(i.text)\n",
    "prez"
   ]
  },
  {
   "cell_type": "code",
   "execution_count": 139,
   "id": "eb59931e",
   "metadata": {},
   "outputs": [
    {
     "name": "stdout",
     "output_type": "stream",
     "text": [
      "['Shri Ram Nath Kovind (birth - 1945)', 'Shri Pranab Mukherjee (1935-2020)', 'Smt Pratibha Devisingh Patil (birth - 1934)', 'DR. A.P.J. Abdul Kalam (1931-2015)', 'Shri K. R. Narayanan (1920 - 2005)', 'Dr Shankar Dayal Sharma (1918-1999)', 'Shri R Venkataraman (1910-2009)', 'Giani Zail Singh (1916-1994)', 'Shri Neelam Sanjiva Reddy (1913-1996)', 'Dr. Fakhruddin Ali Ahmed (1905-1977)', 'Shri Varahagiri Venkata Giri (1894-1980)', 'Dr. Zakir Husain (1897-1969)', 'Dr. Sarvepalli Radhakrishnan (1888-1975)', 'Dr. Rajendra Prasad (1884-1963) ']\n"
     ]
    }
   ],
   "source": [
    "president_name = []\n",
    "for president in prez:\n",
    "    split_prez = president.split(\"\\n\")\n",
    "    pres_name = split_prez[1]\n",
    "    president_name.append(pres_name)\n",
    "\n",
    "print(president_name)"
   ]
  },
  {
   "cell_type": "code",
   "execution_count": 146,
   "id": "6ecbb4d6",
   "metadata": {},
   "outputs": [
    {
     "name": "stdout",
     "output_type": "stream",
     "text": [
      "['Shri Ram Nath Kovind', 'Shri Pranab Mukherjee', 'Smt Pratibha Devisingh Patil', 'DR. A.P.J. Abdul Kalam', 'Shri K. R. Narayanan', 'Dr Shankar Dayal Sharma', 'Shri R Venkataraman', 'Giani Zail Singh', 'Shri Neelam Sanjiva Reddy', 'Dr. Fakhruddin Ali Ahmed', 'Shri Varahagiri Venkata Giri', 'Dr. Zakir Husain', 'Dr. Sarvepalli Radhakrishnan', 'Dr. Rajendra Prasad']\n"
     ]
    }
   ],
   "source": [
    "names1 = []\n",
    "for item in president_name:\n",
    "#     start_index = item.find(\" \") + 1  # find the index of the space after the honorific/title\n",
    "    end_index = item.find(\"(\") - 1  # find the index of the opening bracket\n",
    "    name1 = item[:end_index]  # extract the name\n",
    "    names1.append(name1)  # add the name to the list\n",
    "print(names1)"
   ]
  },
  {
   "cell_type": "code",
   "execution_count": 140,
   "id": "e6b4f792",
   "metadata": {},
   "outputs": [
    {
     "data": {
      "text/plain": [
       "['Term of Office: 25 July, 2017 to 25 July, 2022 ',\n",
       " 'Term of Office: 25 July, 2012 to 25 July, 2017 ',\n",
       " 'Term of Office: 25 July, 2007 to 25 July, 2012 ',\n",
       " 'Term of Office: 25 July, 2002 to 25 July, 2007 ',\n",
       " 'Term of Office: 25 July, 1997 to 25 July, 2002 ',\n",
       " 'Term of Office: 25 July, 1992 to 25 July, 1997 ',\n",
       " 'Term of Office: 25 July, 1987 to 25 July, 1992 ',\n",
       " 'Term of Office: 25 July, 1982 to 25 July, 1987 ',\n",
       " 'Term of Office: 25 July, 1977 to 25 July, 1982 ',\n",
       " 'Term of Office: 24 August, 1974 to 11 February, 1977',\n",
       " 'Term of Office: 3 May, 1969 to 20 July, 1969 and 24 August, 1969 to 24 August, 1974',\n",
       " 'Term of Office: 13 May, 1967 to 3 May, 1969',\n",
       " 'Term of Office: 13 May, 1962 to 13 May, 1967',\n",
       " 'Term of Office: 26 January, 1950 to 13 May, 1962']"
      ]
     },
     "execution_count": 140,
     "metadata": {},
     "output_type": "execute_result"
    }
   ],
   "source": [
    "term = []\n",
    "for president in prez:\n",
    "    split_prez = president.split(\"\\n\")\n",
    "    pres_name = split_prez[2]\n",
    "    term.append(pres_name)\n",
    "\n",
    "term"
   ]
  },
  {
   "cell_type": "code",
   "execution_count": 141,
   "id": "e5c1878c",
   "metadata": {},
   "outputs": [
    {
     "name": "stdout",
     "output_type": "stream",
     "text": [
      "['25 July, 2017 to 25 July, 2022 ', '25 July, 2012 to 25 July, 2017 ', '25 July, 2007 to 25 July, 2012 ', '25 July, 2002 to 25 July, 2007 ', '25 July, 1997 to 25 July, 2002 ', '25 July, 1992 to 25 July, 1997 ', '25 July, 1987 to 25 July, 1992 ', '25 July, 1982 to 25 July, 1987 ', '25 July, 1977 to 25 July, 1982 ', '24 August, 1974 to 11 February, 1977', '3 May, 1969 to 20 July, 1969 and 24 August, 1969 to 24 August, 1974', '13 May, 1967 to 3 May, 1969', '13 May, 1962 to 13 May, 1967', '26 January, 1950 to 13 May, 1962']\n"
     ]
    }
   ],
   "source": [
    "terms = [s.replace('Term of Office: ', '') for s in term]\n",
    "print(terms)"
   ]
  },
  {
   "cell_type": "code",
   "execution_count": 147,
   "id": "713b2c6d",
   "metadata": {},
   "outputs": [
    {
     "data": {
      "text/html": [
       "<div>\n",
       "<style scoped>\n",
       "    .dataframe tbody tr th:only-of-type {\n",
       "        vertical-align: middle;\n",
       "    }\n",
       "\n",
       "    .dataframe tbody tr th {\n",
       "        vertical-align: top;\n",
       "    }\n",
       "\n",
       "    .dataframe thead th {\n",
       "        text-align: right;\n",
       "    }\n",
       "</style>\n",
       "<table border=\"1\" class=\"dataframe\">\n",
       "  <thead>\n",
       "    <tr style=\"text-align: right;\">\n",
       "      <th></th>\n",
       "      <th>President Name</th>\n",
       "      <th>Term of Office</th>\n",
       "    </tr>\n",
       "  </thead>\n",
       "  <tbody>\n",
       "    <tr>\n",
       "      <th>0</th>\n",
       "      <td>Shri Ram Nath Kovind</td>\n",
       "      <td>25 July, 2017 to 25 July, 2022</td>\n",
       "    </tr>\n",
       "    <tr>\n",
       "      <th>1</th>\n",
       "      <td>Shri Pranab Mukherjee</td>\n",
       "      <td>25 July, 2012 to 25 July, 2017</td>\n",
       "    </tr>\n",
       "    <tr>\n",
       "      <th>2</th>\n",
       "      <td>Smt Pratibha Devisingh Patil</td>\n",
       "      <td>25 July, 2007 to 25 July, 2012</td>\n",
       "    </tr>\n",
       "    <tr>\n",
       "      <th>3</th>\n",
       "      <td>DR. A.P.J. Abdul Kalam</td>\n",
       "      <td>25 July, 2002 to 25 July, 2007</td>\n",
       "    </tr>\n",
       "    <tr>\n",
       "      <th>4</th>\n",
       "      <td>Shri K. R. Narayanan</td>\n",
       "      <td>25 July, 1997 to 25 July, 2002</td>\n",
       "    </tr>\n",
       "    <tr>\n",
       "      <th>5</th>\n",
       "      <td>Dr Shankar Dayal Sharma</td>\n",
       "      <td>25 July, 1992 to 25 July, 1997</td>\n",
       "    </tr>\n",
       "    <tr>\n",
       "      <th>6</th>\n",
       "      <td>Shri R Venkataraman</td>\n",
       "      <td>25 July, 1987 to 25 July, 1992</td>\n",
       "    </tr>\n",
       "    <tr>\n",
       "      <th>7</th>\n",
       "      <td>Giani Zail Singh</td>\n",
       "      <td>25 July, 1982 to 25 July, 1987</td>\n",
       "    </tr>\n",
       "    <tr>\n",
       "      <th>8</th>\n",
       "      <td>Shri Neelam Sanjiva Reddy</td>\n",
       "      <td>25 July, 1977 to 25 July, 1982</td>\n",
       "    </tr>\n",
       "    <tr>\n",
       "      <th>9</th>\n",
       "      <td>Dr. Fakhruddin Ali Ahmed</td>\n",
       "      <td>24 August, 1974 to 11 February, 1977</td>\n",
       "    </tr>\n",
       "    <tr>\n",
       "      <th>10</th>\n",
       "      <td>Shri Varahagiri Venkata Giri</td>\n",
       "      <td>3 May, 1969 to 20 July, 1969 and 24 August, 19...</td>\n",
       "    </tr>\n",
       "    <tr>\n",
       "      <th>11</th>\n",
       "      <td>Dr. Zakir Husain</td>\n",
       "      <td>13 May, 1967 to 3 May, 1969</td>\n",
       "    </tr>\n",
       "    <tr>\n",
       "      <th>12</th>\n",
       "      <td>Dr. Sarvepalli Radhakrishnan</td>\n",
       "      <td>13 May, 1962 to 13 May, 1967</td>\n",
       "    </tr>\n",
       "    <tr>\n",
       "      <th>13</th>\n",
       "      <td>Dr. Rajendra Prasad</td>\n",
       "      <td>26 January, 1950 to 13 May, 1962</td>\n",
       "    </tr>\n",
       "  </tbody>\n",
       "</table>\n",
       "</div>"
      ],
      "text/plain": [
       "                  President Name  \\\n",
       "0           Shri Ram Nath Kovind   \n",
       "1          Shri Pranab Mukherjee   \n",
       "2   Smt Pratibha Devisingh Patil   \n",
       "3         DR. A.P.J. Abdul Kalam   \n",
       "4           Shri K. R. Narayanan   \n",
       "5        Dr Shankar Dayal Sharma   \n",
       "6            Shri R Venkataraman   \n",
       "7               Giani Zail Singh   \n",
       "8      Shri Neelam Sanjiva Reddy   \n",
       "9       Dr. Fakhruddin Ali Ahmed   \n",
       "10  Shri Varahagiri Venkata Giri   \n",
       "11              Dr. Zakir Husain   \n",
       "12  Dr. Sarvepalli Radhakrishnan   \n",
       "13           Dr. Rajendra Prasad   \n",
       "\n",
       "                                       Term of Office  \n",
       "0                     25 July, 2017 to 25 July, 2022   \n",
       "1                     25 July, 2012 to 25 July, 2017   \n",
       "2                     25 July, 2007 to 25 July, 2012   \n",
       "3                     25 July, 2002 to 25 July, 2007   \n",
       "4                     25 July, 1997 to 25 July, 2002   \n",
       "5                     25 July, 1992 to 25 July, 1997   \n",
       "6                     25 July, 1987 to 25 July, 1992   \n",
       "7                     25 July, 1982 to 25 July, 1987   \n",
       "8                     25 July, 1977 to 25 July, 1982   \n",
       "9                24 August, 1974 to 11 February, 1977  \n",
       "10  3 May, 1969 to 20 July, 1969 and 24 August, 19...  \n",
       "11                        13 May, 1967 to 3 May, 1969  \n",
       "12                       13 May, 1962 to 13 May, 1967  \n",
       "13                   26 January, 1950 to 13 May, 1962  "
      ]
     },
     "execution_count": 147,
     "metadata": {},
     "output_type": "execute_result"
    }
   ],
   "source": [
    "df3 = pd.DataFrame({'President Name':names1,'Term of Office':terms})\n",
    "df3"
   ]
  },
  {
   "cell_type": "markdown",
   "id": "f2b78b16",
   "metadata": {},
   "source": [
    "# 5. Write a python program to scrape cricket rankings from icc-cricket.com. You have to scrape and make data frame\n",
    "a) Top 10 ODI teams in men’s cricket along with the records for matches, points and rating."
   ]
  },
  {
   "cell_type": "code",
   "execution_count": 148,
   "id": "febbcf35",
   "metadata": {},
   "outputs": [
    {
     "data": {
      "text/plain": [
       "<Response [200]>"
      ]
     },
     "execution_count": 148,
     "metadata": {},
     "output_type": "execute_result"
    }
   ],
   "source": [
    "icc_page = requests.get('https://www.icc-cricket.com/rankings/mens/team-rankings/odi')\n",
    "icc_page"
   ]
  },
  {
   "cell_type": "code",
   "execution_count": 158,
   "id": "b989dab5",
   "metadata": {},
   "outputs": [
    {
     "data": {
      "text/plain": [
       "['Australia',\n",
       " 'New Zealand',\n",
       " 'India',\n",
       " 'England',\n",
       " 'Pakistan',\n",
       " 'South Africa',\n",
       " 'Bangladesh',\n",
       " 'Sri Lanka',\n",
       " 'West Indies',\n",
       " 'Afghanistan']"
      ]
     },
     "execution_count": 158,
     "metadata": {},
     "output_type": "execute_result"
    }
   ],
   "source": [
    "soup = BeautifulSoup(icc_page.content)\n",
    "team = []\n",
    "for i in soup.find_all('span',class_=\"u-hide-phablet\"):\n",
    "    team.append(i.text)\n",
    "\n",
    "team\n",
    "teams = team[:10]\n",
    "teams"
   ]
  },
  {
   "cell_type": "code",
   "execution_count": 405,
   "id": "432c38d3",
   "metadata": {},
   "outputs": [
    {
     "data": {
      "text/plain": [
       "['35']"
      ]
     },
     "execution_count": 405,
     "metadata": {},
     "output_type": "execute_result"
    }
   ],
   "source": [
    "soup = BeautifulSoup(icc_page.content)\n",
    "m1 = []\n",
    "for i in soup.find_all('td',class_=\"rankings-block__banner--matches\"):\n",
    "    m1.append(i.text)\n",
    "\n",
    "m1"
   ]
  },
  {
   "cell_type": "code",
   "execution_count": 155,
   "id": "4128e00e",
   "metadata": {},
   "outputs": [
    {
     "data": {
      "text/plain": [
       "['3,965']"
      ]
     },
     "execution_count": 155,
     "metadata": {},
     "output_type": "execute_result"
    }
   ],
   "source": [
    "soup = BeautifulSoup(icc_page.content)\n",
    "p1 = []\n",
    "for i in soup.find_all('td',class_=\"rankings-block__banner--points\"):\n",
    "    p1.append(i.text)\n",
    "\n",
    "p1"
   ]
  },
  {
   "cell_type": "code",
   "execution_count": 156,
   "id": "3414b699",
   "metadata": {},
   "outputs": [
    {
     "data": {
      "text/plain": [
       "['\\n                            113\\n                            \\n\\n']"
      ]
     },
     "execution_count": 156,
     "metadata": {},
     "output_type": "execute_result"
    }
   ],
   "source": [
    "soup = BeautifulSoup(icc_page.content)\n",
    "r1 = []\n",
    "for i in soup.find_all('td',class_=\"rankings-block__banner--rating u-text-right\"):\n",
    "    r1.append(i.text)\n",
    "\n",
    "r1"
   ]
  },
  {
   "cell_type": "code",
   "execution_count": 172,
   "id": "bc28b1c0",
   "metadata": {},
   "outputs": [
    {
     "data": {
      "text/plain": [
       "['113']"
      ]
     },
     "execution_count": 172,
     "metadata": {},
     "output_type": "execute_result"
    }
   ],
   "source": [
    "r_1 = []\n",
    "for rating in r1:\n",
    "    split_r = rating.split(\"\\n\")\n",
    "    rate = split_r[1]\n",
    "    r_1.append(rate)\n",
    "\n",
    "r_1 = [elem.strip() for elem in r_1]\n",
    "r_1"
   ]
  },
  {
   "cell_type": "code",
   "execution_count": 166,
   "id": "0e981cc9",
   "metadata": {},
   "outputs": [
    {
     "data": {
      "text/plain": [
       "['31',\n",
       " '3,504',\n",
       " '47',\n",
       " '5,294',\n",
       " '36',\n",
       " '3,988',\n",
       " '25',\n",
       " '2,649',\n",
       " '31',\n",
       " '3,141',\n",
       " '38',\n",
       " '3,625',\n",
       " '36',\n",
       " '3,099',\n",
       " '43',\n",
       " '3,105',\n",
       " '20',\n",
       " '1,419']"
      ]
     },
     "execution_count": 166,
     "metadata": {},
     "output_type": "execute_result"
    }
   ],
   "source": [
    "soup = BeautifulSoup(icc_page.content)\n",
    "m2 = []\n",
    "for i in soup.find_all('td',class_=\"table-body__cell u-center-text\"):\n",
    "    m2.append(i.text)\n",
    "\n",
    "m2\n",
    "m3 = m2[:18]\n",
    "m3"
   ]
  },
  {
   "cell_type": "code",
   "execution_count": 167,
   "id": "7d985feb",
   "metadata": {},
   "outputs": [
    {
     "data": {
      "text/plain": [
       "['31', '47', '36', '25', '31', '38', '36', '43', '20']"
      ]
     },
     "execution_count": 167,
     "metadata": {},
     "output_type": "execute_result"
    }
   ],
   "source": [
    "m4 = [m3[i] for i in range(len(m3)) if i % 2 == 0]\n",
    "m4"
   ]
  },
  {
   "cell_type": "code",
   "execution_count": 174,
   "id": "8fa73f63",
   "metadata": {},
   "outputs": [
    {
     "data": {
      "text/plain": [
       "['35', '31', '47', '36', '25', '31', '38', '36', '43', '20']"
      ]
     },
     "execution_count": 174,
     "metadata": {},
     "output_type": "execute_result"
    }
   ],
   "source": [
    "m5 = m1 + m4\n",
    "m5"
   ]
  },
  {
   "cell_type": "code",
   "execution_count": 177,
   "id": "75f43344",
   "metadata": {},
   "outputs": [
    {
     "data": {
      "text/plain": [
       "['3,504',\n",
       " '5,294',\n",
       " '3,988',\n",
       " '2,649',\n",
       " '3,141',\n",
       " '3,625',\n",
       " '3,099',\n",
       " '3,105',\n",
       " '1,419']"
      ]
     },
     "execution_count": 177,
     "metadata": {},
     "output_type": "execute_result"
    }
   ],
   "source": [
    "p2 = [m3[i] for i in range(len(m3)) if i % 2 == 1]\n",
    "p2"
   ]
  },
  {
   "cell_type": "code",
   "execution_count": 178,
   "id": "995ff759",
   "metadata": {},
   "outputs": [
    {
     "data": {
      "text/plain": [
       "['3,965',\n",
       " '3,504',\n",
       " '5,294',\n",
       " '3,988',\n",
       " '2,649',\n",
       " '3,141',\n",
       " '3,625',\n",
       " '3,099',\n",
       " '3,105',\n",
       " '1,419']"
      ]
     },
     "execution_count": 178,
     "metadata": {},
     "output_type": "execute_result"
    }
   ],
   "source": [
    "p3 = p1 + p2\n",
    "p3"
   ]
  },
  {
   "cell_type": "code",
   "execution_count": 170,
   "id": "d6f29f14",
   "metadata": {},
   "outputs": [
    {
     "data": {
      "text/plain": [
       "['113', '113', '111', '106', '101', '95', '86', '72', '71']"
      ]
     },
     "execution_count": 170,
     "metadata": {},
     "output_type": "execute_result"
    }
   ],
   "source": [
    "soup = BeautifulSoup(icc_page.content)\n",
    "r_2 = []\n",
    "for i in soup.find_all('td',class_=\"table-body__cell u-text-right rating\"):\n",
    "    r_2.append(i.text)\n",
    "\n",
    "r_2\n",
    "r_3 = r_2[:9]\n",
    "r_3"
   ]
  },
  {
   "cell_type": "code",
   "execution_count": 173,
   "id": "705f0c9f",
   "metadata": {},
   "outputs": [
    {
     "data": {
      "text/plain": [
       "['113', '113', '113', '111', '106', '101', '95', '86', '72', '71']"
      ]
     },
     "execution_count": 173,
     "metadata": {},
     "output_type": "execute_result"
    }
   ],
   "source": [
    "r_4 = r_1 + r_3\n",
    "r_4"
   ]
  },
  {
   "cell_type": "code",
   "execution_count": 180,
   "id": "f435dc92",
   "metadata": {},
   "outputs": [
    {
     "data": {
      "text/html": [
       "<div>\n",
       "<style scoped>\n",
       "    .dataframe tbody tr th:only-of-type {\n",
       "        vertical-align: middle;\n",
       "    }\n",
       "\n",
       "    .dataframe tbody tr th {\n",
       "        vertical-align: top;\n",
       "    }\n",
       "\n",
       "    .dataframe thead th {\n",
       "        text-align: right;\n",
       "    }\n",
       "</style>\n",
       "<table border=\"1\" class=\"dataframe\">\n",
       "  <thead>\n",
       "    <tr style=\"text-align: right;\">\n",
       "      <th></th>\n",
       "      <th>TEAM</th>\n",
       "      <th>MATCHES</th>\n",
       "      <th>POINTS</th>\n",
       "      <th>RATING</th>\n",
       "    </tr>\n",
       "  </thead>\n",
       "  <tbody>\n",
       "    <tr>\n",
       "      <th>0</th>\n",
       "      <td>Australia</td>\n",
       "      <td>35</td>\n",
       "      <td>3,965</td>\n",
       "      <td>113</td>\n",
       "    </tr>\n",
       "    <tr>\n",
       "      <th>1</th>\n",
       "      <td>New Zealand</td>\n",
       "      <td>31</td>\n",
       "      <td>3,504</td>\n",
       "      <td>113</td>\n",
       "    </tr>\n",
       "    <tr>\n",
       "      <th>2</th>\n",
       "      <td>India</td>\n",
       "      <td>47</td>\n",
       "      <td>5,294</td>\n",
       "      <td>113</td>\n",
       "    </tr>\n",
       "    <tr>\n",
       "      <th>3</th>\n",
       "      <td>England</td>\n",
       "      <td>36</td>\n",
       "      <td>3,988</td>\n",
       "      <td>111</td>\n",
       "    </tr>\n",
       "    <tr>\n",
       "      <th>4</th>\n",
       "      <td>Pakistan</td>\n",
       "      <td>25</td>\n",
       "      <td>2,649</td>\n",
       "      <td>106</td>\n",
       "    </tr>\n",
       "    <tr>\n",
       "      <th>5</th>\n",
       "      <td>South Africa</td>\n",
       "      <td>31</td>\n",
       "      <td>3,141</td>\n",
       "      <td>101</td>\n",
       "    </tr>\n",
       "    <tr>\n",
       "      <th>6</th>\n",
       "      <td>Bangladesh</td>\n",
       "      <td>38</td>\n",
       "      <td>3,625</td>\n",
       "      <td>95</td>\n",
       "    </tr>\n",
       "    <tr>\n",
       "      <th>7</th>\n",
       "      <td>Sri Lanka</td>\n",
       "      <td>36</td>\n",
       "      <td>3,099</td>\n",
       "      <td>86</td>\n",
       "    </tr>\n",
       "    <tr>\n",
       "      <th>8</th>\n",
       "      <td>West Indies</td>\n",
       "      <td>43</td>\n",
       "      <td>3,105</td>\n",
       "      <td>72</td>\n",
       "    </tr>\n",
       "    <tr>\n",
       "      <th>9</th>\n",
       "      <td>Afghanistan</td>\n",
       "      <td>20</td>\n",
       "      <td>1,419</td>\n",
       "      <td>71</td>\n",
       "    </tr>\n",
       "  </tbody>\n",
       "</table>\n",
       "</div>"
      ],
      "text/plain": [
       "           TEAM MATCHES POINTS RATING\n",
       "0     Australia      35  3,965    113\n",
       "1   New Zealand      31  3,504    113\n",
       "2         India      47  5,294    113\n",
       "3       England      36  3,988    111\n",
       "4      Pakistan      25  2,649    106\n",
       "5  South Africa      31  3,141    101\n",
       "6    Bangladesh      38  3,625     95\n",
       "7     Sri Lanka      36  3,099     86\n",
       "8   West Indies      43  3,105     72\n",
       "9   Afghanistan      20  1,419     71"
      ]
     },
     "execution_count": 180,
     "metadata": {},
     "output_type": "execute_result"
    }
   ],
   "source": [
    "df4 = pd.DataFrame({'TEAM':teams,'MATCHES':m5,'POINTS':p3,'RATING':r_4})\n",
    "df4"
   ]
  },
  {
   "cell_type": "markdown",
   "id": "3d4ec367",
   "metadata": {},
   "source": [
    "# 5.\n",
    "b)Top 10 ODI Batsmen along with the records of their team andrating."
   ]
  },
  {
   "cell_type": "code",
   "execution_count": 200,
   "id": "7e5e30b5",
   "metadata": {},
   "outputs": [
    {
     "data": {
      "text/plain": [
       "<Response [200]>"
      ]
     },
     "execution_count": 200,
     "metadata": {},
     "output_type": "execute_result"
    }
   ],
   "source": [
    "icc_batsman = requests.get('https://www.icc-cricket.com/rankings/mens/player-rankings/odi')\n",
    "icc_batsman"
   ]
  },
  {
   "cell_type": "code",
   "execution_count": 225,
   "id": "01cf6c74",
   "metadata": {},
   "outputs": [
    {
     "data": {
      "text/plain": [
       "['Babar Azam']"
      ]
     },
     "execution_count": 225,
     "metadata": {},
     "output_type": "execute_result"
    }
   ],
   "source": [
    "soup = BeautifulSoup(icc_batsman.content)\n",
    "p_name = []\n",
    "for i in soup.find_all('div',class_=\"rankings-block__banner--name\"):\n",
    "    p_name.append(i.text)\n",
    "\n",
    "p_name\n",
    "p_name11 = p_name[:1]\n",
    "p_name11"
   ]
  },
  {
   "cell_type": "code",
   "execution_count": 216,
   "id": "8212f3ae",
   "metadata": {},
   "outputs": [
    {
     "data": {
      "text/plain": [
       "'PAK'"
      ]
     },
     "execution_count": 216,
     "metadata": {},
     "output_type": "execute_result"
    }
   ],
   "source": [
    "soup = BeautifulSoup(icc_batsman.content)\n",
    "p_country = []\n",
    "for i in soup.find_all('div',class_=\"rankings-block__banner--nationality\"):\n",
    "    p_country.append(i.text)\n",
    "\n",
    "p_country\n",
    "p_countrys = p_country[:1]\n",
    "nation = p_countrys[0].strip().split()[0]\n",
    "nation"
   ]
  },
  {
   "cell_type": "code",
   "execution_count": 217,
   "id": "e0697634",
   "metadata": {},
   "outputs": [
    {
     "data": {
      "text/plain": [
       "'887'"
      ]
     },
     "execution_count": 217,
     "metadata": {},
     "output_type": "execute_result"
    }
   ],
   "source": [
    "p_rating = p_countrys[0].strip().split()[1]\n",
    "p_rating"
   ]
  },
  {
   "cell_type": "code",
   "execution_count": 220,
   "id": "d0c51048",
   "metadata": {},
   "outputs": [
    {
     "data": {
      "text/plain": [
       "['\\nRassie van der Dussen\\n',\n",
       " '\\nImam-ul-Haq\\n',\n",
       " '\\nShubman Gill\\n',\n",
       " '\\nDavid Warner\\n',\n",
       " '\\nVirat Kohli\\n',\n",
       " '\\nQuinton de Kock\\n',\n",
       " '\\nRohit Sharma\\n',\n",
       " '\\nSteve Smith\\n',\n",
       " '\\nFakhar Zaman\\n']"
      ]
     },
     "execution_count": 220,
     "metadata": {},
     "output_type": "execute_result"
    }
   ],
   "source": [
    "soup = BeautifulSoup(icc_batsman.content)\n",
    "p_name1 = []\n",
    "for i in soup.find_all('td',class_=\"table-body__cell name\"):\n",
    "    p_name1.append(i.text)\n",
    "\n",
    "p_name1\n",
    "p_name2 = p_name1[:9]\n",
    "p_name2"
   ]
  },
  {
   "cell_type": "code",
   "execution_count": 221,
   "id": "d2d9176f",
   "metadata": {},
   "outputs": [
    {
     "name": "stdout",
     "output_type": "stream",
     "text": [
      "['Rassie van der Dussen', 'Imam-ul-Haq', 'Shubman Gill', 'David Warner', 'Virat Kohli', 'Quinton de Kock', 'Rohit Sharma', 'Steve Smith', 'Fakhar Zaman']\n"
     ]
    }
   ],
   "source": [
    "p_name3 = []\n",
    "for players in p_name2:\n",
    "    split_p_name2 = players.split(\"\\n\")\n",
    "    players_name = split_p_name2[1]\n",
    "    p_name3.append(players_name)\n",
    "\n",
    "print(p_name3)"
   ]
  },
  {
   "cell_type": "code",
   "execution_count": 226,
   "id": "76235bea",
   "metadata": {},
   "outputs": [
    {
     "data": {
      "text/plain": [
       "['Babar Azam',\n",
       " 'Rassie van der Dussen',\n",
       " 'Imam-ul-Haq',\n",
       " 'Shubman Gill',\n",
       " 'David Warner',\n",
       " 'Virat Kohli',\n",
       " 'Quinton de Kock',\n",
       " 'Rohit Sharma',\n",
       " 'Steve Smith',\n",
       " 'Fakhar Zaman']"
      ]
     },
     "execution_count": 226,
     "metadata": {},
     "output_type": "execute_result"
    }
   ],
   "source": [
    "players = p_name11 + p_name3\n",
    "players"
   ]
  },
  {
   "cell_type": "code",
   "execution_count": 241,
   "id": "4e4637c6",
   "metadata": {},
   "outputs": [
    {
     "data": {
      "text/plain": [
       "['SA', 'PAK', 'IND', 'AUS', 'IND', 'SA', 'IND', 'AUS', 'PAK']"
      ]
     },
     "execution_count": 241,
     "metadata": {},
     "output_type": "execute_result"
    }
   ],
   "source": [
    "soup = BeautifulSoup(icc_batsman.content)\n",
    "country = []\n",
    "for i in soup.find_all('span',class_=\"table-body__logo-text\"):\n",
    "    country.append(i.text)\n",
    "\n",
    "country\n",
    "p_country = country[:9]\n",
    "p_country"
   ]
  },
  {
   "cell_type": "code",
   "execution_count": 242,
   "id": "0108238e",
   "metadata": {},
   "outputs": [
    {
     "name": "stdout",
     "output_type": "stream",
     "text": [
      "['PAK', 'SA', 'PAK', 'IND', 'AUS', 'IND', 'SA', 'IND', 'AUS', 'PAK']\n"
     ]
    }
   ],
   "source": [
    "p_country.insert(0, 'PAK')\n",
    "print(p_country)"
   ]
  },
  {
   "cell_type": "code",
   "execution_count": 245,
   "id": "962c8f97",
   "metadata": {},
   "outputs": [
    {
     "data": {
      "text/plain": [
       "['777', '740', '738', '726', '719', '718', '707', '702', '699']"
      ]
     },
     "execution_count": 245,
     "metadata": {},
     "output_type": "execute_result"
    }
   ],
   "source": [
    "soup = BeautifulSoup(icc_batsman.content)\n",
    "rating21 = []\n",
    "for i in soup.find_all('td',class_=\"table-body__cell u-text-right rating\"):\n",
    "    rating21.append(i.text)\n",
    "\n",
    "rating21\n",
    "rating22 = rating21[:9]\n",
    "rating22"
   ]
  },
  {
   "cell_type": "code",
   "execution_count": 246,
   "id": "a2b4b25b",
   "metadata": {},
   "outputs": [
    {
     "name": "stdout",
     "output_type": "stream",
     "text": [
      "['887', '777', '740', '738', '726', '719', '718', '707', '702', '699']\n"
     ]
    }
   ],
   "source": [
    "rating22.insert(0, '887')\n",
    "print(rating22)"
   ]
  },
  {
   "cell_type": "code",
   "execution_count": 248,
   "id": "5c235300",
   "metadata": {},
   "outputs": [
    {
     "data": {
      "text/html": [
       "<div>\n",
       "<style scoped>\n",
       "    .dataframe tbody tr th:only-of-type {\n",
       "        vertical-align: middle;\n",
       "    }\n",
       "\n",
       "    .dataframe tbody tr th {\n",
       "        vertical-align: top;\n",
       "    }\n",
       "\n",
       "    .dataframe thead th {\n",
       "        text-align: right;\n",
       "    }\n",
       "</style>\n",
       "<table border=\"1\" class=\"dataframe\">\n",
       "  <thead>\n",
       "    <tr style=\"text-align: right;\">\n",
       "      <th></th>\n",
       "      <th>PLAYER</th>\n",
       "      <th>TEAM</th>\n",
       "      <th>RATING</th>\n",
       "    </tr>\n",
       "  </thead>\n",
       "  <tbody>\n",
       "    <tr>\n",
       "      <th>0</th>\n",
       "      <td>Babar Azam</td>\n",
       "      <td>PAK</td>\n",
       "      <td>887</td>\n",
       "    </tr>\n",
       "    <tr>\n",
       "      <th>1</th>\n",
       "      <td>Rassie van der Dussen</td>\n",
       "      <td>SA</td>\n",
       "      <td>777</td>\n",
       "    </tr>\n",
       "    <tr>\n",
       "      <th>2</th>\n",
       "      <td>Imam-ul-Haq</td>\n",
       "      <td>PAK</td>\n",
       "      <td>740</td>\n",
       "    </tr>\n",
       "    <tr>\n",
       "      <th>3</th>\n",
       "      <td>Shubman Gill</td>\n",
       "      <td>IND</td>\n",
       "      <td>738</td>\n",
       "    </tr>\n",
       "    <tr>\n",
       "      <th>4</th>\n",
       "      <td>David Warner</td>\n",
       "      <td>AUS</td>\n",
       "      <td>726</td>\n",
       "    </tr>\n",
       "    <tr>\n",
       "      <th>5</th>\n",
       "      <td>Virat Kohli</td>\n",
       "      <td>IND</td>\n",
       "      <td>719</td>\n",
       "    </tr>\n",
       "    <tr>\n",
       "      <th>6</th>\n",
       "      <td>Quinton de Kock</td>\n",
       "      <td>SA</td>\n",
       "      <td>718</td>\n",
       "    </tr>\n",
       "    <tr>\n",
       "      <th>7</th>\n",
       "      <td>Rohit Sharma</td>\n",
       "      <td>IND</td>\n",
       "      <td>707</td>\n",
       "    </tr>\n",
       "    <tr>\n",
       "      <th>8</th>\n",
       "      <td>Steve Smith</td>\n",
       "      <td>AUS</td>\n",
       "      <td>702</td>\n",
       "    </tr>\n",
       "    <tr>\n",
       "      <th>9</th>\n",
       "      <td>Fakhar Zaman</td>\n",
       "      <td>PAK</td>\n",
       "      <td>699</td>\n",
       "    </tr>\n",
       "  </tbody>\n",
       "</table>\n",
       "</div>"
      ],
      "text/plain": [
       "                  PLAYER TEAM RATING\n",
       "0             Babar Azam  PAK    887\n",
       "1  Rassie van der Dussen   SA    777\n",
       "2            Imam-ul-Haq  PAK    740\n",
       "3           Shubman Gill  IND    738\n",
       "4           David Warner  AUS    726\n",
       "5            Virat Kohli  IND    719\n",
       "6        Quinton de Kock   SA    718\n",
       "7           Rohit Sharma  IND    707\n",
       "8            Steve Smith  AUS    702\n",
       "9           Fakhar Zaman  PAK    699"
      ]
     },
     "execution_count": 248,
     "metadata": {},
     "output_type": "execute_result"
    }
   ],
   "source": [
    "df5 = pd.DataFrame({'PLAYER':players,'TEAM':p_country,'RATING':rating22})\n",
    "df5"
   ]
  },
  {
   "cell_type": "markdown",
   "id": "3aa44933",
   "metadata": {},
   "source": [
    "# 5.\n",
    "c) Top 10 ODI bowlers along with the records of their team and rating."
   ]
  },
  {
   "cell_type": "code",
   "execution_count": 249,
   "id": "15dd39b0",
   "metadata": {},
   "outputs": [
    {
     "data": {
      "text/plain": [
       "['Josh Hazlewood']"
      ]
     },
     "execution_count": 249,
     "metadata": {},
     "output_type": "execute_result"
    }
   ],
   "source": [
    "soup = BeautifulSoup(icc_batsman.content)\n",
    "p_name = []\n",
    "for i in soup.find_all('div',class_=\"rankings-block__banner--name\"):\n",
    "    p_name.append(i.text)\n",
    "\n",
    "p_name\n",
    "p_name22 = p_name[1:2]\n",
    "p_name22"
   ]
  },
  {
   "cell_type": "code",
   "execution_count": null,
   "id": "5cd88c9c",
   "metadata": {},
   "outputs": [],
   "source": [
    "soup = BeautifulSoup(icc_batsman.content)\n",
    "p_country1 = []\n",
    "for i in soup.find_all('div',class_=\"rankings-block__banner--nationality\"):\n",
    "    p_country1.append(i.text)\n",
    "\n",
    "p_country1\n",
    "p_country2 = p_country1[1:2]\n",
    "p_country2\n",
    "p_country3 = p_country2[0].strip().split()[0]\n",
    "p_country3"
   ]
  },
  {
   "cell_type": "code",
   "execution_count": 263,
   "id": "4883bf4d",
   "metadata": {},
   "outputs": [
    {
     "data": {
      "text/plain": [
       "'705'"
      ]
     },
     "execution_count": 263,
     "metadata": {},
     "output_type": "execute_result"
    }
   ],
   "source": [
    "p_rating2 = p_country2[0].strip().split()[1]\n",
    "p_rating2"
   ]
  },
  {
   "cell_type": "code",
   "execution_count": 269,
   "id": "d6a8d634",
   "metadata": {},
   "outputs": [
    {
     "data": {
      "text/plain": [
       "['\\nTrent Boult\\n',\n",
       " '\\nMohammed Siraj\\n',\n",
       " '\\nMitchell Starc\\n',\n",
       " '\\nMatt Henry\\n',\n",
       " '\\nRashid Khan\\n',\n",
       " '\\nAdam Zampa\\n',\n",
       " '\\nShaheen Afridi\\n',\n",
       " '\\nMujeeb Ur Rahman\\n',\n",
       " '\\nShakib Al Hasan\\n']"
      ]
     },
     "execution_count": 269,
     "metadata": {},
     "output_type": "execute_result"
    }
   ],
   "source": [
    "soup = BeautifulSoup(icc_batsman.content)\n",
    "p_name23 = []\n",
    "for i in soup.find_all('td',class_=\"table-body__cell name\"):\n",
    "    p_name23.append(i.text)\n",
    "\n",
    "p_name23\n",
    "p_name24 = p_name23[9:18]\n",
    "p_name24"
   ]
  },
  {
   "cell_type": "code",
   "execution_count": 276,
   "id": "7e11685d",
   "metadata": {},
   "outputs": [
    {
     "name": "stdout",
     "output_type": "stream",
     "text": [
      "['Trent Boult', 'Mohammed Siraj', 'Mitchell Starc', 'Matt Henry', 'Rashid Khan', 'Adam Zampa', 'Shaheen Afridi', 'Mujeeb Ur Rahman', 'Shakib Al Hasan']\n"
     ]
    }
   ],
   "source": [
    "p_name25 = []\n",
    "for players in p_name24:\n",
    "    split_p_name24 = players.split(\"\\n\")\n",
    "    players_name = split_p_name24[1]\n",
    "    p_name25.append(players_name)\n",
    "\n",
    "print(p_name25)"
   ]
  },
  {
   "cell_type": "code",
   "execution_count": 277,
   "id": "5708985b",
   "metadata": {},
   "outputs": [
    {
     "data": {
      "text/plain": [
       "['Josh Hazlewood',\n",
       " 'Trent Boult',\n",
       " 'Mohammed Siraj',\n",
       " 'Mitchell Starc',\n",
       " 'Matt Henry',\n",
       " 'Rashid Khan',\n",
       " 'Adam Zampa',\n",
       " 'Shaheen Afridi',\n",
       " 'Mujeeb Ur Rahman',\n",
       " 'Shakib Al Hasan']"
      ]
     },
     "execution_count": 277,
     "metadata": {},
     "output_type": "execute_result"
    }
   ],
   "source": [
    "p_name26 = p_name22 + p_name25\n",
    "p_name26"
   ]
  },
  {
   "cell_type": "code",
   "execution_count": 270,
   "id": "b60ac87f",
   "metadata": {},
   "outputs": [
    {
     "data": {
      "text/plain": [
       "['NZ', 'IND', 'AUS', 'NZ', 'AFG', 'AUS', 'PAK', 'AFG', 'BAN']"
      ]
     },
     "execution_count": 270,
     "metadata": {},
     "output_type": "execute_result"
    }
   ],
   "source": [
    "country\n",
    "p_country24 = country[9:18]\n",
    "p_country24"
   ]
  },
  {
   "cell_type": "code",
   "execution_count": 278,
   "id": "658d904a",
   "metadata": {},
   "outputs": [
    {
     "name": "stdout",
     "output_type": "stream",
     "text": [
      "['AUS', 'NZ', 'IND', 'AUS', 'NZ', 'AFG', 'AUS', 'PAK', 'AFG', 'BAN']\n"
     ]
    }
   ],
   "source": [
    "p_country24.insert(0, 'AUS')\n",
    "print(p_country24)"
   ]
  },
  {
   "cell_type": "code",
   "execution_count": 282,
   "id": "452d7a84",
   "metadata": {},
   "outputs": [
    {
     "data": {
      "text/plain": [
       "['694', '691', '686', '676', '659', '652', '641', '637', '636']"
      ]
     },
     "execution_count": 282,
     "metadata": {},
     "output_type": "execute_result"
    }
   ],
   "source": [
    "rating21\n",
    "rating24 = rating21[9:18]\n",
    "rating24"
   ]
  },
  {
   "cell_type": "code",
   "execution_count": 283,
   "id": "f9039fc4",
   "metadata": {},
   "outputs": [
    {
     "name": "stdout",
     "output_type": "stream",
     "text": [
      "['705', '694', '691', '686', '676', '659', '652', '641', '637', '636']\n"
     ]
    }
   ],
   "source": [
    "rating24.insert(0, '705')\n",
    "print(rating24)"
   ]
  },
  {
   "cell_type": "code",
   "execution_count": 284,
   "id": "1c64154b",
   "metadata": {},
   "outputs": [
    {
     "data": {
      "text/html": [
       "<div>\n",
       "<style scoped>\n",
       "    .dataframe tbody tr th:only-of-type {\n",
       "        vertical-align: middle;\n",
       "    }\n",
       "\n",
       "    .dataframe tbody tr th {\n",
       "        vertical-align: top;\n",
       "    }\n",
       "\n",
       "    .dataframe thead th {\n",
       "        text-align: right;\n",
       "    }\n",
       "</style>\n",
       "<table border=\"1\" class=\"dataframe\">\n",
       "  <thead>\n",
       "    <tr style=\"text-align: right;\">\n",
       "      <th></th>\n",
       "      <th>PLAYER</th>\n",
       "      <th>TEAM</th>\n",
       "      <th>RATING</th>\n",
       "    </tr>\n",
       "  </thead>\n",
       "  <tbody>\n",
       "    <tr>\n",
       "      <th>0</th>\n",
       "      <td>Josh Hazlewood</td>\n",
       "      <td>AUS</td>\n",
       "      <td>705</td>\n",
       "    </tr>\n",
       "    <tr>\n",
       "      <th>1</th>\n",
       "      <td>Trent Boult</td>\n",
       "      <td>NZ</td>\n",
       "      <td>694</td>\n",
       "    </tr>\n",
       "    <tr>\n",
       "      <th>2</th>\n",
       "      <td>Mohammed Siraj</td>\n",
       "      <td>IND</td>\n",
       "      <td>691</td>\n",
       "    </tr>\n",
       "    <tr>\n",
       "      <th>3</th>\n",
       "      <td>Mitchell Starc</td>\n",
       "      <td>AUS</td>\n",
       "      <td>686</td>\n",
       "    </tr>\n",
       "    <tr>\n",
       "      <th>4</th>\n",
       "      <td>Matt Henry</td>\n",
       "      <td>NZ</td>\n",
       "      <td>676</td>\n",
       "    </tr>\n",
       "    <tr>\n",
       "      <th>5</th>\n",
       "      <td>Rashid Khan</td>\n",
       "      <td>AFG</td>\n",
       "      <td>659</td>\n",
       "    </tr>\n",
       "    <tr>\n",
       "      <th>6</th>\n",
       "      <td>Adam Zampa</td>\n",
       "      <td>AUS</td>\n",
       "      <td>652</td>\n",
       "    </tr>\n",
       "    <tr>\n",
       "      <th>7</th>\n",
       "      <td>Shaheen Afridi</td>\n",
       "      <td>PAK</td>\n",
       "      <td>641</td>\n",
       "    </tr>\n",
       "    <tr>\n",
       "      <th>8</th>\n",
       "      <td>Mujeeb Ur Rahman</td>\n",
       "      <td>AFG</td>\n",
       "      <td>637</td>\n",
       "    </tr>\n",
       "    <tr>\n",
       "      <th>9</th>\n",
       "      <td>Shakib Al Hasan</td>\n",
       "      <td>BAN</td>\n",
       "      <td>636</td>\n",
       "    </tr>\n",
       "  </tbody>\n",
       "</table>\n",
       "</div>"
      ],
      "text/plain": [
       "             PLAYER TEAM RATING\n",
       "0    Josh Hazlewood  AUS    705\n",
       "1       Trent Boult   NZ    694\n",
       "2    Mohammed Siraj  IND    691\n",
       "3    Mitchell Starc  AUS    686\n",
       "4        Matt Henry   NZ    676\n",
       "5       Rashid Khan  AFG    659\n",
       "6        Adam Zampa  AUS    652\n",
       "7    Shaheen Afridi  PAK    641\n",
       "8  Mujeeb Ur Rahman  AFG    637\n",
       "9   Shakib Al Hasan  BAN    636"
      ]
     },
     "execution_count": 284,
     "metadata": {},
     "output_type": "execute_result"
    }
   ],
   "source": [
    "df6 = pd.DataFrame({'PLAYER':p_name26,'TEAM':p_country24,'RATING':rating24})\n",
    "df6"
   ]
  },
  {
   "cell_type": "markdown",
   "id": "15835bba",
   "metadata": {},
   "source": [
    "# 6. Write a python program to scrape cricket rankings from icc-cricket.com. You have to scrape and make data frame\n",
    "a) Top 10 ODI teams in women’s cricket along with the records for matches, points and rating."
   ]
  },
  {
   "cell_type": "code",
   "execution_count": 285,
   "id": "0445c23b",
   "metadata": {},
   "outputs": [
    {
     "data": {
      "text/plain": [
       "<Response [200]>"
      ]
     },
     "execution_count": 285,
     "metadata": {},
     "output_type": "execute_result"
    }
   ],
   "source": [
    "women_page = requests.get('https://www.icc-cricket.com/rankings/womens/team-rankings/odi')\n",
    "women_page"
   ]
  },
  {
   "cell_type": "code",
   "execution_count": 287,
   "id": "eb6bd0bc",
   "metadata": {},
   "outputs": [
    {
     "data": {
      "text/plain": [
       "['Australia',\n",
       " 'England',\n",
       " 'South Africa',\n",
       " 'India',\n",
       " 'New Zealand',\n",
       " 'West Indies',\n",
       " 'Bangladesh',\n",
       " 'Thailand',\n",
       " 'Pakistan',\n",
       " 'Sri Lanka']"
      ]
     },
     "execution_count": 287,
     "metadata": {},
     "output_type": "execute_result"
    }
   ],
   "source": [
    "soup = BeautifulSoup(women_page.content)\n",
    "w_team = []\n",
    "for i in soup.find_all('span',class_=\"u-hide-phablet\"):\n",
    "    w_team.append(i.text)\n",
    "\n",
    "w_team\n",
    "w_team1 = w_team[:10]\n",
    "w_team1"
   ]
  },
  {
   "cell_type": "code",
   "execution_count": 288,
   "id": "9120324b",
   "metadata": {},
   "outputs": [
    {
     "data": {
      "text/plain": [
       "['21']"
      ]
     },
     "execution_count": 288,
     "metadata": {},
     "output_type": "execute_result"
    }
   ],
   "source": [
    "soup = BeautifulSoup(women_page.content)\n",
    "w_m1 = []\n",
    "for i in soup.find_all('td',class_=\"rankings-block__banner--matches\"):\n",
    "    w_m1.append(i.text)\n",
    "\n",
    "w_m1"
   ]
  },
  {
   "cell_type": "code",
   "execution_count": 292,
   "id": "2ffe48f2",
   "metadata": {},
   "outputs": [
    {
     "data": {
      "text/plain": [
       "['3,603']"
      ]
     },
     "execution_count": 292,
     "metadata": {},
     "output_type": "execute_result"
    }
   ],
   "source": [
    "soup = BeautifulSoup(women_page.content)\n",
    "w_p1 = []\n",
    "for i in soup.find_all('td',class_=\"rankings-block__banner--points\"):\n",
    "    w_p1.append(i.text)\n",
    "\n",
    "w_p1"
   ]
  },
  {
   "cell_type": "code",
   "execution_count": 291,
   "id": "697b8bef",
   "metadata": {},
   "outputs": [
    {
     "data": {
      "text/plain": [
       "['28',\n",
       " '3,342',\n",
       " '26',\n",
       " '3,098',\n",
       " '27',\n",
       " '2,820',\n",
       " '25',\n",
       " '2,553',\n",
       " '27',\n",
       " '2,535',\n",
       " '13',\n",
       " '983',\n",
       " '11',\n",
       " '821',\n",
       " '27',\n",
       " '1,678',\n",
       " '8',\n",
       " '353']"
      ]
     },
     "execution_count": 291,
     "metadata": {},
     "output_type": "execute_result"
    }
   ],
   "source": [
    "soup = BeautifulSoup(women_page.content)\n",
    "w_m2 = []\n",
    "for i in soup.find_all('td',class_=\"table-body__cell u-center-text\"):\n",
    "    w_m2.append(i.text)\n",
    "\n",
    "w_m2\n",
    "w_m3 = w_m2[:18]\n",
    "w_m3"
   ]
  },
  {
   "cell_type": "code",
   "execution_count": 293,
   "id": "85aa79c7",
   "metadata": {},
   "outputs": [
    {
     "data": {
      "text/plain": [
       "['28', '26', '27', '25', '27', '13', '11', '27', '8']"
      ]
     },
     "execution_count": 293,
     "metadata": {},
     "output_type": "execute_result"
    }
   ],
   "source": [
    "w_m4 = [w_m3[i] for i in range(len(w_m3)) if i % 2 == 0]\n",
    "w_m4"
   ]
  },
  {
   "cell_type": "code",
   "execution_count": 294,
   "id": "125aa7fd",
   "metadata": {},
   "outputs": [
    {
     "data": {
      "text/plain": [
       "['21', '28', '26', '27', '25', '27', '13', '11', '27', '8']"
      ]
     },
     "execution_count": 294,
     "metadata": {},
     "output_type": "execute_result"
    }
   ],
   "source": [
    "w_m5 = w_m1 + w_m4\n",
    "w_m5"
   ]
  },
  {
   "cell_type": "code",
   "execution_count": 295,
   "id": "1d574ed8",
   "metadata": {},
   "outputs": [
    {
     "data": {
      "text/plain": [
       "['3,342', '3,098', '2,820', '2,553', '2,535', '983', '821', '1,678', '353']"
      ]
     },
     "execution_count": 295,
     "metadata": {},
     "output_type": "execute_result"
    }
   ],
   "source": [
    "w_p2 = [w_m3[i] for i in range(len(w_m3)) if i % 2 == 1]\n",
    "w_p2"
   ]
  },
  {
   "cell_type": "code",
   "execution_count": 296,
   "id": "bbb5ed2e",
   "metadata": {},
   "outputs": [
    {
     "data": {
      "text/plain": [
       "['3,603',\n",
       " '3,342',\n",
       " '3,098',\n",
       " '2,820',\n",
       " '2,553',\n",
       " '2,535',\n",
       " '983',\n",
       " '821',\n",
       " '1,678',\n",
       " '353']"
      ]
     },
     "execution_count": 296,
     "metadata": {},
     "output_type": "execute_result"
    }
   ],
   "source": [
    "w_p3 = w_p1 + w_p2\n",
    "w_p3"
   ]
  },
  {
   "cell_type": "code",
   "execution_count": 304,
   "id": "c66eaeaf",
   "metadata": {},
   "outputs": [
    {
     "data": {
      "text/plain": [
       "['\\n                            172\\n                            \\n\\n']"
      ]
     },
     "execution_count": 304,
     "metadata": {},
     "output_type": "execute_result"
    }
   ],
   "source": [
    "soup = BeautifulSoup(women_page.content)\n",
    "w_r1 = []\n",
    "for i in soup.find_all('td',class_=\"rankings-block__banner--rating u-text-right\"):\n",
    "    w_r1.append(i.text)\n",
    "\n",
    "w_r1"
   ]
  },
  {
   "cell_type": "code",
   "execution_count": 305,
   "id": "6bcc9c10",
   "metadata": {},
   "outputs": [
    {
     "data": {
      "text/plain": [
       "['172']"
      ]
     },
     "execution_count": 305,
     "metadata": {},
     "output_type": "execute_result"
    }
   ],
   "source": [
    "w_r2 = []\n",
    "for ratings in w_r1:\n",
    "    split_w_r1 = ratings.split(\"\\n\")\n",
    "    rate = split_w_r1[1]\n",
    "    w_r2.append(rate)\n",
    "\n",
    "w_r2 = [elem.strip() for elem in w_r2]\n",
    "w_r2"
   ]
  },
  {
   "cell_type": "code",
   "execution_count": 306,
   "id": "8845526c",
   "metadata": {},
   "outputs": [
    {
     "data": {
      "text/plain": [
       "['119', '119', '104', '102', '94', '76', '75', '62', '44']"
      ]
     },
     "execution_count": 306,
     "metadata": {},
     "output_type": "execute_result"
    }
   ],
   "source": [
    "soup = BeautifulSoup(women_page.content)\n",
    "w_r3 = []\n",
    "for i in soup.find_all('td',class_=\"table-body__cell u-text-right rating\"):\n",
    "    w_r3.append(i.text)\n",
    "\n",
    "w_r3\n",
    "w_r4 = w_r3[:9]\n",
    "w_r4"
   ]
  },
  {
   "cell_type": "code",
   "execution_count": 311,
   "id": "f5eb5be6",
   "metadata": {},
   "outputs": [
    {
     "data": {
      "text/plain": [
       "['172', '119', '119', '104', '102', '94', '76', '75', '62', '44']"
      ]
     },
     "execution_count": 311,
     "metadata": {},
     "output_type": "execute_result"
    }
   ],
   "source": [
    "w_r5 = w_r2 + w_r4\n",
    "w_r5"
   ]
  },
  {
   "cell_type": "code",
   "execution_count": 312,
   "id": "df6ebbfb",
   "metadata": {},
   "outputs": [
    {
     "data": {
      "text/html": [
       "<div>\n",
       "<style scoped>\n",
       "    .dataframe tbody tr th:only-of-type {\n",
       "        vertical-align: middle;\n",
       "    }\n",
       "\n",
       "    .dataframe tbody tr th {\n",
       "        vertical-align: top;\n",
       "    }\n",
       "\n",
       "    .dataframe thead th {\n",
       "        text-align: right;\n",
       "    }\n",
       "</style>\n",
       "<table border=\"1\" class=\"dataframe\">\n",
       "  <thead>\n",
       "    <tr style=\"text-align: right;\">\n",
       "      <th></th>\n",
       "      <th>TEAM</th>\n",
       "      <th>MATCHES</th>\n",
       "      <th>POINTS</th>\n",
       "      <th>RATING</th>\n",
       "    </tr>\n",
       "  </thead>\n",
       "  <tbody>\n",
       "    <tr>\n",
       "      <th>0</th>\n",
       "      <td>Australia</td>\n",
       "      <td>21</td>\n",
       "      <td>3,603</td>\n",
       "      <td>172</td>\n",
       "    </tr>\n",
       "    <tr>\n",
       "      <th>1</th>\n",
       "      <td>England</td>\n",
       "      <td>28</td>\n",
       "      <td>3,342</td>\n",
       "      <td>119</td>\n",
       "    </tr>\n",
       "    <tr>\n",
       "      <th>2</th>\n",
       "      <td>South Africa</td>\n",
       "      <td>26</td>\n",
       "      <td>3,098</td>\n",
       "      <td>119</td>\n",
       "    </tr>\n",
       "    <tr>\n",
       "      <th>3</th>\n",
       "      <td>India</td>\n",
       "      <td>27</td>\n",
       "      <td>2,820</td>\n",
       "      <td>104</td>\n",
       "    </tr>\n",
       "    <tr>\n",
       "      <th>4</th>\n",
       "      <td>New Zealand</td>\n",
       "      <td>25</td>\n",
       "      <td>2,553</td>\n",
       "      <td>102</td>\n",
       "    </tr>\n",
       "    <tr>\n",
       "      <th>5</th>\n",
       "      <td>West Indies</td>\n",
       "      <td>27</td>\n",
       "      <td>2,535</td>\n",
       "      <td>94</td>\n",
       "    </tr>\n",
       "    <tr>\n",
       "      <th>6</th>\n",
       "      <td>Bangladesh</td>\n",
       "      <td>13</td>\n",
       "      <td>983</td>\n",
       "      <td>76</td>\n",
       "    </tr>\n",
       "    <tr>\n",
       "      <th>7</th>\n",
       "      <td>Thailand</td>\n",
       "      <td>11</td>\n",
       "      <td>821</td>\n",
       "      <td>75</td>\n",
       "    </tr>\n",
       "    <tr>\n",
       "      <th>8</th>\n",
       "      <td>Pakistan</td>\n",
       "      <td>27</td>\n",
       "      <td>1,678</td>\n",
       "      <td>62</td>\n",
       "    </tr>\n",
       "    <tr>\n",
       "      <th>9</th>\n",
       "      <td>Sri Lanka</td>\n",
       "      <td>8</td>\n",
       "      <td>353</td>\n",
       "      <td>44</td>\n",
       "    </tr>\n",
       "  </tbody>\n",
       "</table>\n",
       "</div>"
      ],
      "text/plain": [
       "           TEAM MATCHES POINTS RATING\n",
       "0     Australia      21  3,603    172\n",
       "1       England      28  3,342    119\n",
       "2  South Africa      26  3,098    119\n",
       "3         India      27  2,820    104\n",
       "4   New Zealand      25  2,553    102\n",
       "5   West Indies      27  2,535     94\n",
       "6    Bangladesh      13    983     76\n",
       "7      Thailand      11    821     75\n",
       "8      Pakistan      27  1,678     62\n",
       "9     Sri Lanka       8    353     44"
      ]
     },
     "execution_count": 312,
     "metadata": {},
     "output_type": "execute_result"
    }
   ],
   "source": [
    "df7 = pd.DataFrame({'TEAM':w_team1,'MATCHES':w_m5,'POINTS':w_p3,'RATING':w_r5})\n",
    "df7"
   ]
  },
  {
   "cell_type": "markdown",
   "id": "df8e828d",
   "metadata": {},
   "source": [
    "# 6.\n",
    "b) Top 10 women’s ODI Batting players along with the records of their team and rating."
   ]
  },
  {
   "cell_type": "code",
   "execution_count": 320,
   "id": "1ade226f",
   "metadata": {},
   "outputs": [
    {
     "data": {
      "text/plain": [
       "<Response [200]>"
      ]
     },
     "execution_count": 320,
     "metadata": {},
     "output_type": "execute_result"
    }
   ],
   "source": [
    "batswomen_page = requests.get('https://www.icc-cricket.com/rankings/womens/player-rankings/odi')\n",
    "batswomen_page"
   ]
  },
  {
   "cell_type": "code",
   "execution_count": 321,
   "id": "d0aeeb33",
   "metadata": {},
   "outputs": [
    {
     "data": {
      "text/plain": [
       "['Alyssa Healy']"
      ]
     },
     "execution_count": 321,
     "metadata": {},
     "output_type": "execute_result"
    }
   ],
   "source": [
    "soup = BeautifulSoup(batswomen_page.content)\n",
    "wp_name = []\n",
    "for i in soup.find_all('div',class_=\"rankings-block__banner--name\"):\n",
    "    wp_name.append(i.text)\n",
    "\n",
    "wp_name\n",
    "wp_name11 = wp_name[:1]\n",
    "wp_name11"
   ]
  },
  {
   "cell_type": "code",
   "execution_count": 322,
   "id": "eef681a3",
   "metadata": {},
   "outputs": [
    {
     "data": {
      "text/plain": [
       "['\\nBeth Mooney\\n',\n",
       " '\\nLaura Wolvaardt\\n',\n",
       " '\\nNatalie Sciver\\n',\n",
       " '\\nMeg Lanning\\n',\n",
       " '\\nHarmanpreet Kaur\\n',\n",
       " '\\nSmriti Mandhana\\n',\n",
       " '\\nChamari Athapaththu\\n',\n",
       " '\\nAmy Satterthwaite\\n',\n",
       " '\\nEllyse Perry\\n']"
      ]
     },
     "execution_count": 322,
     "metadata": {},
     "output_type": "execute_result"
    }
   ],
   "source": [
    "soup = BeautifulSoup(batswomen_page.content)\n",
    "wp_name1 = []\n",
    "for i in soup.find_all('td',class_=\"table-body__cell name\"):\n",
    "    wp_name1.append(i.text)\n",
    "\n",
    "wp_name1\n",
    "wp_name2 = wp_name1[:9]\n",
    "wp_name2"
   ]
  },
  {
   "cell_type": "code",
   "execution_count": 323,
   "id": "11e944b7",
   "metadata": {},
   "outputs": [
    {
     "name": "stdout",
     "output_type": "stream",
     "text": [
      "['Beth Mooney', 'Laura Wolvaardt', 'Natalie Sciver', 'Meg Lanning', 'Harmanpreet Kaur', 'Smriti Mandhana', 'Chamari Athapaththu', 'Amy Satterthwaite', 'Ellyse Perry']\n"
     ]
    }
   ],
   "source": [
    "wp_name3 = []\n",
    "for players in wp_name2:\n",
    "    split_wp_name2 = players.split(\"\\n\")\n",
    "    players_name = split_wp_name2[1]\n",
    "    wp_name3.append(players_name)\n",
    "\n",
    "print(wp_name3)"
   ]
  },
  {
   "cell_type": "code",
   "execution_count": 325,
   "id": "aa75ffaf",
   "metadata": {},
   "outputs": [
    {
     "data": {
      "text/plain": [
       "['Alyssa Healy',\n",
       " 'Beth Mooney',\n",
       " 'Laura Wolvaardt',\n",
       " 'Natalie Sciver',\n",
       " 'Meg Lanning',\n",
       " 'Harmanpreet Kaur',\n",
       " 'Smriti Mandhana',\n",
       " 'Chamari Athapaththu',\n",
       " 'Amy Satterthwaite',\n",
       " 'Ellyse Perry']"
      ]
     },
     "execution_count": 325,
     "metadata": {},
     "output_type": "execute_result"
    }
   ],
   "source": [
    "wp_name4 = wp_name11 + wp_name3\n",
    "wp_name4"
   ]
  },
  {
   "cell_type": "code",
   "execution_count": 326,
   "id": "bd3a1752",
   "metadata": {},
   "outputs": [
    {
     "data": {
      "text/plain": [
       "'AUS'"
      ]
     },
     "execution_count": 326,
     "metadata": {},
     "output_type": "execute_result"
    }
   ],
   "source": [
    "wp_country = []\n",
    "for i in soup.find_all('div',class_=\"rankings-block__banner--nationality\"):\n",
    "    wp_country.append(i.text)\n",
    "\n",
    "wp_country\n",
    "wp_countrys = wp_country[:1]\n",
    "w_nation = wp_countrys[0].strip().split()[0]\n",
    "w_nation"
   ]
  },
  {
   "cell_type": "code",
   "execution_count": 327,
   "id": "4a95bedd",
   "metadata": {},
   "outputs": [
    {
     "data": {
      "text/plain": [
       "'762'"
      ]
     },
     "execution_count": 327,
     "metadata": {},
     "output_type": "execute_result"
    }
   ],
   "source": [
    "wp_rating = wp_countrys[0].strip().split()[1]\n",
    "wp_rating"
   ]
  },
  {
   "cell_type": "code",
   "execution_count": 328,
   "id": "0d63dce9",
   "metadata": {},
   "outputs": [
    {
     "data": {
      "text/plain": [
       "['AUS', 'SA', 'ENG', 'AUS', 'IND', 'IND', 'SL', 'NZ', 'AUS']"
      ]
     },
     "execution_count": 328,
     "metadata": {},
     "output_type": "execute_result"
    }
   ],
   "source": [
    "w_country = []\n",
    "for i in soup.find_all('span',class_=\"table-body__logo-text\"):\n",
    "    w_country.append(i.text)\n",
    "\n",
    "w_country\n",
    "wp_country = w_country[:9]\n",
    "wp_country"
   ]
  },
  {
   "cell_type": "code",
   "execution_count": 329,
   "id": "b5b20a02",
   "metadata": {},
   "outputs": [
    {
     "name": "stdout",
     "output_type": "stream",
     "text": [
      "['AUS', 'AUS', 'SA', 'ENG', 'AUS', 'IND', 'IND', 'SL', 'NZ', 'AUS']\n"
     ]
    }
   ],
   "source": [
    "wp_country.insert(0, 'AUS')\n",
    "print(wp_country)"
   ]
  },
  {
   "cell_type": "code",
   "execution_count": 330,
   "id": "abcdfcea",
   "metadata": {},
   "outputs": [
    {
     "data": {
      "text/plain": [
       "['754', '732', '731', '717', '716', '714', '655', '641', '626']"
      ]
     },
     "execution_count": 330,
     "metadata": {},
     "output_type": "execute_result"
    }
   ],
   "source": [
    "w_rating21 = []\n",
    "for i in soup.find_all('td',class_=\"table-body__cell u-text-right rating\"):\n",
    "    w_rating21.append(i.text)\n",
    "\n",
    "w_rating21\n",
    "w_rating22 = w_rating21[:9]\n",
    "w_rating22"
   ]
  },
  {
   "cell_type": "code",
   "execution_count": 331,
   "id": "47db745d",
   "metadata": {},
   "outputs": [
    {
     "name": "stdout",
     "output_type": "stream",
     "text": [
      "['762', '754', '732', '731', '717', '716', '714', '655', '641', '626']\n"
     ]
    }
   ],
   "source": [
    "w_rating22.insert(0, '762')\n",
    "print(w_rating22)"
   ]
  },
  {
   "cell_type": "code",
   "execution_count": 332,
   "id": "b6e7e648",
   "metadata": {},
   "outputs": [
    {
     "data": {
      "text/html": [
       "<div>\n",
       "<style scoped>\n",
       "    .dataframe tbody tr th:only-of-type {\n",
       "        vertical-align: middle;\n",
       "    }\n",
       "\n",
       "    .dataframe tbody tr th {\n",
       "        vertical-align: top;\n",
       "    }\n",
       "\n",
       "    .dataframe thead th {\n",
       "        text-align: right;\n",
       "    }\n",
       "</style>\n",
       "<table border=\"1\" class=\"dataframe\">\n",
       "  <thead>\n",
       "    <tr style=\"text-align: right;\">\n",
       "      <th></th>\n",
       "      <th>PLAYER</th>\n",
       "      <th>TEAM</th>\n",
       "      <th>RATING</th>\n",
       "    </tr>\n",
       "  </thead>\n",
       "  <tbody>\n",
       "    <tr>\n",
       "      <th>0</th>\n",
       "      <td>Alyssa Healy</td>\n",
       "      <td>AUS</td>\n",
       "      <td>762</td>\n",
       "    </tr>\n",
       "    <tr>\n",
       "      <th>1</th>\n",
       "      <td>Beth Mooney</td>\n",
       "      <td>AUS</td>\n",
       "      <td>754</td>\n",
       "    </tr>\n",
       "    <tr>\n",
       "      <th>2</th>\n",
       "      <td>Laura Wolvaardt</td>\n",
       "      <td>SA</td>\n",
       "      <td>732</td>\n",
       "    </tr>\n",
       "    <tr>\n",
       "      <th>3</th>\n",
       "      <td>Natalie Sciver</td>\n",
       "      <td>ENG</td>\n",
       "      <td>731</td>\n",
       "    </tr>\n",
       "    <tr>\n",
       "      <th>4</th>\n",
       "      <td>Meg Lanning</td>\n",
       "      <td>AUS</td>\n",
       "      <td>717</td>\n",
       "    </tr>\n",
       "    <tr>\n",
       "      <th>5</th>\n",
       "      <td>Harmanpreet Kaur</td>\n",
       "      <td>IND</td>\n",
       "      <td>716</td>\n",
       "    </tr>\n",
       "    <tr>\n",
       "      <th>6</th>\n",
       "      <td>Smriti Mandhana</td>\n",
       "      <td>IND</td>\n",
       "      <td>714</td>\n",
       "    </tr>\n",
       "    <tr>\n",
       "      <th>7</th>\n",
       "      <td>Chamari Athapaththu</td>\n",
       "      <td>SL</td>\n",
       "      <td>655</td>\n",
       "    </tr>\n",
       "    <tr>\n",
       "      <th>8</th>\n",
       "      <td>Amy Satterthwaite</td>\n",
       "      <td>NZ</td>\n",
       "      <td>641</td>\n",
       "    </tr>\n",
       "    <tr>\n",
       "      <th>9</th>\n",
       "      <td>Ellyse Perry</td>\n",
       "      <td>AUS</td>\n",
       "      <td>626</td>\n",
       "    </tr>\n",
       "  </tbody>\n",
       "</table>\n",
       "</div>"
      ],
      "text/plain": [
       "                PLAYER TEAM RATING\n",
       "0         Alyssa Healy  AUS    762\n",
       "1          Beth Mooney  AUS    754\n",
       "2      Laura Wolvaardt   SA    732\n",
       "3       Natalie Sciver  ENG    731\n",
       "4          Meg Lanning  AUS    717\n",
       "5     Harmanpreet Kaur  IND    716\n",
       "6      Smriti Mandhana  IND    714\n",
       "7  Chamari Athapaththu   SL    655\n",
       "8    Amy Satterthwaite   NZ    641\n",
       "9         Ellyse Perry  AUS    626"
      ]
     },
     "execution_count": 332,
     "metadata": {},
     "output_type": "execute_result"
    }
   ],
   "source": [
    "df8 = pd.DataFrame({'PLAYER':wp_name4,'TEAM':wp_country,'RATING':w_rating22})\n",
    "df8"
   ]
  },
  {
   "cell_type": "markdown",
   "id": "238634ea",
   "metadata": {},
   "source": [
    "# 6.\n",
    "c) Top 10 women’s ODI all-rounder along with the records of their team and rating."
   ]
  },
  {
   "cell_type": "code",
   "execution_count": 337,
   "id": "5d245fd8",
   "metadata": {},
   "outputs": [
    {
     "data": {
      "text/plain": [
       "['Hayley Matthews']"
      ]
     },
     "execution_count": 337,
     "metadata": {},
     "output_type": "execute_result"
    }
   ],
   "source": [
    "soup = BeautifulSoup(batswomen_page.content)\n",
    "wp_name = []\n",
    "for i in soup.find_all('div',class_=\"rankings-block__banner--name\"):\n",
    "    wp_name.append(i.text)\n",
    "\n",
    "wp_name\n",
    "wp_name11 = wp_name[2:]\n",
    "wp_name11"
   ]
  },
  {
   "cell_type": "code",
   "execution_count": 338,
   "id": "336d5989",
   "metadata": {},
   "outputs": [
    {
     "data": {
      "text/plain": [
       "'WI'"
      ]
     },
     "execution_count": 338,
     "metadata": {},
     "output_type": "execute_result"
    }
   ],
   "source": [
    "wp_country1 = []\n",
    "for i in soup.find_all('div',class_=\"rankings-block__banner--nationality\"):\n",
    "    wp_country1.append(i.text)\n",
    "\n",
    "wp_country1\n",
    "wp_country2 = wp_country1[2:]\n",
    "wp_country2\n",
    "wp_country3 = wp_country2[0].strip().split()[0]\n",
    "wp_country3"
   ]
  },
  {
   "cell_type": "code",
   "execution_count": 339,
   "id": "7784b4b7",
   "metadata": {},
   "outputs": [
    {
     "data": {
      "text/plain": [
       "'373'"
      ]
     },
     "execution_count": 339,
     "metadata": {},
     "output_type": "execute_result"
    }
   ],
   "source": [
    "wp_rating2 = wp_country2[0].strip().split()[1]\n",
    "wp_rating2"
   ]
  },
  {
   "cell_type": "code",
   "execution_count": 340,
   "id": "190f98d6",
   "metadata": {},
   "outputs": [
    {
     "data": {
      "text/plain": [
       "['\\nNatalie Sciver\\n',\n",
       " '\\nEllyse Perry\\n',\n",
       " '\\nMarizanne Kapp\\n',\n",
       " '\\nAmelia Kerr\\n',\n",
       " '\\nDeepti Sharma\\n',\n",
       " '\\nAshleigh Gardner\\n',\n",
       " '\\nJess Jonassen\\n',\n",
       " '\\nNida Dar\\n',\n",
       " '\\nSophie Ecclestone\\n']"
      ]
     },
     "execution_count": 340,
     "metadata": {},
     "output_type": "execute_result"
    }
   ],
   "source": [
    "wp_name23 = []\n",
    "for i in soup.find_all('td',class_=\"table-body__cell name\"):\n",
    "    wp_name23.append(i.text)\n",
    "\n",
    "wp_name23\n",
    "wp_name24 = wp_name23[18:27]\n",
    "wp_name24"
   ]
  },
  {
   "cell_type": "code",
   "execution_count": 341,
   "id": "7f890e59",
   "metadata": {},
   "outputs": [
    {
     "name": "stdout",
     "output_type": "stream",
     "text": [
      "['Natalie Sciver', 'Ellyse Perry', 'Marizanne Kapp', 'Amelia Kerr', 'Deepti Sharma', 'Ashleigh Gardner', 'Jess Jonassen', 'Nida Dar', 'Sophie Ecclestone']\n"
     ]
    }
   ],
   "source": [
    "wp_name25 = []\n",
    "for players in wp_name24:\n",
    "    split_wp_name24 = players.split(\"\\n\")\n",
    "    players_name = split_wp_name24[1]\n",
    "    wp_name25.append(players_name)\n",
    "\n",
    "print(wp_name25)"
   ]
  },
  {
   "cell_type": "code",
   "execution_count": 343,
   "id": "46f43e64",
   "metadata": {},
   "outputs": [
    {
     "data": {
      "text/plain": [
       "['Hayley Matthews',\n",
       " 'Natalie Sciver',\n",
       " 'Ellyse Perry',\n",
       " 'Marizanne Kapp',\n",
       " 'Amelia Kerr',\n",
       " 'Deepti Sharma',\n",
       " 'Ashleigh Gardner',\n",
       " 'Jess Jonassen',\n",
       " 'Nida Dar',\n",
       " 'Sophie Ecclestone']"
      ]
     },
     "execution_count": 343,
     "metadata": {},
     "output_type": "execute_result"
    }
   ],
   "source": [
    "wp_name26 = wp_name11 + wp_name25\n",
    "wp_name26"
   ]
  },
  {
   "cell_type": "code",
   "execution_count": 344,
   "id": "5521f5a2",
   "metadata": {},
   "outputs": [
    {
     "data": {
      "text/plain": [
       "['ENG', 'AUS', 'SA', 'NZ', 'IND', 'AUS', 'AUS', 'PAK', 'ENG']"
      ]
     },
     "execution_count": 344,
     "metadata": {},
     "output_type": "execute_result"
    }
   ],
   "source": [
    "w_country\n",
    "wp_country24 = w_country[18:27]\n",
    "wp_country24"
   ]
  },
  {
   "cell_type": "code",
   "execution_count": 346,
   "id": "d0a4301b",
   "metadata": {},
   "outputs": [
    {
     "name": "stdout",
     "output_type": "stream",
     "text": [
      "['AUS', 'ENG', 'AUS', 'SA', 'NZ', 'IND', 'AUS', 'AUS', 'PAK', 'ENG']\n"
     ]
    }
   ],
   "source": [
    "wp_country24.insert(0, 'AUS')\n",
    "print(wp_country24)"
   ]
  },
  {
   "cell_type": "code",
   "execution_count": 347,
   "id": "98238ec2",
   "metadata": {},
   "outputs": [
    {
     "data": {
      "text/plain": [
       "['371', '366', '349', '336', '322', '292', '250', '232', '205']"
      ]
     },
     "execution_count": 347,
     "metadata": {},
     "output_type": "execute_result"
    }
   ],
   "source": [
    "w_rating21\n",
    "w_rating24 = w_rating21[18:27]\n",
    "w_rating24"
   ]
  },
  {
   "cell_type": "code",
   "execution_count": 349,
   "id": "df6b19c4",
   "metadata": {},
   "outputs": [
    {
     "name": "stdout",
     "output_type": "stream",
     "text": [
      "['373', '371', '366', '349', '336', '322', '292', '250', '232', '205']\n"
     ]
    }
   ],
   "source": [
    "w_rating24.insert(0, '373')\n",
    "print(w_rating24)"
   ]
  },
  {
   "cell_type": "code",
   "execution_count": 350,
   "id": "173837a8",
   "metadata": {},
   "outputs": [
    {
     "data": {
      "text/html": [
       "<div>\n",
       "<style scoped>\n",
       "    .dataframe tbody tr th:only-of-type {\n",
       "        vertical-align: middle;\n",
       "    }\n",
       "\n",
       "    .dataframe tbody tr th {\n",
       "        vertical-align: top;\n",
       "    }\n",
       "\n",
       "    .dataframe thead th {\n",
       "        text-align: right;\n",
       "    }\n",
       "</style>\n",
       "<table border=\"1\" class=\"dataframe\">\n",
       "  <thead>\n",
       "    <tr style=\"text-align: right;\">\n",
       "      <th></th>\n",
       "      <th>PLAYER</th>\n",
       "      <th>TEAM</th>\n",
       "      <th>RATING</th>\n",
       "    </tr>\n",
       "  </thead>\n",
       "  <tbody>\n",
       "    <tr>\n",
       "      <th>0</th>\n",
       "      <td>Hayley Matthews</td>\n",
       "      <td>AUS</td>\n",
       "      <td>373</td>\n",
       "    </tr>\n",
       "    <tr>\n",
       "      <th>1</th>\n",
       "      <td>Natalie Sciver</td>\n",
       "      <td>ENG</td>\n",
       "      <td>371</td>\n",
       "    </tr>\n",
       "    <tr>\n",
       "      <th>2</th>\n",
       "      <td>Ellyse Perry</td>\n",
       "      <td>AUS</td>\n",
       "      <td>366</td>\n",
       "    </tr>\n",
       "    <tr>\n",
       "      <th>3</th>\n",
       "      <td>Marizanne Kapp</td>\n",
       "      <td>SA</td>\n",
       "      <td>349</td>\n",
       "    </tr>\n",
       "    <tr>\n",
       "      <th>4</th>\n",
       "      <td>Amelia Kerr</td>\n",
       "      <td>NZ</td>\n",
       "      <td>336</td>\n",
       "    </tr>\n",
       "    <tr>\n",
       "      <th>5</th>\n",
       "      <td>Deepti Sharma</td>\n",
       "      <td>IND</td>\n",
       "      <td>322</td>\n",
       "    </tr>\n",
       "    <tr>\n",
       "      <th>6</th>\n",
       "      <td>Ashleigh Gardner</td>\n",
       "      <td>AUS</td>\n",
       "      <td>292</td>\n",
       "    </tr>\n",
       "    <tr>\n",
       "      <th>7</th>\n",
       "      <td>Jess Jonassen</td>\n",
       "      <td>AUS</td>\n",
       "      <td>250</td>\n",
       "    </tr>\n",
       "    <tr>\n",
       "      <th>8</th>\n",
       "      <td>Nida Dar</td>\n",
       "      <td>PAK</td>\n",
       "      <td>232</td>\n",
       "    </tr>\n",
       "    <tr>\n",
       "      <th>9</th>\n",
       "      <td>Sophie Ecclestone</td>\n",
       "      <td>ENG</td>\n",
       "      <td>205</td>\n",
       "    </tr>\n",
       "  </tbody>\n",
       "</table>\n",
       "</div>"
      ],
      "text/plain": [
       "              PLAYER TEAM RATING\n",
       "0    Hayley Matthews  AUS    373\n",
       "1     Natalie Sciver  ENG    371\n",
       "2       Ellyse Perry  AUS    366\n",
       "3     Marizanne Kapp   SA    349\n",
       "4        Amelia Kerr   NZ    336\n",
       "5      Deepti Sharma  IND    322\n",
       "6   Ashleigh Gardner  AUS    292\n",
       "7      Jess Jonassen  AUS    250\n",
       "8           Nida Dar  PAK    232\n",
       "9  Sophie Ecclestone  ENG    205"
      ]
     },
     "execution_count": 350,
     "metadata": {},
     "output_type": "execute_result"
    }
   ],
   "source": [
    "df9 = pd.DataFrame({'PLAYER':wp_name26,'TEAM':wp_country24,'RATING':w_rating24})\n",
    "df9"
   ]
  },
  {
   "cell_type": "markdown",
   "id": "f0f1e593",
   "metadata": {},
   "source": [
    "# 7. Write a python program to scrape mentioned news details from https://www.cnbc.com/world/?region=world and make data frame\n",
    "\n",
    "i) Headline\n",
    "ii) Time\n",
    "iii) News Link"
   ]
  },
  {
   "cell_type": "code",
   "execution_count": 351,
   "id": "67104e5c",
   "metadata": {},
   "outputs": [
    {
     "data": {
      "text/plain": [
       "<Response [200]>"
      ]
     },
     "execution_count": 351,
     "metadata": {},
     "output_type": "execute_result"
    }
   ],
   "source": [
    "cnbc_page = requests.get('https://www.cnbc.com/world/?region=world')\n",
    "cnbc_page"
   ]
  },
  {
   "cell_type": "code",
   "execution_count": 354,
   "id": "3ffe5452",
   "metadata": {},
   "outputs": [
    {
     "data": {
      "text/plain": [
       "['Treasury yields fall as investors mull over key economic data',\n",
       " \"China's top leaders say the economy doesn't have enough 'internal' drive\",\n",
       " 'Russia launches missile attacks on several Ukrainian cities; air raid sirens sound in Kyiv',\n",
       " 'Sony posts record annual profit boosted by chips and all-time high PlayStation 5 sales ',\n",
       " \"China's A.I. chatbots haven't yet reached the public like ChatGPT did\",\n",
       " 'European stock markets dip as investors digest earnings, GDP data; NatWest down 6%',\n",
       " \"IMF warns of 'disorderly' house price corrections in Europe as interest rates move higher\",\n",
       " 'CNBC Daily Open: Markets had their best day in three months',\n",
       " \"Microsoft's big bet on cloud gaming is what tripped up Activision takeover\",\n",
       " 'Wall Street predicted a big surge for oil this year. But prices are now lower',\n",
       " 'Obesity drug industry could be worth $200 billion in next decade, Barclays says',\n",
       " 'Swiss National Bank to face Credit Suisse and climate protests at fraught AGM',\n",
       " 'Bank of Japan sticks to negative rates while announcing policy review',\n",
       " \"China's SMIC will 'struggle' to make cutting-edge chips competitively\",\n",
       " \"China just called Ukraine. The timing wasn't accidental, analysts say\",\n",
       " \"This weight-loss drug maker's stock is up 20% this year — and Barclays sees it going higher\",\n",
       " 'Goldman and Morgan Stanley say these chip stocks have more upside ahead of them',\n",
       " 'CNBC Daily Open: Markets had their best day in months',\n",
       " 'Amazon must do more to rein in costs to grow in 2023 ',\n",
       " 'Asia markets rise as Japan keeps monetary policy unchanged, yen weakens',\n",
       " \"Thursday's rally showed the power of stock picking, Jim Cramer says\",\n",
       " 'Stock futures fall slightly as investors digest Amazon, Intel earnings ',\n",
       " 'Stocks making the biggest moves after hours: Amazon, Intel, Snap, Pinterest and more',\n",
       " 'Cloudflare stock plunges more than 20% after revising guidance down',\n",
       " \"Meta pops on 1Q earnings results and guidance. Here's how the pros are playing it\",\n",
       " \"Amazon's 18% cloud revenue growth impresses even as margin narrows\",\n",
       " 'Snap plunges on first-quarter revenue miss',\n",
       " 'Intel reports largest quarterly loss in company history',\n",
       " 'Here’s a full recap of CNBC’s 2023 Stock Draft',\n",
       " \"Powell duped by Russian pranksters claiming to be Ukraine's Volodymyr Zelenskyy\"]"
      ]
     },
     "execution_count": 354,
     "metadata": {},
     "output_type": "execute_result"
    }
   ],
   "source": [
    "soup = BeautifulSoup(cnbc_page.content)\n",
    "headline = []\n",
    "for i in soup.find_all('a',class_=\"LatestNews-headline\"):\n",
    "    headline.append(i.text)\n",
    "\n",
    "headline"
   ]
  },
  {
   "cell_type": "code",
   "execution_count": 359,
   "id": "3ba967ca",
   "metadata": {},
   "outputs": [
    {
     "data": {
      "text/plain": [
       "['21 Min Ago',\n",
       " '1 Hour Ago',\n",
       " '2 Hours Ago',\n",
       " '2 Hours Ago',\n",
       " '2 Hours Ago',\n",
       " '3 Hours Ago',\n",
       " '3 Hours Ago',\n",
       " '3 Hours Ago',\n",
       " '4 Hours Ago',\n",
       " '4 Hours Ago',\n",
       " '4 Hours Ago',\n",
       " '4 Hours Ago',\n",
       " '5 Hours Ago',\n",
       " '7 Hours Ago',\n",
       " '8 Hours Ago',\n",
       " '8 Hours Ago',\n",
       " '8 Hours Ago',\n",
       " '9 Hours Ago',\n",
       " '9 Hours Ago',\n",
       " '9 Hours Ago',\n",
       " '10 Hours Ago',\n",
       " '11 Hours Ago',\n",
       " '12 Hours Ago',\n",
       " '12 Hours Ago',\n",
       " '12 Hours Ago',\n",
       " '13 Hours Ago',\n",
       " '13 Hours Ago',\n",
       " '13 Hours Ago',\n",
       " '13 Hours Ago',\n",
       " '13 Hours Ago']"
      ]
     },
     "execution_count": 359,
     "metadata": {},
     "output_type": "execute_result"
    }
   ],
   "source": [
    "soup = BeautifulSoup(cnbc_page.content)\n",
    "time = []\n",
    "for i in soup.find_all('time',class_=\"LatestNews-timestamp\"):\n",
    "    time.append(i.text)\n",
    "\n",
    "time"
   ]
  },
  {
   "cell_type": "code",
   "execution_count": 357,
   "id": "8053a17a",
   "metadata": {},
   "outputs": [
    {
     "data": {
      "text/plain": [
       "['https://www.cnbc.com/2023/04/28/us-treasury-yields-investors-mull-over-key-gdp-inflation-data.html',\n",
       " 'https://www.cnbc.com/2023/04/28/chinas-top-leaders-say-the-economy-doesnt-have-enough-internal-drive.html',\n",
       " 'https://www.cnbc.com/2023/04/28/ukraine-war-live-updates-latest-news-on-russia-and-the-war-in-ukraine.html',\n",
       " 'https://www.cnbc.com/2023/04/28/sony-earnings-playstation-5-sales-hit-all-time-high-profit-hits-record.html',\n",
       " 'https://www.cnbc.com/2023/04/28/how-chinas-chatgpt-ai-alternatives-are-doing.html',\n",
       " 'https://www.cnbc.com/2023/04/28/european-markets-open-to-close-earnings-data-and-news.html',\n",
       " 'https://www.cnbc.com/2023/04/28/imf-warns-of-disorderly-house-price-corrections-in-europe-amid-high-rates.html',\n",
       " 'https://www.cnbc.com/2023/04/28/stock-markets-markets-had-their-best-day-in-three-months.html',\n",
       " 'https://www.cnbc.com/2023/04/28/microsofts-big-bet-on-cloud-gaming-is-what-tripped-up-activision-deal.html',\n",
       " 'https://www.cnbc.com/2023/04/28/wall-street-predicted-a-big-surge-for-oil-this-year-but-prices-are-now-lower.html',\n",
       " 'https://www.cnbc.com/2023/04/28/obesity-drugs-to-be-worth-200-billion-in-next-10-years-barclays-says.html',\n",
       " 'https://www.cnbc.com/2023/04/28/swiss-national-bank-to-face-credit-suisse-and-climate-protests-at-fraught-agm.html',\n",
       " 'https://www.cnbc.com/2023/04/28/bank-of-japan-policy-decision-kazuo-ueda-first-meeting.html',\n",
       " 'https://www.cnbc.com/2023/04/28/chinas-smic-may-struggle-to-make-cutting-edge-chips-competitively.html',\n",
       " 'https://www.cnbc.com/2023/04/28/why-did-china-just-call-ukraine-analysts-share-their-theories.html',\n",
       " 'https://www.cnbc.com/2023/04/28/this-weight-loss-drug-makers-stock-is-up-20percent-this-year-and-barclays-sees-it-going-higher.html',\n",
       " 'https://www.cnbc.com/2023/04/28/semiconductor-goldman-morgan-stanley-name-chip-stocks-with-upside.html',\n",
       " 'https://www.cnbc.com/2023/04/28/stock-markets-markets-had-their-best-day-in-months.html',\n",
       " 'https://www.cnbc.com/2023/04/27/amazon-must-do-more-to-rein-in-costs-to-keep-growing-in-2023-.html',\n",
       " 'https://www.cnbc.com/2023/04/28/asia-markets-to-rise-as-wall-street-rallies-investors-look-ahead-to-bank-of-japan-policy-meeting.html',\n",
       " 'https://www.cnbc.com/2023/04/27/thursdays-rally-showed-the-power-of-stock-picking-jim-cramer-says.html',\n",
       " 'https://www.cnbc.com/2023/04/27/stock-market-today-live-updates.html',\n",
       " 'https://www.cnbc.com/2023/04/27/stocks-making-the-biggest-moves-after-hours-amazon-intel-snap-pinterest-and-more.html',\n",
       " 'https://www.cnbc.com/2023/04/27/cloudflare-net-q1-earnings-report.html',\n",
       " 'https://www.cnbc.com/2023/04/27/meta-pops-on-guidance-heres-how-the-pros-are-playing-it.html',\n",
       " 'https://www.cnbc.com/2023/04/27/aws-q1-earnings-report-2023.html',\n",
       " 'https://www.cnbc.com/2023/04/27/snap-q1-earnings-report-2023.html',\n",
       " 'https://www.cnbc.com/2023/04/27/intel-intc-earnings-report-q1-2023.html',\n",
       " 'https://www.cnbc.com/2023/04/27/cnbcs-2023-stock-draft-recap-flair-likes-nvidia-mosley-picks-pg.html',\n",
       " 'https://www.cnbc.com/2023/04/27/powell-duped-by-russian-pranksters-claiming-to-be-ukraines-zelenskyy-.html']"
      ]
     },
     "execution_count": 357,
     "metadata": {},
     "output_type": "execute_result"
    }
   ],
   "source": [
    "soup = BeautifulSoup(cnbc_page.content)\n",
    "news_link = []\n",
    "for i in soup.find_all('a',class_=\"LatestNews-headline\"):\n",
    "    news_link.append(i.get('href'))\n",
    "\n",
    "news_link"
   ]
  },
  {
   "cell_type": "code",
   "execution_count": 358,
   "id": "f987b6e9",
   "metadata": {},
   "outputs": [
    {
     "data": {
      "text/html": [
       "<div>\n",
       "<style scoped>\n",
       "    .dataframe tbody tr th:only-of-type {\n",
       "        vertical-align: middle;\n",
       "    }\n",
       "\n",
       "    .dataframe tbody tr th {\n",
       "        vertical-align: top;\n",
       "    }\n",
       "\n",
       "    .dataframe thead th {\n",
       "        text-align: right;\n",
       "    }\n",
       "</style>\n",
       "<table border=\"1\" class=\"dataframe\">\n",
       "  <thead>\n",
       "    <tr style=\"text-align: right;\">\n",
       "      <th></th>\n",
       "      <th>HEADLINE</th>\n",
       "      <th>TIME</th>\n",
       "      <th>NEWS LINK</th>\n",
       "    </tr>\n",
       "  </thead>\n",
       "  <tbody>\n",
       "    <tr>\n",
       "      <th>0</th>\n",
       "      <td>Treasury yields fall as investors mull over ke...</td>\n",
       "      <td>21 Min Ago</td>\n",
       "      <td>https://www.cnbc.com/2023/04/28/us-treasury-yi...</td>\n",
       "    </tr>\n",
       "    <tr>\n",
       "      <th>1</th>\n",
       "      <td>China's top leaders say the economy doesn't ha...</td>\n",
       "      <td>1 Hour Ago</td>\n",
       "      <td>https://www.cnbc.com/2023/04/28/chinas-top-lea...</td>\n",
       "    </tr>\n",
       "    <tr>\n",
       "      <th>2</th>\n",
       "      <td>Russia launches missile attacks on several Ukr...</td>\n",
       "      <td>2 Hours Ago</td>\n",
       "      <td>https://www.cnbc.com/2023/04/28/ukraine-war-li...</td>\n",
       "    </tr>\n",
       "    <tr>\n",
       "      <th>3</th>\n",
       "      <td>Sony posts record annual profit boosted by chi...</td>\n",
       "      <td>2 Hours Ago</td>\n",
       "      <td>https://www.cnbc.com/2023/04/28/sony-earnings-...</td>\n",
       "    </tr>\n",
       "    <tr>\n",
       "      <th>4</th>\n",
       "      <td>China's A.I. chatbots haven't yet reached the ...</td>\n",
       "      <td>2 Hours Ago</td>\n",
       "      <td>https://www.cnbc.com/2023/04/28/how-chinas-cha...</td>\n",
       "    </tr>\n",
       "    <tr>\n",
       "      <th>5</th>\n",
       "      <td>European stock markets dip as investors digest...</td>\n",
       "      <td>3 Hours Ago</td>\n",
       "      <td>https://www.cnbc.com/2023/04/28/european-marke...</td>\n",
       "    </tr>\n",
       "    <tr>\n",
       "      <th>6</th>\n",
       "      <td>IMF warns of 'disorderly' house price correcti...</td>\n",
       "      <td>3 Hours Ago</td>\n",
       "      <td>https://www.cnbc.com/2023/04/28/imf-warns-of-d...</td>\n",
       "    </tr>\n",
       "    <tr>\n",
       "      <th>7</th>\n",
       "      <td>CNBC Daily Open: Markets had their best day in...</td>\n",
       "      <td>3 Hours Ago</td>\n",
       "      <td>https://www.cnbc.com/2023/04/28/stock-markets-...</td>\n",
       "    </tr>\n",
       "    <tr>\n",
       "      <th>8</th>\n",
       "      <td>Microsoft's big bet on cloud gaming is what tr...</td>\n",
       "      <td>4 Hours Ago</td>\n",
       "      <td>https://www.cnbc.com/2023/04/28/microsofts-big...</td>\n",
       "    </tr>\n",
       "    <tr>\n",
       "      <th>9</th>\n",
       "      <td>Wall Street predicted a big surge for oil this...</td>\n",
       "      <td>4 Hours Ago</td>\n",
       "      <td>https://www.cnbc.com/2023/04/28/wall-street-pr...</td>\n",
       "    </tr>\n",
       "    <tr>\n",
       "      <th>10</th>\n",
       "      <td>Obesity drug industry could be worth $200 bill...</td>\n",
       "      <td>4 Hours Ago</td>\n",
       "      <td>https://www.cnbc.com/2023/04/28/obesity-drugs-...</td>\n",
       "    </tr>\n",
       "    <tr>\n",
       "      <th>11</th>\n",
       "      <td>Swiss National Bank to face Credit Suisse and ...</td>\n",
       "      <td>4 Hours Ago</td>\n",
       "      <td>https://www.cnbc.com/2023/04/28/swiss-national...</td>\n",
       "    </tr>\n",
       "    <tr>\n",
       "      <th>12</th>\n",
       "      <td>Bank of Japan sticks to negative rates while a...</td>\n",
       "      <td>5 Hours Ago</td>\n",
       "      <td>https://www.cnbc.com/2023/04/28/bank-of-japan-...</td>\n",
       "    </tr>\n",
       "    <tr>\n",
       "      <th>13</th>\n",
       "      <td>China's SMIC will 'struggle' to make cutting-e...</td>\n",
       "      <td>7 Hours Ago</td>\n",
       "      <td>https://www.cnbc.com/2023/04/28/chinas-smic-ma...</td>\n",
       "    </tr>\n",
       "    <tr>\n",
       "      <th>14</th>\n",
       "      <td>China just called Ukraine. The timing wasn't a...</td>\n",
       "      <td>8 Hours Ago</td>\n",
       "      <td>https://www.cnbc.com/2023/04/28/why-did-china-...</td>\n",
       "    </tr>\n",
       "    <tr>\n",
       "      <th>15</th>\n",
       "      <td>This weight-loss drug maker's stock is up 20% ...</td>\n",
       "      <td>8 Hours Ago</td>\n",
       "      <td>https://www.cnbc.com/2023/04/28/this-weight-lo...</td>\n",
       "    </tr>\n",
       "    <tr>\n",
       "      <th>16</th>\n",
       "      <td>Goldman and Morgan Stanley say these chip stoc...</td>\n",
       "      <td>8 Hours Ago</td>\n",
       "      <td>https://www.cnbc.com/2023/04/28/semiconductor-...</td>\n",
       "    </tr>\n",
       "    <tr>\n",
       "      <th>17</th>\n",
       "      <td>CNBC Daily Open: Markets had their best day in...</td>\n",
       "      <td>9 Hours Ago</td>\n",
       "      <td>https://www.cnbc.com/2023/04/28/stock-markets-...</td>\n",
       "    </tr>\n",
       "    <tr>\n",
       "      <th>18</th>\n",
       "      <td>Amazon must do more to rein in costs to grow i...</td>\n",
       "      <td>9 Hours Ago</td>\n",
       "      <td>https://www.cnbc.com/2023/04/27/amazon-must-do...</td>\n",
       "    </tr>\n",
       "    <tr>\n",
       "      <th>19</th>\n",
       "      <td>Asia markets rise as Japan keeps monetary poli...</td>\n",
       "      <td>9 Hours Ago</td>\n",
       "      <td>https://www.cnbc.com/2023/04/28/asia-markets-t...</td>\n",
       "    </tr>\n",
       "    <tr>\n",
       "      <th>20</th>\n",
       "      <td>Thursday's rally showed the power of stock pic...</td>\n",
       "      <td>10 Hours Ago</td>\n",
       "      <td>https://www.cnbc.com/2023/04/27/thursdays-rall...</td>\n",
       "    </tr>\n",
       "    <tr>\n",
       "      <th>21</th>\n",
       "      <td>Stock futures fall slightly as investors diges...</td>\n",
       "      <td>11 Hours Ago</td>\n",
       "      <td>https://www.cnbc.com/2023/04/27/stock-market-t...</td>\n",
       "    </tr>\n",
       "    <tr>\n",
       "      <th>22</th>\n",
       "      <td>Stocks making the biggest moves after hours: A...</td>\n",
       "      <td>12 Hours Ago</td>\n",
       "      <td>https://www.cnbc.com/2023/04/27/stocks-making-...</td>\n",
       "    </tr>\n",
       "    <tr>\n",
       "      <th>23</th>\n",
       "      <td>Cloudflare stock plunges more than 20% after r...</td>\n",
       "      <td>12 Hours Ago</td>\n",
       "      <td>https://www.cnbc.com/2023/04/27/cloudflare-net...</td>\n",
       "    </tr>\n",
       "    <tr>\n",
       "      <th>24</th>\n",
       "      <td>Meta pops on 1Q earnings results and guidance....</td>\n",
       "      <td>12 Hours Ago</td>\n",
       "      <td>https://www.cnbc.com/2023/04/27/meta-pops-on-g...</td>\n",
       "    </tr>\n",
       "    <tr>\n",
       "      <th>25</th>\n",
       "      <td>Amazon's 18% cloud revenue growth impresses ev...</td>\n",
       "      <td>13 Hours Ago</td>\n",
       "      <td>https://www.cnbc.com/2023/04/27/aws-q1-earning...</td>\n",
       "    </tr>\n",
       "    <tr>\n",
       "      <th>26</th>\n",
       "      <td>Snap plunges on first-quarter revenue miss</td>\n",
       "      <td>13 Hours Ago</td>\n",
       "      <td>https://www.cnbc.com/2023/04/27/snap-q1-earnin...</td>\n",
       "    </tr>\n",
       "    <tr>\n",
       "      <th>27</th>\n",
       "      <td>Intel reports largest quarterly loss in compan...</td>\n",
       "      <td>13 Hours Ago</td>\n",
       "      <td>https://www.cnbc.com/2023/04/27/intel-intc-ear...</td>\n",
       "    </tr>\n",
       "    <tr>\n",
       "      <th>28</th>\n",
       "      <td>Here’s a full recap of CNBC’s 2023 Stock Draft</td>\n",
       "      <td>13 Hours Ago</td>\n",
       "      <td>https://www.cnbc.com/2023/04/27/cnbcs-2023-sto...</td>\n",
       "    </tr>\n",
       "    <tr>\n",
       "      <th>29</th>\n",
       "      <td>Powell duped by Russian pranksters claiming to...</td>\n",
       "      <td>13 Hours Ago</td>\n",
       "      <td>https://www.cnbc.com/2023/04/27/powell-duped-b...</td>\n",
       "    </tr>\n",
       "  </tbody>\n",
       "</table>\n",
       "</div>"
      ],
      "text/plain": [
       "                                             HEADLINE          TIME  \\\n",
       "0   Treasury yields fall as investors mull over ke...    21 Min Ago   \n",
       "1   China's top leaders say the economy doesn't ha...    1 Hour Ago   \n",
       "2   Russia launches missile attacks on several Ukr...   2 Hours Ago   \n",
       "3   Sony posts record annual profit boosted by chi...   2 Hours Ago   \n",
       "4   China's A.I. chatbots haven't yet reached the ...   2 Hours Ago   \n",
       "5   European stock markets dip as investors digest...   3 Hours Ago   \n",
       "6   IMF warns of 'disorderly' house price correcti...   3 Hours Ago   \n",
       "7   CNBC Daily Open: Markets had their best day in...   3 Hours Ago   \n",
       "8   Microsoft's big bet on cloud gaming is what tr...   4 Hours Ago   \n",
       "9   Wall Street predicted a big surge for oil this...   4 Hours Ago   \n",
       "10  Obesity drug industry could be worth $200 bill...   4 Hours Ago   \n",
       "11  Swiss National Bank to face Credit Suisse and ...   4 Hours Ago   \n",
       "12  Bank of Japan sticks to negative rates while a...   5 Hours Ago   \n",
       "13  China's SMIC will 'struggle' to make cutting-e...   7 Hours Ago   \n",
       "14  China just called Ukraine. The timing wasn't a...   8 Hours Ago   \n",
       "15  This weight-loss drug maker's stock is up 20% ...   8 Hours Ago   \n",
       "16  Goldman and Morgan Stanley say these chip stoc...   8 Hours Ago   \n",
       "17  CNBC Daily Open: Markets had their best day in...   9 Hours Ago   \n",
       "18  Amazon must do more to rein in costs to grow i...   9 Hours Ago   \n",
       "19  Asia markets rise as Japan keeps monetary poli...   9 Hours Ago   \n",
       "20  Thursday's rally showed the power of stock pic...  10 Hours Ago   \n",
       "21  Stock futures fall slightly as investors diges...  11 Hours Ago   \n",
       "22  Stocks making the biggest moves after hours: A...  12 Hours Ago   \n",
       "23  Cloudflare stock plunges more than 20% after r...  12 Hours Ago   \n",
       "24  Meta pops on 1Q earnings results and guidance....  12 Hours Ago   \n",
       "25  Amazon's 18% cloud revenue growth impresses ev...  13 Hours Ago   \n",
       "26         Snap plunges on first-quarter revenue miss  13 Hours Ago   \n",
       "27  Intel reports largest quarterly loss in compan...  13 Hours Ago   \n",
       "28     Here’s a full recap of CNBC’s 2023 Stock Draft  13 Hours Ago   \n",
       "29  Powell duped by Russian pranksters claiming to...  13 Hours Ago   \n",
       "\n",
       "                                            NEWS LINK  \n",
       "0   https://www.cnbc.com/2023/04/28/us-treasury-yi...  \n",
       "1   https://www.cnbc.com/2023/04/28/chinas-top-lea...  \n",
       "2   https://www.cnbc.com/2023/04/28/ukraine-war-li...  \n",
       "3   https://www.cnbc.com/2023/04/28/sony-earnings-...  \n",
       "4   https://www.cnbc.com/2023/04/28/how-chinas-cha...  \n",
       "5   https://www.cnbc.com/2023/04/28/european-marke...  \n",
       "6   https://www.cnbc.com/2023/04/28/imf-warns-of-d...  \n",
       "7   https://www.cnbc.com/2023/04/28/stock-markets-...  \n",
       "8   https://www.cnbc.com/2023/04/28/microsofts-big...  \n",
       "9   https://www.cnbc.com/2023/04/28/wall-street-pr...  \n",
       "10  https://www.cnbc.com/2023/04/28/obesity-drugs-...  \n",
       "11  https://www.cnbc.com/2023/04/28/swiss-national...  \n",
       "12  https://www.cnbc.com/2023/04/28/bank-of-japan-...  \n",
       "13  https://www.cnbc.com/2023/04/28/chinas-smic-ma...  \n",
       "14  https://www.cnbc.com/2023/04/28/why-did-china-...  \n",
       "15  https://www.cnbc.com/2023/04/28/this-weight-lo...  \n",
       "16  https://www.cnbc.com/2023/04/28/semiconductor-...  \n",
       "17  https://www.cnbc.com/2023/04/28/stock-markets-...  \n",
       "18  https://www.cnbc.com/2023/04/27/amazon-must-do...  \n",
       "19  https://www.cnbc.com/2023/04/28/asia-markets-t...  \n",
       "20  https://www.cnbc.com/2023/04/27/thursdays-rall...  \n",
       "21  https://www.cnbc.com/2023/04/27/stock-market-t...  \n",
       "22  https://www.cnbc.com/2023/04/27/stocks-making-...  \n",
       "23  https://www.cnbc.com/2023/04/27/cloudflare-net...  \n",
       "24  https://www.cnbc.com/2023/04/27/meta-pops-on-g...  \n",
       "25  https://www.cnbc.com/2023/04/27/aws-q1-earning...  \n",
       "26  https://www.cnbc.com/2023/04/27/snap-q1-earnin...  \n",
       "27  https://www.cnbc.com/2023/04/27/intel-intc-ear...  \n",
       "28  https://www.cnbc.com/2023/04/27/cnbcs-2023-sto...  \n",
       "29  https://www.cnbc.com/2023/04/27/powell-duped-b...  "
      ]
     },
     "execution_count": 358,
     "metadata": {},
     "output_type": "execute_result"
    }
   ],
   "source": [
    "df10 = pd.DataFrame({'HEADLINE':headline,'TIME':time,'NEWS LINK':news_link})\n",
    "df10"
   ]
  },
  {
   "cell_type": "markdown",
   "id": "93ecf160",
   "metadata": {},
   "source": [
    "# 8. Write a python program to scrape the details of most downloaded articles from AI in last 90 days.https://www.journals.elsevier.com/artificial-intelligence/most-downloaded-articles Scrape below mentioned details and make data frame\n",
    "\n",
    "i) Paper Title\n",
    "ii) Authors\n",
    "iii) Published Date\n",
    "iv) Paper URL"
   ]
  },
  {
   "cell_type": "code",
   "execution_count": 360,
   "id": "4121e7aa",
   "metadata": {},
   "outputs": [
    {
     "data": {
      "text/plain": [
       "<Response [200]>"
      ]
     },
     "execution_count": 360,
     "metadata": {},
     "output_type": "execute_result"
    }
   ],
   "source": [
    "ai_page = requests.get('https://www.journals.elsevier.com/artificial-intelligence/most-downloaded-articles')\n",
    "ai_page"
   ]
  },
  {
   "cell_type": "code",
   "execution_count": 361,
   "id": "f50b380b",
   "metadata": {},
   "outputs": [
    {
     "data": {
      "text/plain": [
       "['Reward is enough',\n",
       " 'Making sense of raw input',\n",
       " 'Law and logic: A review from an argumentation perspective',\n",
       " 'Creativity and artificial intelligence',\n",
       " 'Artificial cognition for social human–robot interaction: An implementation',\n",
       " 'Explanation in artificial intelligence: Insights from the social sciences',\n",
       " 'Making sense of sensory input',\n",
       " 'Conflict-based search for optimal multi-agent pathfinding',\n",
       " 'Between MDPs and semi-MDPs: A framework for temporal abstraction in reinforcement learning',\n",
       " 'The Hanabi challenge: A new frontier for AI research',\n",
       " 'Evaluating XAI: A comparison of rule-based and example-based explanations',\n",
       " 'Argumentation in artificial intelligence',\n",
       " 'Algorithms for computing strategies in two-player simultaneous move games',\n",
       " 'Multiple object tracking: A literature review',\n",
       " 'Selection of relevant features and examples in machine learning',\n",
       " 'A survey of inverse reinforcement learning: Challenges, methods and progress',\n",
       " 'Explaining individual predictions when features are dependent: More accurate approximations to Shapley values',\n",
       " 'A review of possible effects of cognitive biases on interpretation of rule-based machine learning models',\n",
       " 'Integrating social power into the decision-making of cognitive agents',\n",
       " \"“That's (not) the output I expected!” On the role of end user expectations in creating explanations of AI systems\",\n",
       " 'Explaining black-box classifiers using post-hoc explanations-by-example: The effect of explanations and error-rates in XAI user studies',\n",
       " 'Algorithm runtime prediction: Methods & evaluation',\n",
       " 'Wrappers for feature subset selection',\n",
       " 'Commonsense visual sensemaking for autonomous driving – On generalised neurosymbolic online abduction integrating vision and semantics',\n",
       " 'Quantum computation, quantum theory and AI']"
      ]
     },
     "execution_count": 361,
     "metadata": {},
     "output_type": "execute_result"
    }
   ],
   "source": [
    "soup = BeautifulSoup(ai_page.content)\n",
    "title = []\n",
    "for i in soup.find_all('h2',class_=\"sc-1qrq3sd-1 gRGSUS sc-1nmom32-0 sc-1nmom32-1 btcbYu goSKRg\"):\n",
    "    title.append(i.text)\n",
    "\n",
    "title"
   ]
  },
  {
   "cell_type": "code",
   "execution_count": 362,
   "id": "eebf9d41",
   "metadata": {},
   "outputs": [
    {
     "data": {
      "text/plain": [
       "['Silver, David, Singh, Satinder, Precup, Doina, Sutton, Richard S. ',\n",
       " 'Evans, Richard, Bošnjak, Matko and 5 more',\n",
       " 'Prakken, Henry, Sartor, Giovanni ',\n",
       " 'Boden, Margaret A. ',\n",
       " 'Lemaignan, Séverin, Warnier, Mathieu and 3 more',\n",
       " 'Miller, Tim ',\n",
       " 'Evans, Richard, Hernández-Orallo, José and 3 more',\n",
       " 'Sharon, Guni, Stern, Roni, Felner, Ariel, Sturtevant, Nathan R. ',\n",
       " 'Sutton, Richard S., Precup, Doina, Singh, Satinder ',\n",
       " 'Bard, Nolan, Foerster, Jakob N. and 13 more',\n",
       " 'van der Waa, Jasper, Nieuwburg, Elisabeth, Cremers, Anita, Neerincx, Mark ',\n",
       " 'Bench-Capon, T.J.M., Dunne, Paul E. ',\n",
       " 'Bošanský, Branislav, Lisý, Viliam and 3 more',\n",
       " 'Luo, Wenhan, Xing, Junliang and 4 more',\n",
       " 'Blum, Avrim L., Langley, Pat ',\n",
       " 'Arora, Saurabh, Doshi, Prashant ',\n",
       " 'Aas, Kjersti, Jullum, Martin, Løland, Anders ',\n",
       " 'Kliegr, Tomáš, Bahník, Štěpán, Fürnkranz, Johannes ',\n",
       " 'Pereira, Gonçalo, Prada, Rui, Santos, Pedro A. ',\n",
       " 'Riveiro, Maria, Thill, Serge ',\n",
       " 'Kenny, Eoin M., Ford, Courtney, Quinn, Molly, Keane, Mark T. ',\n",
       " 'Hutter, Frank, Xu, Lin, Hoos, Holger H., Leyton-Brown, Kevin ',\n",
       " 'Kohavi, Ron, John, George H. ',\n",
       " 'Suchan, Jakob, Bhatt, Mehul, Varadarajan, Srikrishna ',\n",
       " 'Ying, Mingsheng ']"
      ]
     },
     "execution_count": 362,
     "metadata": {},
     "output_type": "execute_result"
    }
   ],
   "source": [
    "authors = []\n",
    "for i in soup.find_all('span',class_=\"sc-1w3fpd7-0 dnCnAO\"):\n",
    "    authors.append(i.text)\n",
    "\n",
    "authors"
   ]
  },
  {
   "cell_type": "code",
   "execution_count": 363,
   "id": "659548aa",
   "metadata": {},
   "outputs": [
    {
     "data": {
      "text/plain": [
       "['October 2021',\n",
       " 'October 2021',\n",
       " 'October 2015',\n",
       " 'August 1998',\n",
       " 'June 2017',\n",
       " 'February 2019',\n",
       " 'April 2021',\n",
       " 'February 2015',\n",
       " 'August 1999',\n",
       " 'March 2020',\n",
       " 'February 2021',\n",
       " 'October 2007',\n",
       " 'August 2016',\n",
       " 'April 2021',\n",
       " 'December 1997',\n",
       " 'August 2021',\n",
       " 'September 2021',\n",
       " 'June 2021',\n",
       " 'December 2016',\n",
       " 'September 2021',\n",
       " 'May 2021',\n",
       " 'January 2014',\n",
       " 'December 1997',\n",
       " 'October 2021',\n",
       " 'February 2010']"
      ]
     },
     "execution_count": 363,
     "metadata": {},
     "output_type": "execute_result"
    }
   ],
   "source": [
    "date = []\n",
    "for i in soup.find_all('span',class_=\"sc-1thf9ly-2 dvggWt\"):\n",
    "    date.append(i.text)\n",
    "\n",
    "date"
   ]
  },
  {
   "cell_type": "code",
   "execution_count": 364,
   "id": "2c10ea67",
   "metadata": {},
   "outputs": [
    {
     "data": {
      "text/plain": [
       "['https://www.sciencedirect.com/science/article/pii/S0004370221000862',\n",
       " 'https://www.sciencedirect.com/science/article/pii/S0004370221000722',\n",
       " 'https://www.sciencedirect.com/science/article/pii/S0004370215000910',\n",
       " 'https://www.sciencedirect.com/science/article/pii/S0004370298000551',\n",
       " 'https://www.sciencedirect.com/science/article/pii/S0004370216300790',\n",
       " 'https://www.sciencedirect.com/science/article/pii/S0004370218305988',\n",
       " 'https://www.sciencedirect.com/science/article/pii/S0004370220301855',\n",
       " 'https://www.sciencedirect.com/science/article/pii/S0004370214001386',\n",
       " 'https://www.sciencedirect.com/science/article/pii/S0004370299000521',\n",
       " 'https://www.sciencedirect.com/science/article/pii/S0004370219300116',\n",
       " 'https://www.sciencedirect.com/science/article/pii/S0004370220301533',\n",
       " 'https://www.sciencedirect.com/science/article/pii/S0004370207000793',\n",
       " 'https://www.sciencedirect.com/science/article/pii/S0004370216300285',\n",
       " 'https://www.sciencedirect.com/science/article/pii/S0004370220301958',\n",
       " 'https://www.sciencedirect.com/science/article/pii/S0004370297000635',\n",
       " 'https://www.sciencedirect.com/science/article/pii/S0004370221000515',\n",
       " 'https://www.sciencedirect.com/science/article/pii/S0004370221000539',\n",
       " 'https://www.sciencedirect.com/science/article/pii/S0004370221000096',\n",
       " 'https://www.sciencedirect.com/science/article/pii/S0004370216300868',\n",
       " 'https://www.sciencedirect.com/science/article/pii/S0004370221000588',\n",
       " 'https://www.sciencedirect.com/science/article/pii/S0004370221000102',\n",
       " 'https://www.sciencedirect.com/science/article/pii/S0004370213001082',\n",
       " 'https://www.sciencedirect.com/science/article/pii/S000437029700043X',\n",
       " 'https://www.sciencedirect.com/science/article/pii/S0004370221000734',\n",
       " 'https://www.sciencedirect.com/science/article/pii/S0004370209001398']"
      ]
     },
     "execution_count": 364,
     "metadata": {},
     "output_type": "execute_result"
    }
   ],
   "source": [
    "url = []\n",
    "for i in soup.find_all('a',class_=\"sc-5smygv-0 fIXTHm\"):\n",
    "    url.append(i.get('href'))\n",
    "\n",
    "url"
   ]
  },
  {
   "cell_type": "code",
   "execution_count": 366,
   "id": "78fe0f75",
   "metadata": {},
   "outputs": [
    {
     "data": {
      "text/html": [
       "<div>\n",
       "<style scoped>\n",
       "    .dataframe tbody tr th:only-of-type {\n",
       "        vertical-align: middle;\n",
       "    }\n",
       "\n",
       "    .dataframe tbody tr th {\n",
       "        vertical-align: top;\n",
       "    }\n",
       "\n",
       "    .dataframe thead th {\n",
       "        text-align: right;\n",
       "    }\n",
       "</style>\n",
       "<table border=\"1\" class=\"dataframe\">\n",
       "  <thead>\n",
       "    <tr style=\"text-align: right;\">\n",
       "      <th></th>\n",
       "      <th>PAPER TITLE</th>\n",
       "      <th>AUTHORS</th>\n",
       "      <th>PUBLISHED DATE</th>\n",
       "      <th>PAPER URL</th>\n",
       "    </tr>\n",
       "  </thead>\n",
       "  <tbody>\n",
       "    <tr>\n",
       "      <th>0</th>\n",
       "      <td>Reward is enough</td>\n",
       "      <td>Silver, David, Singh, Satinder, Precup, Doina,...</td>\n",
       "      <td>October 2021</td>\n",
       "      <td>https://www.sciencedirect.com/science/article/...</td>\n",
       "    </tr>\n",
       "    <tr>\n",
       "      <th>1</th>\n",
       "      <td>Making sense of raw input</td>\n",
       "      <td>Evans, Richard, Bošnjak, Matko and 5 more</td>\n",
       "      <td>October 2021</td>\n",
       "      <td>https://www.sciencedirect.com/science/article/...</td>\n",
       "    </tr>\n",
       "    <tr>\n",
       "      <th>2</th>\n",
       "      <td>Law and logic: A review from an argumentation ...</td>\n",
       "      <td>Prakken, Henry, Sartor, Giovanni</td>\n",
       "      <td>October 2015</td>\n",
       "      <td>https://www.sciencedirect.com/science/article/...</td>\n",
       "    </tr>\n",
       "    <tr>\n",
       "      <th>3</th>\n",
       "      <td>Creativity and artificial intelligence</td>\n",
       "      <td>Boden, Margaret A.</td>\n",
       "      <td>August 1998</td>\n",
       "      <td>https://www.sciencedirect.com/science/article/...</td>\n",
       "    </tr>\n",
       "    <tr>\n",
       "      <th>4</th>\n",
       "      <td>Artificial cognition for social human–robot in...</td>\n",
       "      <td>Lemaignan, Séverin, Warnier, Mathieu and 3 more</td>\n",
       "      <td>June 2017</td>\n",
       "      <td>https://www.sciencedirect.com/science/article/...</td>\n",
       "    </tr>\n",
       "    <tr>\n",
       "      <th>5</th>\n",
       "      <td>Explanation in artificial intelligence: Insigh...</td>\n",
       "      <td>Miller, Tim</td>\n",
       "      <td>February 2019</td>\n",
       "      <td>https://www.sciencedirect.com/science/article/...</td>\n",
       "    </tr>\n",
       "    <tr>\n",
       "      <th>6</th>\n",
       "      <td>Making sense of sensory input</td>\n",
       "      <td>Evans, Richard, Hernández-Orallo, José and 3 more</td>\n",
       "      <td>April 2021</td>\n",
       "      <td>https://www.sciencedirect.com/science/article/...</td>\n",
       "    </tr>\n",
       "    <tr>\n",
       "      <th>7</th>\n",
       "      <td>Conflict-based search for optimal multi-agent ...</td>\n",
       "      <td>Sharon, Guni, Stern, Roni, Felner, Ariel, Stur...</td>\n",
       "      <td>February 2015</td>\n",
       "      <td>https://www.sciencedirect.com/science/article/...</td>\n",
       "    </tr>\n",
       "    <tr>\n",
       "      <th>8</th>\n",
       "      <td>Between MDPs and semi-MDPs: A framework for te...</td>\n",
       "      <td>Sutton, Richard S., Precup, Doina, Singh, Sati...</td>\n",
       "      <td>August 1999</td>\n",
       "      <td>https://www.sciencedirect.com/science/article/...</td>\n",
       "    </tr>\n",
       "    <tr>\n",
       "      <th>9</th>\n",
       "      <td>The Hanabi challenge: A new frontier for AI re...</td>\n",
       "      <td>Bard, Nolan, Foerster, Jakob N. and 13 more</td>\n",
       "      <td>March 2020</td>\n",
       "      <td>https://www.sciencedirect.com/science/article/...</td>\n",
       "    </tr>\n",
       "    <tr>\n",
       "      <th>10</th>\n",
       "      <td>Evaluating XAI: A comparison of rule-based and...</td>\n",
       "      <td>van der Waa, Jasper, Nieuwburg, Elisabeth, Cre...</td>\n",
       "      <td>February 2021</td>\n",
       "      <td>https://www.sciencedirect.com/science/article/...</td>\n",
       "    </tr>\n",
       "    <tr>\n",
       "      <th>11</th>\n",
       "      <td>Argumentation in artificial intelligence</td>\n",
       "      <td>Bench-Capon, T.J.M., Dunne, Paul E.</td>\n",
       "      <td>October 2007</td>\n",
       "      <td>https://www.sciencedirect.com/science/article/...</td>\n",
       "    </tr>\n",
       "    <tr>\n",
       "      <th>12</th>\n",
       "      <td>Algorithms for computing strategies in two-pla...</td>\n",
       "      <td>Bošanský, Branislav, Lisý, Viliam and 3 more</td>\n",
       "      <td>August 2016</td>\n",
       "      <td>https://www.sciencedirect.com/science/article/...</td>\n",
       "    </tr>\n",
       "    <tr>\n",
       "      <th>13</th>\n",
       "      <td>Multiple object tracking: A literature review</td>\n",
       "      <td>Luo, Wenhan, Xing, Junliang and 4 more</td>\n",
       "      <td>April 2021</td>\n",
       "      <td>https://www.sciencedirect.com/science/article/...</td>\n",
       "    </tr>\n",
       "    <tr>\n",
       "      <th>14</th>\n",
       "      <td>Selection of relevant features and examples in...</td>\n",
       "      <td>Blum, Avrim L., Langley, Pat</td>\n",
       "      <td>December 1997</td>\n",
       "      <td>https://www.sciencedirect.com/science/article/...</td>\n",
       "    </tr>\n",
       "    <tr>\n",
       "      <th>15</th>\n",
       "      <td>A survey of inverse reinforcement learning: Ch...</td>\n",
       "      <td>Arora, Saurabh, Doshi, Prashant</td>\n",
       "      <td>August 2021</td>\n",
       "      <td>https://www.sciencedirect.com/science/article/...</td>\n",
       "    </tr>\n",
       "    <tr>\n",
       "      <th>16</th>\n",
       "      <td>Explaining individual predictions when feature...</td>\n",
       "      <td>Aas, Kjersti, Jullum, Martin, Løland, Anders</td>\n",
       "      <td>September 2021</td>\n",
       "      <td>https://www.sciencedirect.com/science/article/...</td>\n",
       "    </tr>\n",
       "    <tr>\n",
       "      <th>17</th>\n",
       "      <td>A review of possible effects of cognitive bias...</td>\n",
       "      <td>Kliegr, Tomáš, Bahník, Štěpán, Fürnkranz, Joha...</td>\n",
       "      <td>June 2021</td>\n",
       "      <td>https://www.sciencedirect.com/science/article/...</td>\n",
       "    </tr>\n",
       "    <tr>\n",
       "      <th>18</th>\n",
       "      <td>Integrating social power into the decision-mak...</td>\n",
       "      <td>Pereira, Gonçalo, Prada, Rui, Santos, Pedro A.</td>\n",
       "      <td>December 2016</td>\n",
       "      <td>https://www.sciencedirect.com/science/article/...</td>\n",
       "    </tr>\n",
       "    <tr>\n",
       "      <th>19</th>\n",
       "      <td>“That's (not) the output I expected!” On the r...</td>\n",
       "      <td>Riveiro, Maria, Thill, Serge</td>\n",
       "      <td>September 2021</td>\n",
       "      <td>https://www.sciencedirect.com/science/article/...</td>\n",
       "    </tr>\n",
       "    <tr>\n",
       "      <th>20</th>\n",
       "      <td>Explaining black-box classifiers using post-ho...</td>\n",
       "      <td>Kenny, Eoin M., Ford, Courtney, Quinn, Molly, ...</td>\n",
       "      <td>May 2021</td>\n",
       "      <td>https://www.sciencedirect.com/science/article/...</td>\n",
       "    </tr>\n",
       "    <tr>\n",
       "      <th>21</th>\n",
       "      <td>Algorithm runtime prediction: Methods &amp; evalua...</td>\n",
       "      <td>Hutter, Frank, Xu, Lin, Hoos, Holger H., Leyto...</td>\n",
       "      <td>January 2014</td>\n",
       "      <td>https://www.sciencedirect.com/science/article/...</td>\n",
       "    </tr>\n",
       "    <tr>\n",
       "      <th>22</th>\n",
       "      <td>Wrappers for feature subset selection</td>\n",
       "      <td>Kohavi, Ron, John, George H.</td>\n",
       "      <td>December 1997</td>\n",
       "      <td>https://www.sciencedirect.com/science/article/...</td>\n",
       "    </tr>\n",
       "    <tr>\n",
       "      <th>23</th>\n",
       "      <td>Commonsense visual sensemaking for autonomous ...</td>\n",
       "      <td>Suchan, Jakob, Bhatt, Mehul, Varadarajan, Srik...</td>\n",
       "      <td>October 2021</td>\n",
       "      <td>https://www.sciencedirect.com/science/article/...</td>\n",
       "    </tr>\n",
       "    <tr>\n",
       "      <th>24</th>\n",
       "      <td>Quantum computation, quantum theory and AI</td>\n",
       "      <td>Ying, Mingsheng</td>\n",
       "      <td>February 2010</td>\n",
       "      <td>https://www.sciencedirect.com/science/article/...</td>\n",
       "    </tr>\n",
       "  </tbody>\n",
       "</table>\n",
       "</div>"
      ],
      "text/plain": [
       "                                          PAPER TITLE  \\\n",
       "0                                    Reward is enough   \n",
       "1                           Making sense of raw input   \n",
       "2   Law and logic: A review from an argumentation ...   \n",
       "3              Creativity and artificial intelligence   \n",
       "4   Artificial cognition for social human–robot in...   \n",
       "5   Explanation in artificial intelligence: Insigh...   \n",
       "6                       Making sense of sensory input   \n",
       "7   Conflict-based search for optimal multi-agent ...   \n",
       "8   Between MDPs and semi-MDPs: A framework for te...   \n",
       "9   The Hanabi challenge: A new frontier for AI re...   \n",
       "10  Evaluating XAI: A comparison of rule-based and...   \n",
       "11           Argumentation in artificial intelligence   \n",
       "12  Algorithms for computing strategies in two-pla...   \n",
       "13      Multiple object tracking: A literature review   \n",
       "14  Selection of relevant features and examples in...   \n",
       "15  A survey of inverse reinforcement learning: Ch...   \n",
       "16  Explaining individual predictions when feature...   \n",
       "17  A review of possible effects of cognitive bias...   \n",
       "18  Integrating social power into the decision-mak...   \n",
       "19  “That's (not) the output I expected!” On the r...   \n",
       "20  Explaining black-box classifiers using post-ho...   \n",
       "21  Algorithm runtime prediction: Methods & evalua...   \n",
       "22              Wrappers for feature subset selection   \n",
       "23  Commonsense visual sensemaking for autonomous ...   \n",
       "24         Quantum computation, quantum theory and AI   \n",
       "\n",
       "                                              AUTHORS  PUBLISHED DATE  \\\n",
       "0   Silver, David, Singh, Satinder, Precup, Doina,...    October 2021   \n",
       "1           Evans, Richard, Bošnjak, Matko and 5 more    October 2021   \n",
       "2                   Prakken, Henry, Sartor, Giovanni     October 2015   \n",
       "3                                 Boden, Margaret A.      August 1998   \n",
       "4     Lemaignan, Séverin, Warnier, Mathieu and 3 more       June 2017   \n",
       "5                                        Miller, Tim    February 2019   \n",
       "6   Evans, Richard, Hernández-Orallo, José and 3 more      April 2021   \n",
       "7   Sharon, Guni, Stern, Roni, Felner, Ariel, Stur...   February 2015   \n",
       "8   Sutton, Richard S., Precup, Doina, Singh, Sati...     August 1999   \n",
       "9         Bard, Nolan, Foerster, Jakob N. and 13 more      March 2020   \n",
       "10  van der Waa, Jasper, Nieuwburg, Elisabeth, Cre...   February 2021   \n",
       "11               Bench-Capon, T.J.M., Dunne, Paul E.     October 2007   \n",
       "12       Bošanský, Branislav, Lisý, Viliam and 3 more     August 2016   \n",
       "13             Luo, Wenhan, Xing, Junliang and 4 more      April 2021   \n",
       "14                      Blum, Avrim L., Langley, Pat    December 1997   \n",
       "15                   Arora, Saurabh, Doshi, Prashant      August 2021   \n",
       "16      Aas, Kjersti, Jullum, Martin, Løland, Anders   September 2021   \n",
       "17  Kliegr, Tomáš, Bahník, Štěpán, Fürnkranz, Joha...       June 2021   \n",
       "18    Pereira, Gonçalo, Prada, Rui, Santos, Pedro A.    December 2016   \n",
       "19                      Riveiro, Maria, Thill, Serge   September 2021   \n",
       "20  Kenny, Eoin M., Ford, Courtney, Quinn, Molly, ...        May 2021   \n",
       "21  Hutter, Frank, Xu, Lin, Hoos, Holger H., Leyto...    January 2014   \n",
       "22                      Kohavi, Ron, John, George H.    December 1997   \n",
       "23  Suchan, Jakob, Bhatt, Mehul, Varadarajan, Srik...    October 2021   \n",
       "24                                   Ying, Mingsheng    February 2010   \n",
       "\n",
       "                                            PAPER URL  \n",
       "0   https://www.sciencedirect.com/science/article/...  \n",
       "1   https://www.sciencedirect.com/science/article/...  \n",
       "2   https://www.sciencedirect.com/science/article/...  \n",
       "3   https://www.sciencedirect.com/science/article/...  \n",
       "4   https://www.sciencedirect.com/science/article/...  \n",
       "5   https://www.sciencedirect.com/science/article/...  \n",
       "6   https://www.sciencedirect.com/science/article/...  \n",
       "7   https://www.sciencedirect.com/science/article/...  \n",
       "8   https://www.sciencedirect.com/science/article/...  \n",
       "9   https://www.sciencedirect.com/science/article/...  \n",
       "10  https://www.sciencedirect.com/science/article/...  \n",
       "11  https://www.sciencedirect.com/science/article/...  \n",
       "12  https://www.sciencedirect.com/science/article/...  \n",
       "13  https://www.sciencedirect.com/science/article/...  \n",
       "14  https://www.sciencedirect.com/science/article/...  \n",
       "15  https://www.sciencedirect.com/science/article/...  \n",
       "16  https://www.sciencedirect.com/science/article/...  \n",
       "17  https://www.sciencedirect.com/science/article/...  \n",
       "18  https://www.sciencedirect.com/science/article/...  \n",
       "19  https://www.sciencedirect.com/science/article/...  \n",
       "20  https://www.sciencedirect.com/science/article/...  \n",
       "21  https://www.sciencedirect.com/science/article/...  \n",
       "22  https://www.sciencedirect.com/science/article/...  \n",
       "23  https://www.sciencedirect.com/science/article/...  \n",
       "24  https://www.sciencedirect.com/science/article/...  "
      ]
     },
     "execution_count": 366,
     "metadata": {},
     "output_type": "execute_result"
    }
   ],
   "source": [
    "df11 = pd.DataFrame({'PAPER TITLE':title,'AUTHORS':authors,'PUBLISHED DATE':date,'PAPER URL':url})\n",
    "df11"
   ]
  },
  {
   "cell_type": "markdown",
   "id": "7109727e",
   "metadata": {},
   "source": [
    "# 9. Write a python program to scrape mentioned details from dineout.co.in and make data frame\n",
    "\n",
    "i) Restaurant name\n",
    "ii) Cuisine\n",
    "iii) Location\n",
    "iv) Ratings\n",
    "v) Image URL"
   ]
  },
  {
   "cell_type": "code",
   "execution_count": 367,
   "id": "c0131111",
   "metadata": {},
   "outputs": [
    {
     "data": {
      "text/plain": [
       "<Response [200]>"
      ]
     },
     "execution_count": 367,
     "metadata": {},
     "output_type": "execute_result"
    }
   ],
   "source": [
    "dine_page = requests.get('https://www.dineout.co.in/delhi-restaurants/buffet-special')\n",
    "dine_page"
   ]
  },
  {
   "cell_type": "code",
   "execution_count": 368,
   "id": "5d670968",
   "metadata": {},
   "outputs": [
    {
     "data": {
      "text/plain": [
       "['Castle Barbeque',\n",
       " 'Jungle Jamboree',\n",
       " 'Cafe Knosh',\n",
       " 'Castle Barbeque',\n",
       " 'The Barbeque Company',\n",
       " 'India Grill',\n",
       " 'Delhi Barbeque',\n",
       " 'The Monarch - Bar Be Que Village',\n",
       " 'Indian Grill Room']"
      ]
     },
     "execution_count": 368,
     "metadata": {},
     "output_type": "execute_result"
    }
   ],
   "source": [
    "soup = BeautifulSoup(dine_page.content)\n",
    "r_name = []\n",
    "for i in soup.find_all('a',class_=\"restnt-name ellipsis\"):\n",
    "    r_name.append(i.text)\n",
    "\n",
    "r_name"
   ]
  },
  {
   "cell_type": "code",
   "execution_count": 374,
   "id": "6fee2309",
   "metadata": {},
   "outputs": [
    {
     "data": {
      "text/plain": [
       "['₹ 2,000 for 2 (approx) | Chinese, North Indian',\n",
       " '₹ 1,680 for 2 (approx) | North Indian, Asian, Italian',\n",
       " '₹ 3,000 for 2 (approx) | Italian, Continental',\n",
       " '₹ 2,000 for 2 (approx) | Chinese, North Indian',\n",
       " '₹ 1,700 for 2 (approx) | North Indian, Chinese',\n",
       " '₹ 2,400 for 2 (approx) | North Indian, Italian',\n",
       " '₹ 1,800 for 2 (approx) | North Indian',\n",
       " '₹ 1,900 for 2 (approx) | North Indian',\n",
       " '₹ 2,200 for 2 (approx) | North Indian, Mughlai']"
      ]
     },
     "execution_count": 374,
     "metadata": {},
     "output_type": "execute_result"
    }
   ],
   "source": [
    "cuisine = []\n",
    "for i in soup.find_all('span',class_=\"double-line-ellipsis\"):\n",
    "    cuisine.append(i.text)\n",
    "\n",
    "cuisine"
   ]
  },
  {
   "cell_type": "code",
   "execution_count": 381,
   "id": "dbf8da65",
   "metadata": {},
   "outputs": [
    {
     "data": {
      "text/plain": [
       "['Chinese, North Indian',\n",
       " 'North Indian, Asian, Italian',\n",
       " 'Italian, Continental',\n",
       " 'Chinese, North Indian',\n",
       " 'North Indian, Chinese',\n",
       " 'North Indian, Italian',\n",
       " 'North Indian',\n",
       " 'North Indian',\n",
       " 'North Indian, Mughlai']"
      ]
     },
     "execution_count": 381,
     "metadata": {},
     "output_type": "execute_result"
    }
   ],
   "source": [
    "cuisine1 = [s.split(\"|\")[1].strip() for s in cuisine]\n",
    "cuisine1"
   ]
  },
  {
   "cell_type": "code",
   "execution_count": 372,
   "id": "1edb8825",
   "metadata": {},
   "outputs": [
    {
     "data": {
      "text/plain": [
       "['Connaught Place, Central Delhi',\n",
       " '3CS Mall,Lajpat Nagar - 3, South Delhi',\n",
       " 'The Leela Ambience Convention Hotel,Shahdara, East Delhi',\n",
       " 'Pacific Mall,Tagore Garden, West Delhi',\n",
       " 'Gardens Galleria,Sector 38A, Noida',\n",
       " 'Hilton Garden Inn,Saket, South Delhi',\n",
       " 'Taurus Sarovar Portico,Mahipalpur, South Delhi',\n",
       " 'Indirapuram Habitat Centre,Indirapuram, Ghaziabad',\n",
       " 'Suncity Business Tower,Golf Course Road, Gurgaon']"
      ]
     },
     "execution_count": 372,
     "metadata": {},
     "output_type": "execute_result"
    }
   ],
   "source": [
    "location = []\n",
    "for i in soup.find_all('div',class_=\"restnt-loc ellipsis\"):\n",
    "    location.append(i.text)\n",
    "\n",
    "location"
   ]
  },
  {
   "cell_type": "code",
   "execution_count": 382,
   "id": "259a73f4",
   "metadata": {},
   "outputs": [
    {
     "data": {
      "text/plain": [
       "['4', '3.9', '4.3', '3.9', '3.9', '3.9', '3.7', '3.8', '4.3']"
      ]
     },
     "execution_count": 382,
     "metadata": {},
     "output_type": "execute_result"
    }
   ],
   "source": [
    "rating01 = []\n",
    "for i in soup.find_all('div',class_=\"restnt-rating rating-4\"):\n",
    "    rating01.append(i.text)\n",
    "\n",
    "rating01"
   ]
  },
  {
   "cell_type": "code",
   "execution_count": 384,
   "id": "93873a2b",
   "metadata": {},
   "outputs": [
    {
     "data": {
      "text/plain": [
       "['https://im1.dineout.co.in/images/uploads/restaurant/sharpen/8/k/b/p86792-16062953735fbe1f4d3fb7e.jpg?tr=tr:n-medium',\n",
       " 'https://im1.dineout.co.in/images/uploads/restaurant/sharpen/5/p/m/p59633-166088382462ff137009010.jpg?tr=tr:n-medium',\n",
       " 'https://im1.dineout.co.in/images/uploads/restaurant/sharpen/4/p/m/p406-15438184745c04ccea491bc.jpg?tr=tr:n-medium',\n",
       " 'https://im1.dineout.co.in/images/uploads/restaurant/sharpen/3/j/o/p38113-15959192065f1fcb666130c.jpg?tr=tr:n-medium',\n",
       " 'https://im1.dineout.co.in/images/uploads/restaurant/sharpen/7/p/k/p79307-16051787755fad1597f2bf9.jpg?tr=tr:n-medium',\n",
       " 'https://im1.dineout.co.in/images/uploads/restaurant/sharpen/2/v/t/p2687-1482477169585cce712b90f.jpg?tr=tr:n-medium',\n",
       " 'https://im1.dineout.co.in/images/uploads/restaurant/sharpen/5/d/i/p52501-1661855212630de5eceb6d2.jpg?tr=tr:n-medium',\n",
       " 'https://im1.dineout.co.in/images/uploads/restaurant/sharpen/3/n/o/p34822-15599107305cfa594a13c24.jpg?tr=tr:n-medium',\n",
       " 'https://im1.dineout.co.in/images/uploads/restaurant/sharpen/5/y/f/p549-165000147262590640c0afc.jpg?tr=tr:n-medium']"
      ]
     },
     "execution_count": 384,
     "metadata": {},
     "output_type": "execute_result"
    }
   ],
   "source": [
    "image = []\n",
    "for i in soup.find_all('img',class_=\"no-img\"):\n",
    "    image.append(i.get('data-src'))\n",
    "\n",
    "image"
   ]
  },
  {
   "cell_type": "code",
   "execution_count": 385,
   "id": "124d83c8",
   "metadata": {
    "scrolled": true
   },
   "outputs": [
    {
     "data": {
      "text/html": [
       "<div>\n",
       "<style scoped>\n",
       "    .dataframe tbody tr th:only-of-type {\n",
       "        vertical-align: middle;\n",
       "    }\n",
       "\n",
       "    .dataframe tbody tr th {\n",
       "        vertical-align: top;\n",
       "    }\n",
       "\n",
       "    .dataframe thead th {\n",
       "        text-align: right;\n",
       "    }\n",
       "</style>\n",
       "<table border=\"1\" class=\"dataframe\">\n",
       "  <thead>\n",
       "    <tr style=\"text-align: right;\">\n",
       "      <th></th>\n",
       "      <th>Restaurant name</th>\n",
       "      <th>Cuisine</th>\n",
       "      <th>Location</th>\n",
       "      <th>Rating</th>\n",
       "      <th>Image URL</th>\n",
       "    </tr>\n",
       "  </thead>\n",
       "  <tbody>\n",
       "    <tr>\n",
       "      <th>0</th>\n",
       "      <td>Castle Barbeque</td>\n",
       "      <td>Chinese, North Indian</td>\n",
       "      <td>Connaught Place, Central Delhi</td>\n",
       "      <td>4</td>\n",
       "      <td>https://im1.dineout.co.in/images/uploads/resta...</td>\n",
       "    </tr>\n",
       "    <tr>\n",
       "      <th>1</th>\n",
       "      <td>Jungle Jamboree</td>\n",
       "      <td>North Indian, Asian, Italian</td>\n",
       "      <td>3CS Mall,Lajpat Nagar - 3, South Delhi</td>\n",
       "      <td>3.9</td>\n",
       "      <td>https://im1.dineout.co.in/images/uploads/resta...</td>\n",
       "    </tr>\n",
       "    <tr>\n",
       "      <th>2</th>\n",
       "      <td>Cafe Knosh</td>\n",
       "      <td>Italian, Continental</td>\n",
       "      <td>The Leela Ambience Convention Hotel,Shahdara, ...</td>\n",
       "      <td>4.3</td>\n",
       "      <td>https://im1.dineout.co.in/images/uploads/resta...</td>\n",
       "    </tr>\n",
       "    <tr>\n",
       "      <th>3</th>\n",
       "      <td>Castle Barbeque</td>\n",
       "      <td>Chinese, North Indian</td>\n",
       "      <td>Pacific Mall,Tagore Garden, West Delhi</td>\n",
       "      <td>3.9</td>\n",
       "      <td>https://im1.dineout.co.in/images/uploads/resta...</td>\n",
       "    </tr>\n",
       "    <tr>\n",
       "      <th>4</th>\n",
       "      <td>The Barbeque Company</td>\n",
       "      <td>North Indian, Chinese</td>\n",
       "      <td>Gardens Galleria,Sector 38A, Noida</td>\n",
       "      <td>3.9</td>\n",
       "      <td>https://im1.dineout.co.in/images/uploads/resta...</td>\n",
       "    </tr>\n",
       "    <tr>\n",
       "      <th>5</th>\n",
       "      <td>India Grill</td>\n",
       "      <td>North Indian, Italian</td>\n",
       "      <td>Hilton Garden Inn,Saket, South Delhi</td>\n",
       "      <td>3.9</td>\n",
       "      <td>https://im1.dineout.co.in/images/uploads/resta...</td>\n",
       "    </tr>\n",
       "    <tr>\n",
       "      <th>6</th>\n",
       "      <td>Delhi Barbeque</td>\n",
       "      <td>North Indian</td>\n",
       "      <td>Taurus Sarovar Portico,Mahipalpur, South Delhi</td>\n",
       "      <td>3.7</td>\n",
       "      <td>https://im1.dineout.co.in/images/uploads/resta...</td>\n",
       "    </tr>\n",
       "    <tr>\n",
       "      <th>7</th>\n",
       "      <td>The Monarch - Bar Be Que Village</td>\n",
       "      <td>North Indian</td>\n",
       "      <td>Indirapuram Habitat Centre,Indirapuram, Ghaziabad</td>\n",
       "      <td>3.8</td>\n",
       "      <td>https://im1.dineout.co.in/images/uploads/resta...</td>\n",
       "    </tr>\n",
       "    <tr>\n",
       "      <th>8</th>\n",
       "      <td>Indian Grill Room</td>\n",
       "      <td>North Indian, Mughlai</td>\n",
       "      <td>Suncity Business Tower,Golf Course Road, Gurgaon</td>\n",
       "      <td>4.3</td>\n",
       "      <td>https://im1.dineout.co.in/images/uploads/resta...</td>\n",
       "    </tr>\n",
       "  </tbody>\n",
       "</table>\n",
       "</div>"
      ],
      "text/plain": [
       "                    Restaurant name                       Cuisine  \\\n",
       "0                   Castle Barbeque         Chinese, North Indian   \n",
       "1                   Jungle Jamboree  North Indian, Asian, Italian   \n",
       "2                        Cafe Knosh          Italian, Continental   \n",
       "3                   Castle Barbeque         Chinese, North Indian   \n",
       "4              The Barbeque Company         North Indian, Chinese   \n",
       "5                       India Grill         North Indian, Italian   \n",
       "6                    Delhi Barbeque                  North Indian   \n",
       "7  The Monarch - Bar Be Que Village                  North Indian   \n",
       "8                 Indian Grill Room         North Indian, Mughlai   \n",
       "\n",
       "                                            Location Rating  \\\n",
       "0                     Connaught Place, Central Delhi      4   \n",
       "1             3CS Mall,Lajpat Nagar - 3, South Delhi    3.9   \n",
       "2  The Leela Ambience Convention Hotel,Shahdara, ...    4.3   \n",
       "3             Pacific Mall,Tagore Garden, West Delhi    3.9   \n",
       "4                 Gardens Galleria,Sector 38A, Noida    3.9   \n",
       "5               Hilton Garden Inn,Saket, South Delhi    3.9   \n",
       "6     Taurus Sarovar Portico,Mahipalpur, South Delhi    3.7   \n",
       "7  Indirapuram Habitat Centre,Indirapuram, Ghaziabad    3.8   \n",
       "8   Suncity Business Tower,Golf Course Road, Gurgaon    4.3   \n",
       "\n",
       "                                           Image URL  \n",
       "0  https://im1.dineout.co.in/images/uploads/resta...  \n",
       "1  https://im1.dineout.co.in/images/uploads/resta...  \n",
       "2  https://im1.dineout.co.in/images/uploads/resta...  \n",
       "3  https://im1.dineout.co.in/images/uploads/resta...  \n",
       "4  https://im1.dineout.co.in/images/uploads/resta...  \n",
       "5  https://im1.dineout.co.in/images/uploads/resta...  \n",
       "6  https://im1.dineout.co.in/images/uploads/resta...  \n",
       "7  https://im1.dineout.co.in/images/uploads/resta...  \n",
       "8  https://im1.dineout.co.in/images/uploads/resta...  "
      ]
     },
     "execution_count": 385,
     "metadata": {},
     "output_type": "execute_result"
    }
   ],
   "source": [
    "df12 = pd.DataFrame({'Restaurant name':r_name,'Cuisine':cuisine1,'Location':location,'Rating':rating01,'Image URL':image})\n",
    "df12"
   ]
  },
  {
   "cell_type": "code",
   "execution_count": null,
   "id": "93412e4c",
   "metadata": {},
   "outputs": [],
   "source": []
  }
 ],
 "metadata": {
  "kernelspec": {
   "display_name": "Python 3 (ipykernel)",
   "language": "python",
   "name": "python3"
  },
  "language_info": {
   "codemirror_mode": {
    "name": "ipython",
    "version": 3
   },
   "file_extension": ".py",
   "mimetype": "text/x-python",
   "name": "python",
   "nbconvert_exporter": "python",
   "pygments_lexer": "ipython3",
   "version": "3.9.12"
  }
 },
 "nbformat": 4,
 "nbformat_minor": 5
}
